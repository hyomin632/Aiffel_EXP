{
 "cells": [
  {
   "cell_type": "code",
   "execution_count": 49,
   "id": "928e0562",
   "metadata": {},
   "outputs": [
    {
     "name": "stderr",
     "output_type": "stream",
     "text": [
      "[nltk_data] Downloading package stopwords to /aiffel/nltk_data...\n",
      "[nltk_data]   Package stopwords is already up-to-date!\n"
     ]
    }
   ],
   "source": [
    "import nltk\n",
    "nltk.download('stopwords')\n",
    "\n",
    "import numpy as np\n",
    "import pandas as pd\n",
    "import os\n",
    "import re\n",
    "import matplotlib.pyplot as plt\n",
    "from nltk.corpus import stopwords\n",
    "from bs4 import BeautifulSoup \n",
    "from tensorflow.keras.preprocessing.text import Tokenizer \n",
    "from tensorflow.keras.preprocessing.sequence import pad_sequences\n",
    "import urllib.request\n",
    "import warnings\n",
    "warnings.filterwarnings(\"ignore\", category=UserWarning, module='bs4')"
   ]
  },
  {
   "cell_type": "markdown",
   "id": "3dd6427b",
   "metadata": {},
   "source": [
    "## 데이터 샘플 갯수 확인"
   ]
  },
  {
   "cell_type": "code",
   "execution_count": 50,
   "id": "720e50bf",
   "metadata": {},
   "outputs": [
    {
     "name": "stdout",
     "output_type": "stream",
     "text": [
      "전체 샘플수 : 98401\n"
     ]
    }
   ],
   "source": [
    "urllib.request.urlretrieve(\"https://raw.githubusercontent.com/sunnysai12345/News_Summary/master/news_summary_more.csv\", filename=\"news_summary_more.csv\")\n",
    "data = pd.read_csv('news_summary_more.csv', encoding='iso-8859-1')\n",
    "print('전체 샘플수 :', (len(data)))"
   ]
  },
  {
   "cell_type": "code",
   "execution_count": 51,
   "id": "4ecab7af",
   "metadata": {},
   "outputs": [
    {
     "data": {
      "text/html": [
       "<div>\n",
       "<style scoped>\n",
       "    .dataframe tbody tr th:only-of-type {\n",
       "        vertical-align: middle;\n",
       "    }\n",
       "\n",
       "    .dataframe tbody tr th {\n",
       "        vertical-align: top;\n",
       "    }\n",
       "\n",
       "    .dataframe thead th {\n",
       "        text-align: right;\n",
       "    }\n",
       "</style>\n",
       "<table border=\"1\" class=\"dataframe\">\n",
       "  <thead>\n",
       "    <tr style=\"text-align: right;\">\n",
       "      <th></th>\n",
       "      <th>headlines</th>\n",
       "      <th>text</th>\n",
       "    </tr>\n",
       "  </thead>\n",
       "  <tbody>\n",
       "    <tr>\n",
       "      <th>0</th>\n",
       "      <td>upGrad learner switches to career in ML &amp; Al w...</td>\n",
       "      <td>Saurav Kant, an alumnus of upGrad and IIIT-B's...</td>\n",
       "    </tr>\n",
       "    <tr>\n",
       "      <th>1</th>\n",
       "      <td>Delhi techie wins free food from Swiggy for on...</td>\n",
       "      <td>Kunal Shah's credit card bill payment platform...</td>\n",
       "    </tr>\n",
       "    <tr>\n",
       "      <th>2</th>\n",
       "      <td>New Zealand end Rohit Sharma-led India's 12-ma...</td>\n",
       "      <td>New Zealand defeated India by 8 wickets in the...</td>\n",
       "    </tr>\n",
       "    <tr>\n",
       "      <th>3</th>\n",
       "      <td>Aegon life iTerm insurance plan helps customer...</td>\n",
       "      <td>With Aegon Life iTerm Insurance plan, customer...</td>\n",
       "    </tr>\n",
       "    <tr>\n",
       "      <th>4</th>\n",
       "      <td>Have known Hirani for yrs, what if MeToo claim...</td>\n",
       "      <td>Speaking about the sexual harassment allegatio...</td>\n",
       "    </tr>\n",
       "  </tbody>\n",
       "</table>\n",
       "</div>"
      ],
      "text/plain": [
       "                                           headlines  \\\n",
       "0  upGrad learner switches to career in ML & Al w...   \n",
       "1  Delhi techie wins free food from Swiggy for on...   \n",
       "2  New Zealand end Rohit Sharma-led India's 12-ma...   \n",
       "3  Aegon life iTerm insurance plan helps customer...   \n",
       "4  Have known Hirani for yrs, what if MeToo claim...   \n",
       "\n",
       "                                                text  \n",
       "0  Saurav Kant, an alumnus of upGrad and IIIT-B's...  \n",
       "1  Kunal Shah's credit card bill payment platform...  \n",
       "2  New Zealand defeated India by 8 wickets in the...  \n",
       "3  With Aegon Life iTerm Insurance plan, customer...  \n",
       "4  Speaking about the sexual harassment allegatio...  "
      ]
     },
     "execution_count": 51,
     "metadata": {},
     "output_type": "execute_result"
    }
   ],
   "source": [
    "data.head()"
   ]
  },
  {
   "cell_type": "code",
   "execution_count": 52,
   "id": "e71335ec",
   "metadata": {},
   "outputs": [
    {
     "data": {
      "text/html": [
       "<div>\n",
       "<style scoped>\n",
       "    .dataframe tbody tr th:only-of-type {\n",
       "        vertical-align: middle;\n",
       "    }\n",
       "\n",
       "    .dataframe tbody tr th {\n",
       "        vertical-align: top;\n",
       "    }\n",
       "\n",
       "    .dataframe thead th {\n",
       "        text-align: right;\n",
       "    }\n",
       "</style>\n",
       "<table border=\"1\" class=\"dataframe\">\n",
       "  <thead>\n",
       "    <tr style=\"text-align: right;\">\n",
       "      <th></th>\n",
       "      <th>headlines</th>\n",
       "      <th>text</th>\n",
       "    </tr>\n",
       "  </thead>\n",
       "  <tbody>\n",
       "    <tr>\n",
       "      <th>67291</th>\n",
       "      <td>Indian startup offers travel services to disab...</td>\n",
       "      <td>Indian startup Enable Travel offers travel ser...</td>\n",
       "    </tr>\n",
       "    <tr>\n",
       "      <th>55538</th>\n",
       "      <td>What is the anti-smog gun being used to counte...</td>\n",
       "      <td>An 'anti-smog gun' was tested on Wednesday by ...</td>\n",
       "    </tr>\n",
       "    <tr>\n",
       "      <th>38146</th>\n",
       "      <td>2 brothers beaten to death over not paying for...</td>\n",
       "      <td>A group of people allegedly beat two brothers ...</td>\n",
       "    </tr>\n",
       "    <tr>\n",
       "      <th>88967</th>\n",
       "      <td>Man Utd suffer 2nd straight loss after 25-matc...</td>\n",
       "      <td>Tottenham Hotspur defeated Manchester United 2...</td>\n",
       "    </tr>\n",
       "    <tr>\n",
       "      <th>89577</th>\n",
       "      <td>Centre asked to secure Mallya's presence in SC...</td>\n",
       "      <td>The Supreme Court has directed the Home Minist...</td>\n",
       "    </tr>\n",
       "    <tr>\n",
       "      <th>41200</th>\n",
       "      <td>Tesla criticised for revealing Autopilot was o...</td>\n",
       "      <td>Tesla has been criticised by the US National T...</td>\n",
       "    </tr>\n",
       "    <tr>\n",
       "      <th>81117</th>\n",
       "      <td>North Korea unlikely to have ICBM technology:...</td>\n",
       "      <td>North Korea does not appear to have the techno...</td>\n",
       "    </tr>\n",
       "    <tr>\n",
       "      <th>36563</th>\n",
       "      <td>Gayle was not picked as RCB considered its fut...</td>\n",
       "      <td>Revealing the reason behind Chris Gayle's snub...</td>\n",
       "    </tr>\n",
       "    <tr>\n",
       "      <th>83712</th>\n",
       "      <td>Jason Roy first in T20Is to be out for obstruc...</td>\n",
       "      <td>England opener Jason Roy became the first T20I...</td>\n",
       "    </tr>\n",
       "    <tr>\n",
       "      <th>59521</th>\n",
       "      <td>Assam minister issues apology for 'sins cause ...</td>\n",
       "      <td>Assam Health Minister Himanta Biswa Sarma has ...</td>\n",
       "    </tr>\n",
       "  </tbody>\n",
       "</table>\n",
       "</div>"
      ],
      "text/plain": [
       "                                               headlines  \\\n",
       "67291  Indian startup offers travel services to disab...   \n",
       "55538  What is the anti-smog gun being used to counte...   \n",
       "38146  2 brothers beaten to death over not paying for...   \n",
       "88967  Man Utd suffer 2nd straight loss after 25-matc...   \n",
       "89577  Centre asked to secure Mallya's presence in SC...   \n",
       "41200  Tesla criticised for revealing Autopilot was o...   \n",
       "81117   North Korea unlikely to have ICBM technology:...   \n",
       "36563  Gayle was not picked as RCB considered its fut...   \n",
       "83712  Jason Roy first in T20Is to be out for obstruc...   \n",
       "59521  Assam minister issues apology for 'sins cause ...   \n",
       "\n",
       "                                                    text  \n",
       "67291  Indian startup Enable Travel offers travel ser...  \n",
       "55538  An 'anti-smog gun' was tested on Wednesday by ...  \n",
       "38146  A group of people allegedly beat two brothers ...  \n",
       "88967  Tottenham Hotspur defeated Manchester United 2...  \n",
       "89577  The Supreme Court has directed the Home Minist...  \n",
       "41200  Tesla has been criticised by the US National T...  \n",
       "81117  North Korea does not appear to have the techno...  \n",
       "36563  Revealing the reason behind Chris Gayle's snub...  \n",
       "83712  England opener Jason Roy became the first T20I...  \n",
       "59521  Assam Health Minister Himanta Biswa Sarma has ...  "
      ]
     },
     "execution_count": 52,
     "metadata": {},
     "output_type": "execute_result"
    }
   ],
   "source": [
    "data = data[['headlines','text']]\n",
    "data.head()\n",
    "\n",
    "#랜덤한 10개 샘플 출력\n",
    "data.sample(10)"
   ]
  },
  {
   "cell_type": "markdown",
   "id": "2ad870ed",
   "metadata": {},
   "source": [
    "## 데이터 전처리 (추상적 요약)"
   ]
  },
  {
   "cell_type": "code",
   "execution_count": 53,
   "id": "0cecdb69",
   "metadata": {},
   "outputs": [
    {
     "name": "stdout",
     "output_type": "stream",
     "text": [
      "headlines 열에서 중복을 배제한 유일한 샘플의 수 : 98280\n",
      "text 열에서 중복을 배제한 유일한 샘플의 수 : 98360\n"
     ]
    }
   ],
   "source": [
    "# 중복 값과 null 값 제거\n",
    "print('headlines 열에서 중복을 배제한 유일한 샘플의 수 :', data['headlines'].nunique())\n",
    "print('text 열에서 중복을 배제한 유일한 샘플의 수 :', data['text'].nunique())"
   ]
  },
  {
   "cell_type": "code",
   "execution_count": 54,
   "id": "6957e661",
   "metadata": {},
   "outputs": [
    {
     "name": "stdout",
     "output_type": "stream",
     "text": [
      "전체 샘플수 : 98280\n"
     ]
    }
   ],
   "source": [
    "# 데이터프레임으로 중복 값 제거\n",
    "data.drop_duplicates(subset = ['headlines'], inplace=True)\n",
    "print('전체 샘플수 :', (len(data)))"
   ]
  },
  {
   "cell_type": "code",
   "execution_count": 55,
   "id": "ed5f252c",
   "metadata": {},
   "outputs": [
    {
     "name": "stdout",
     "output_type": "stream",
     "text": [
      "전체 샘플수 : 98262\n"
     ]
    }
   ],
   "source": [
    "# 데이터프레임으로 중복 값 제거\n",
    "data.drop_duplicates(subset = ['text'], inplace=True)\n",
    "print('전체 샘플수 :', (len(data)))"
   ]
  },
  {
   "cell_type": "code",
   "execution_count": 56,
   "id": "de14913b",
   "metadata": {},
   "outputs": [
    {
     "name": "stdout",
     "output_type": "stream",
     "text": [
      "headlines    0\n",
      "text         0\n",
      "dtype: int64\n"
     ]
    }
   ],
   "source": [
    "# null 값 확인\n",
    "print(data.isnull().sum())"
   ]
  },
  {
   "cell_type": "code",
   "execution_count": 57,
   "id": "1a2b8c02",
   "metadata": {},
   "outputs": [
    {
     "name": "stdout",
     "output_type": "stream",
     "text": [
      "정규화 사전의 수:  120\n"
     ]
    }
   ],
   "source": [
    "# 텍스트 정규화 사전\n",
    "contractions = {\"ain't\": \"is not\", \"aren't\": \"are not\",\"can't\": \"cannot\", \"'cause\": \"because\", \"could've\": \"could have\", \"couldn't\": \"could not\",\n",
    "                           \"didn't\": \"did not\",  \"doesn't\": \"does not\", \"don't\": \"do not\", \"hadn't\": \"had not\", \"hasn't\": \"has not\", \"haven't\": \"have not\",\n",
    "                           \"he'd\": \"he would\",\"he'll\": \"he will\", \"he's\": \"he is\", \"how'd\": \"how did\", \"how'd'y\": \"how do you\", \"how'll\": \"how will\", \"how's\": \"how is\",\n",
    "                           \"I'd\": \"I would\", \"I'd've\": \"I would have\", \"I'll\": \"I will\", \"I'll've\": \"I will have\",\"I'm\": \"I am\", \"I've\": \"I have\", \"i'd\": \"i would\",\n",
    "                           \"i'd've\": \"i would have\", \"i'll\": \"i will\",  \"i'll've\": \"i will have\",\"i'm\": \"i am\", \"i've\": \"i have\", \"isn't\": \"is not\", \"it'd\": \"it would\",\n",
    "                           \"it'd've\": \"it would have\", \"it'll\": \"it will\", \"it'll've\": \"it will have\",\"it's\": \"it is\", \"let's\": \"let us\", \"ma'am\": \"madam\",\n",
    "                           \"mayn't\": \"may not\", \"might've\": \"might have\",\"mightn't\": \"might not\",\"mightn't've\": \"might not have\", \"must've\": \"must have\",\n",
    "                           \"mustn't\": \"must not\", \"mustn't've\": \"must not have\", \"needn't\": \"need not\", \"needn't've\": \"need not have\",\"o'clock\": \"of the clock\",\n",
    "                           \"oughtn't\": \"ought not\", \"oughtn't've\": \"ought not have\", \"shan't\": \"shall not\", \"sha'n't\": \"shall not\", \"shan't've\": \"shall not have\",\n",
    "                           \"she'd\": \"she would\", \"she'd've\": \"she would have\", \"she'll\": \"she will\", \"she'll've\": \"she will have\", \"she's\": \"she is\",\n",
    "                           \"should've\": \"should have\", \"shouldn't\": \"should not\", \"shouldn't've\": \"should not have\", \"so've\": \"so have\",\"so's\": \"so as\",\n",
    "                           \"this's\": \"this is\",\"that'd\": \"that would\", \"that'd've\": \"that would have\", \"that's\": \"that is\", \"there'd\": \"there would\",\n",
    "                           \"there'd've\": \"there would have\", \"there's\": \"there is\", \"here's\": \"here is\",\"they'd\": \"they would\", \"they'd've\": \"they would have\",\n",
    "                           \"they'll\": \"they will\", \"they'll've\": \"they will have\", \"they're\": \"they are\", \"they've\": \"they have\", \"to've\": \"to have\",\n",
    "                           \"wasn't\": \"was not\", \"we'd\": \"we would\", \"we'd've\": \"we would have\", \"we'll\": \"we will\", \"we'll've\": \"we will have\", \"we're\": \"we are\",\n",
    "                           \"we've\": \"we have\", \"weren't\": \"were not\", \"what'll\": \"what will\", \"what'll've\": \"what will have\", \"what're\": \"what are\",\n",
    "                           \"what's\": \"what is\", \"what've\": \"what have\", \"when's\": \"when is\", \"when've\": \"when have\", \"where'd\": \"where did\", \"where's\": \"where is\",\n",
    "                           \"where've\": \"where have\", \"who'll\": \"who will\", \"who'll've\": \"who will have\", \"who's\": \"who is\", \"who've\": \"who have\",\n",
    "                           \"why's\": \"why is\", \"why've\": \"why have\", \"will've\": \"will have\", \"won't\": \"will not\", \"won't've\": \"will not have\",\n",
    "                           \"would've\": \"would have\", \"wouldn't\": \"would not\", \"wouldn't've\": \"would not have\", \"y'all\": \"you all\",\n",
    "                           \"y'all'd\": \"you all would\",\"y'all'd've\": \"you all would have\",\"y'all're\": \"you all are\",\"y'all've\": \"you all have\",\n",
    "                           \"you'd\": \"you would\", \"you'd've\": \"you would have\", \"you'll\": \"you will\", \"you'll've\": \"you will have\",\n",
    "                           \"you're\": \"you are\", \"you've\": \"you have\"}\n",
    "\n",
    "print(\"정규화 사전의 수: \", len(contractions))"
   ]
  },
  {
   "cell_type": "code",
   "execution_count": 58,
   "id": "63e4ab2b",
   "metadata": {},
   "outputs": [
    {
     "name": "stdout",
     "output_type": "stream",
     "text": [
      "불용어 개수 : 179\n",
      "['i', 'me', 'my', 'myself', 'we', 'our', 'ours', 'ourselves', 'you', \"you're\", \"you've\", \"you'll\", \"you'd\", 'your', 'yours', 'yourself', 'yourselves', 'he', 'him', 'his', 'himself', 'she', \"she's\", 'her', 'hers', 'herself', 'it', \"it's\", 'its', 'itself', 'they', 'them', 'their', 'theirs', 'themselves', 'what', 'which', 'who', 'whom', 'this', 'that', \"that'll\", 'these', 'those', 'am', 'is', 'are', 'was', 'were', 'be', 'been', 'being', 'have', 'has', 'had', 'having', 'do', 'does', 'did', 'doing', 'a', 'an', 'the', 'and', 'but', 'if', 'or', 'because', 'as', 'until', 'while', 'of', 'at', 'by', 'for', 'with', 'about', 'against', 'between', 'into', 'through', 'during', 'before', 'after', 'above', 'below', 'to', 'from', 'up', 'down', 'in', 'out', 'on', 'off', 'over', 'under', 'again', 'further', 'then', 'once', 'here', 'there', 'when', 'where', 'why', 'how', 'all', 'any', 'both', 'each', 'few', 'more', 'most', 'other', 'some', 'such', 'no', 'nor', 'not', 'only', 'own', 'same', 'so', 'than', 'too', 'very', 's', 't', 'can', 'will', 'just', 'don', \"don't\", 'should', \"should've\", 'now', 'd', 'll', 'm', 'o', 're', 've', 'y', 'ain', 'aren', \"aren't\", 'couldn', \"couldn't\", 'didn', \"didn't\", 'doesn', \"doesn't\", 'hadn', \"hadn't\", 'hasn', \"hasn't\", 'haven', \"haven't\", 'isn', \"isn't\", 'ma', 'mightn', \"mightn't\", 'mustn', \"mustn't\", 'needn', \"needn't\", 'shan', \"shan't\", 'shouldn', \"shouldn't\", 'wasn', \"wasn't\", 'weren', \"weren't\", 'won', \"won't\", 'wouldn', \"wouldn't\"]\n"
     ]
    }
   ],
   "source": [
    "# 불용어 제거\n",
    "print('불용어 개수 :', len(stopwords.words('english') ))\n",
    "print(stopwords.words('english'))"
   ]
  },
  {
   "cell_type": "code",
   "execution_count": 59,
   "id": "d19c0b5f",
   "metadata": {},
   "outputs": [
    {
     "name": "stdout",
     "output_type": "stream",
     "text": [
      "전처리 완료!\n"
     ]
    }
   ],
   "source": [
    "# 데이터 전처리 함수\n",
    "def preprocess_sentence(sentence, remove_stopwords=True):\n",
    "    sentence = sentence.lower() # 텍스트 소문자화\n",
    "    sentence = BeautifulSoup(sentence, \"lxml\").text # <br />, <a href = ...> 등의 html 태그 제거\n",
    "    sentence = re.sub(r'\\([^)]*\\)', '', sentence) # 괄호로 닫힌 문자열 (...) 제거 Ex) my husband (and myself!) for => my husband for\n",
    "    sentence = re.sub('\"','', sentence) # 쌍따옴표 \" 제거\n",
    "    sentence = ' '.join([contractions[t] if t in contractions else t for t in sentence.split(\" \")]) # 약어 정규화\n",
    "    sentence = re.sub(r\"'s\\b\",\"\", sentence) # 소유격 제거. Ex) roland's -> roland\n",
    "    sentence = re.sub(\"[^a-zA-Z]\", \" \", sentence) # 영어 외 문자(숫자, 특수문자 등) 공백으로 변환\n",
    "    sentence = re.sub('[m]{2,}', 'mm', sentence) # m이 3개 이상이면 2개로 변경. Ex) ummmmmmm yeah -> umm yeah\n",
    "    \n",
    "    # 불용어 제거 (Text)\n",
    "    if remove_stopwords:\n",
    "        tokens = ' '.join(word for word in sentence.split() if not word in stopwords.words('english') if len(word) > 1)\n",
    "    # 불용어 미제거 (Summary)\n",
    "    else:\n",
    "        tokens = ' '.join(word for word in sentence.split() if len(word) > 1)\n",
    "    return tokens\n",
    "print('전처리 완료!')"
   ]
  },
  {
   "cell_type": "code",
   "execution_count": 60,
   "id": "cf9e43db",
   "metadata": {},
   "outputs": [
    {
     "name": "stdout",
     "output_type": "stream",
     "text": [
      "headlines 전처리 후 결과:  ['upgrad learner switches to career in ml al with salary hike', 'delhi techie wins free food from swiggy for one year on cred', 'new zealand end rohit sharma led india match winning streak', 'aegon life iterm insurance plan helps customers save tax', 'have known hirani for yrs what if metoo claims are not true sonam']\n"
     ]
    }
   ],
   "source": [
    "clean_headlines = []\n",
    "\n",
    "for s in data['headlines']:\n",
    "    clean_headlines.append(preprocess_sentence(s, False))\n",
    "\n",
    "# 전처리 후 출력\n",
    "print(\"headlines 전처리 후 결과: \", clean_headlines[:5])"
   ]
  },
  {
   "cell_type": "code",
   "execution_count": 61,
   "id": "0835cee7",
   "metadata": {},
   "outputs": [
    {
     "name": "stdout",
     "output_type": "stream",
     "text": [
      "text 전처리 후 결과:  ['saurav kant alumnus upgrad iiit pg program machine learning artificial intelligence sr systems engineer infosys almost years work experience program upgrad degree career support helped transition data scientist tech mahindra salary hike upgrad online power learning powered lakh careers', 'kunal shah credit card bill payment platform cred gave users chance win free food swiggy one year pranav kaushik delhi techie bagged reward spending cred coins users get one cred coin per rupee bill paid used avail rewards brands like ixigo bookmyshow ubereats cult fit', 'new zealand defeated india wickets fourth odi hamilton thursday win first match five match odi series india lost international match rohit sharma captaincy consecutive victories dating back march match witnessed india getting seventh lowest total odi cricket history', 'aegon life iterm insurance plan customers enjoy tax benefits premiums paid save taxes plan provides life cover age years also customers options insure critical illnesses disability accidental death benefit rider life cover age years', 'speaking sexual harassment allegations rajkumar hirani sonam kapoor said known hirani many years true metoo movement get derailed metoo movement always believe woman case need reserve judgment added hirani accused assistant worked sanju']\n"
     ]
    }
   ],
   "source": [
    "clean_text = []\n",
    "\n",
    "for s in data['text']:\n",
    "    clean_text.append(preprocess_sentence(s))\n",
    "\n",
    "print(\"text 전처리 후 결과: \", clean_text[:5])"
   ]
  },
  {
   "cell_type": "code",
   "execution_count": 62,
   "id": "2a88cad9",
   "metadata": {},
   "outputs": [
    {
     "name": "stdout",
     "output_type": "stream",
     "text": [
      "완료!\n"
     ]
    }
   ],
   "source": [
    "data['headlines'] = clean_headlines\n",
    "data['text'] = clean_text\n",
    "\n",
    "# 빈 값을 Null 값으로 변환\n",
    "data.replace('', np.nan, inplace=True)\n",
    "print('완료!')"
   ]
  },
  {
   "cell_type": "code",
   "execution_count": 63,
   "id": "4caced82",
   "metadata": {},
   "outputs": [
    {
     "data": {
      "text/plain": [
       "headlines    0\n",
       "text         0\n",
       "dtype: int64"
      ]
     },
     "execution_count": 63,
     "metadata": {},
     "output_type": "execute_result"
    }
   ],
   "source": [
    "# null 값 확인\n",
    "data.isnull().sum()"
   ]
  },
  {
   "cell_type": "code",
   "execution_count": 64,
   "id": "7b1261ba",
   "metadata": {},
   "outputs": [
    {
     "name": "stdout",
     "output_type": "stream",
     "text": [
      "헤드라인의 최소 길이 : 1\n",
      "헤드라인의 최대 길이 : 16\n",
      "헤드라인의 평균 길이 : 9.299444342675704\n",
      "텍스트의 최소 길이 : 1\n",
      "텍스트의 최대 길이 : 60\n",
      "텍스트의 평균 길이 : 35.10029309397326\n"
     ]
    },
    {
     "data": {
      "image/png": "[encoded data removed]",
      "text/plain": [
       "<Figure size 432x288 with 2 Axes>"
      ]
     },
     "metadata": {
      "needs_background": "light"
     },
     "output_type": "display_data"
    },
    {
     "data": {
      "image/png": "[encoded data removed]",
      "text/plain": [
       "<Figure size 432x288 with 1 Axes>"
      ]
     },
     "metadata": {
      "needs_background": "light"
     },
     "output_type": "display_data"
    },
    {
     "data": {
      "image/png": "[encoded data removed]",
      "text/plain": [
       "<Figure size 432x288 with 1 Axes>"
      ]
     },
     "metadata": {
      "needs_background": "light"
     },
     "output_type": "display_data"
    }
   ],
   "source": [
    "# 샘플 최대 길이 정하기\n",
    "# 길이 분포 출력\n",
    "import matplotlib.pyplot as plt\n",
    "\n",
    "headines_len = [len(s.split()) for s in data['headlines']]\n",
    "text_len = [len(s.split()) for s in data['text']]\n",
    "\n",
    "print('헤드라인의 최소 길이 : {}'.format(np.min(headines_len)))\n",
    "print('헤드라인의 최대 길이 : {}'.format(np.max(headines_len)))\n",
    "print('헤드라인의 평균 길이 : {}'.format(np.mean(headines_len)))\n",
    "print('텍스트의 최소 길이 : {}'.format(np.min(text_len)))\n",
    "print('텍스트의 최대 길이 : {}'.format(np.max(text_len)))\n",
    "print('텍스트의 평균 길이 : {}'.format(np.mean(text_len)))\n",
    "\n",
    "plt.subplot(1,2,1)\n",
    "plt.boxplot(headines_len)\n",
    "plt.title('headlines')\n",
    "plt.subplot(1,2,2)\n",
    "plt.boxplot(text_len)\n",
    "plt.title('text')\n",
    "plt.tight_layout()\n",
    "plt.show()\n",
    "\n",
    "plt.title('headlines')\n",
    "plt.hist(headines_len, bins = 40)\n",
    "plt.xlabel('length of samples')\n",
    "plt.ylabel('number of samples')\n",
    "plt.show()\n",
    "\n",
    "plt.title('text')\n",
    "plt.hist(text_len, bins = 40)\n",
    "plt.xlabel('length of samples')\n",
    "plt.ylabel('number of samples')\n",
    "plt.show()"
   ]
  },
  {
   "cell_type": "code",
   "execution_count": 65,
   "id": "8fff7efe",
   "metadata": {},
   "outputs": [
    {
     "name": "stdout",
     "output_type": "stream",
     "text": [
      "완료!\n"
     ]
    }
   ],
   "source": [
    "# 텍스트 길이 정하기\n",
    "headlines_max_len = 14 \n",
    "text_max_len = 48\n",
    "print('완료!')"
   ]
  },
  {
   "cell_type": "code",
   "execution_count": 66,
   "id": "7ac68a06",
   "metadata": {},
   "outputs": [
    {
     "name": "stdout",
     "output_type": "stream",
     "text": [
      "결과는?!\n"
     ]
    }
   ],
   "source": [
    "def below_threshold_len(max_len, nested_list):\n",
    "  cnt = 0\n",
    "  for s in nested_list:\n",
    "    if(len(s.split()) <= max_len):\n",
    "        cnt = cnt + 1\n",
    "  print('전체 샘플 중 길이가 %s 이하인 샘플의 비율: %s'%(max_len, (cnt / len(nested_list))))\n",
    "print('결과는?!')"
   ]
  },
  {
   "cell_type": "code",
   "execution_count": 67,
   "id": "834e880d",
   "metadata": {},
   "outputs": [
    {
     "name": "stdout",
     "output_type": "stream",
     "text": [
      "전체 샘플 중 길이가 14 이하인 샘플의 비율: 0.9997761087704301\n",
      "전체 샘플 중 길이가 48 이하인 샘플의 비율: 0.9995725712890029\n"
     ]
    }
   ],
   "source": [
    "below_threshold_len(headlines_max_len, data['headlines'])\n",
    "below_threshold_len(text_max_len,  data['text'])"
   ]
  },
  {
   "cell_type": "code",
   "execution_count": 68,
   "id": "1a5544c3",
   "metadata": {},
   "outputs": [
    {
     "name": "stdout",
     "output_type": "stream",
     "text": [
      "전체 샘플수 : 98198\n"
     ]
    }
   ],
   "source": [
    "# 데이터 정제\n",
    "data = data[data['headlines'].apply(lambda x: len(x.split()) <= headlines_max_len)]\n",
    "data = data[data['text'].apply(lambda x: len(x.split()) <= text_max_len)]\n",
    "print('전체 샘플수 :', (len(data)))"
   ]
  },
  {
   "cell_type": "code",
   "execution_count": 69,
   "id": "c5800c1b",
   "metadata": {},
   "outputs": [
    {
     "data": {
      "text/html": [
       "<div>\n",
       "<style scoped>\n",
       "    .dataframe tbody tr th:only-of-type {\n",
       "        vertical-align: middle;\n",
       "    }\n",
       "\n",
       "    .dataframe tbody tr th {\n",
       "        vertical-align: top;\n",
       "    }\n",
       "\n",
       "    .dataframe thead th {\n",
       "        text-align: right;\n",
       "    }\n",
       "</style>\n",
       "<table border=\"1\" class=\"dataframe\">\n",
       "  <thead>\n",
       "    <tr style=\"text-align: right;\">\n",
       "      <th></th>\n",
       "      <th>headlines</th>\n",
       "      <th>text</th>\n",
       "      <th>decoder_input</th>\n",
       "      <th>decoder_target</th>\n",
       "    </tr>\n",
       "  </thead>\n",
       "  <tbody>\n",
       "    <tr>\n",
       "      <th>0</th>\n",
       "      <td>upgrad learner switches to career in ml al wit...</td>\n",
       "      <td>saurav kant alumnus upgrad iiit pg program mac...</td>\n",
       "      <td>sostoken upgrad learner switches to career in ...</td>\n",
       "      <td>upgrad learner switches to career in ml al wit...</td>\n",
       "    </tr>\n",
       "    <tr>\n",
       "      <th>1</th>\n",
       "      <td>delhi techie wins free food from swiggy for on...</td>\n",
       "      <td>kunal shah credit card bill payment platform c...</td>\n",
       "      <td>sostoken delhi techie wins free food from swig...</td>\n",
       "      <td>delhi techie wins free food from swiggy for on...</td>\n",
       "    </tr>\n",
       "    <tr>\n",
       "      <th>2</th>\n",
       "      <td>new zealand end rohit sharma led india match w...</td>\n",
       "      <td>new zealand defeated india wickets fourth odi ...</td>\n",
       "      <td>sostoken new zealand end rohit sharma led indi...</td>\n",
       "      <td>new zealand end rohit sharma led india match w...</td>\n",
       "    </tr>\n",
       "    <tr>\n",
       "      <th>3</th>\n",
       "      <td>aegon life iterm insurance plan helps customer...</td>\n",
       "      <td>aegon life iterm insurance plan customers enjo...</td>\n",
       "      <td>sostoken aegon life iterm insurance plan helps...</td>\n",
       "      <td>aegon life iterm insurance plan helps customer...</td>\n",
       "    </tr>\n",
       "    <tr>\n",
       "      <th>4</th>\n",
       "      <td>have known hirani for yrs what if metoo claims...</td>\n",
       "      <td>speaking sexual harassment allegations rajkuma...</td>\n",
       "      <td>sostoken have known hirani for yrs what if met...</td>\n",
       "      <td>have known hirani for yrs what if metoo claims...</td>\n",
       "    </tr>\n",
       "  </tbody>\n",
       "</table>\n",
       "</div>"
      ],
      "text/plain": [
       "                                           headlines  \\\n",
       "0  upgrad learner switches to career in ml al wit...   \n",
       "1  delhi techie wins free food from swiggy for on...   \n",
       "2  new zealand end rohit sharma led india match w...   \n",
       "3  aegon life iterm insurance plan helps customer...   \n",
       "4  have known hirani for yrs what if metoo claims...   \n",
       "\n",
       "                                                text  \\\n",
       "0  saurav kant alumnus upgrad iiit pg program mac...   \n",
       "1  kunal shah credit card bill payment platform c...   \n",
       "2  new zealand defeated india wickets fourth odi ...   \n",
       "3  aegon life iterm insurance plan customers enjo...   \n",
       "4  speaking sexual harassment allegations rajkuma...   \n",
       "\n",
       "                                       decoder_input  \\\n",
       "0  sostoken upgrad learner switches to career in ...   \n",
       "1  sostoken delhi techie wins free food from swig...   \n",
       "2  sostoken new zealand end rohit sharma led indi...   \n",
       "3  sostoken aegon life iterm insurance plan helps...   \n",
       "4  sostoken have known hirani for yrs what if met...   \n",
       "\n",
       "                                      decoder_target  \n",
       "0  upgrad learner switches to career in ml al wit...  \n",
       "1  delhi techie wins free food from swiggy for on...  \n",
       "2  new zealand end rohit sharma led india match w...  \n",
       "3  aegon life iterm insurance plan helps customer...  \n",
       "4  have known hirani for yrs what if metoo claims...  "
      ]
     },
     "execution_count": 69,
     "metadata": {},
     "output_type": "execute_result"
    }
   ],
   "source": [
    "# 텍스트 데이터에 토큰 추가\n",
    "data['decoder_input'] = data['headlines'].apply(lambda x : 'sostoken '+ x)\n",
    "data['decoder_target'] = data['headlines'].apply(lambda x : x + ' eostoken')\n",
    "data.head()"
   ]
  },
  {
   "cell_type": "code",
   "execution_count": 70,
   "id": "0b80751a",
   "metadata": {},
   "outputs": [
    {
     "name": "stdout",
     "output_type": "stream",
     "text": [
      "완료!\n"
     ]
    }
   ],
   "source": [
    "encoder_input = np.array(data['text']) # 인코더의 입력\n",
    "decoder_input = np.array(data['decoder_input']) # 디코더의 입력\n",
    "decoder_target = np.array(data['decoder_target']) # 디코더의 레이블\n",
    "print('완료!')"
   ]
  },
  {
   "cell_type": "code",
   "execution_count": 71,
   "id": "88e19e4f",
   "metadata": {},
   "outputs": [
    {
     "name": "stdout",
     "output_type": "stream",
     "text": [
      "[42837 37521 41272 ... 83624 87793 46251]\n"
     ]
    }
   ],
   "source": [
    "indices = np.arange(encoder_input.shape[0])\n",
    "np.random.shuffle(indices)\n",
    "print(indices)"
   ]
  },
  {
   "cell_type": "code",
   "execution_count": 72,
   "id": "64710ab4",
   "metadata": {},
   "outputs": [
    {
     "name": "stdout",
     "output_type": "stream",
     "text": [
      "완료!\n"
     ]
    }
   ],
   "source": [
    "encoder_input = encoder_input[indices]\n",
    "decoder_input = decoder_input[indices]\n",
    "decoder_target = decoder_target[indices]\n",
    "print('완료!')"
   ]
  },
  {
   "cell_type": "code",
   "execution_count": 73,
   "id": "993f1e4f",
   "metadata": {},
   "outputs": [
    {
     "name": "stdout",
     "output_type": "stream",
     "text": [
      "테스트 데이터의 수 : 19639\n"
     ]
    }
   ],
   "source": [
    "n_of_val = int(len(encoder_input)*0.2)\n",
    "print('테스트 데이터의 수 :', n_of_val)"
   ]
  },
  {
   "cell_type": "code",
   "execution_count": 74,
   "id": "fca80fd1",
   "metadata": {},
   "outputs": [
    {
     "name": "stdout",
     "output_type": "stream",
     "text": [
      "훈련 데이터의 개수 : 78559\n",
      "훈련 레이블의 개수 : 78559\n",
      "테스트 데이터의 개수 : 19639\n",
      "테스트 레이블의 개수 : 19639\n"
     ]
    }
   ],
   "source": [
    "# 테스트 데이터로 전체 데이터 구분\n",
    "encoder_input_train = encoder_input[:-n_of_val]\n",
    "decoder_input_train = decoder_input[:-n_of_val]\n",
    "decoder_target_train = decoder_target[:-n_of_val]\n",
    "\n",
    "encoder_input_test = encoder_input[-n_of_val:]\n",
    "decoder_input_test = decoder_input[-n_of_val:]\n",
    "decoder_target_test = decoder_target[-n_of_val:]\n",
    "\n",
    "print('훈련 데이터의 개수 :', len(encoder_input_train))\n",
    "print('훈련 레이블의 개수 :', len(decoder_input_train))\n",
    "print('테스트 데이터의 개수 :', len(encoder_input_test))\n",
    "print('테스트 레이블의 개수 :', len(decoder_input_test))"
   ]
  },
  {
   "cell_type": "code",
   "execution_count": 75,
   "id": "0ce656b8",
   "metadata": {},
   "outputs": [
    {
     "name": "stdout",
     "output_type": "stream",
     "text": [
      "완료!\n"
     ]
    }
   ],
   "source": [
    "# keras 토크나이저로 정수 인코딩\n",
    "src_tokenizer = Tokenizer() # 토크나이저 정의\n",
    "src_tokenizer.fit_on_texts(encoder_input_train) # 입력된 데이터로부터 단어 집합 생성\n",
    "print('완료!')"
   ]
  },
  {
   "cell_type": "code",
   "execution_count": 76,
   "id": "6b894a40",
   "metadata": {},
   "outputs": [
    {
     "name": "stdout",
     "output_type": "stream",
     "text": [
      "단어 집합(vocabulary)의 크기 : 69578\n",
      "등장 빈도가 6번 이하인 희귀 단어의 수: 47380\n",
      "단어 집합에서 희귀 단어를 제외시킬 경우의 단어 집합의 크기 22198\n",
      "단어 집합에서 희귀 단어의 비율: 68.09623731639311\n",
      "전체 등장 빈도에서 희귀 단어 등장 빈도 비율: 3.479223094767293\n"
     ]
    }
   ],
   "source": [
    "threshold = 7\n",
    "total_cnt = len(src_tokenizer.word_index) # 단어의 수\n",
    "rare_cnt = 0 # 등장 빈도수가 threshold보다 작은 단어의 개수를 카운트\n",
    "total_freq = 0 # 훈련 데이터의 전체 단어 빈도수 총 합\n",
    "rare_freq = 0 # 등장 빈도수가 threshold보다 작은 단어의 등장 빈도수의 총 합\n",
    "\n",
    "# 단어와 빈도수의 쌍(pair)을 key와 value로 받는다.\n",
    "for key, value in src_tokenizer.word_counts.items():\n",
    "    total_freq = total_freq + value\n",
    "\n",
    "    # 단어의 등장 빈도수가 threshold보다 작으면\n",
    "    if(value < threshold):\n",
    "        rare_cnt = rare_cnt + 1\n",
    "        rare_freq = rare_freq + value\n",
    "\n",
    "print('단어 집합(vocabulary)의 크기 :', total_cnt)\n",
    "print('등장 빈도가 %s번 이하인 희귀 단어의 수: %s'%(threshold - 1, rare_cnt))\n",
    "print('단어 집합에서 희귀 단어를 제외시킬 경우의 단어 집합의 크기 %s'%(total_cnt - rare_cnt))\n",
    "print(\"단어 집합에서 희귀 단어의 비율:\", (rare_cnt / total_cnt)*100)\n",
    "print(\"전체 등장 빈도에서 희귀 단어 등장 빈도 비율:\", (rare_freq / total_freq)*100)"
   ]
  },
  {
   "cell_type": "code",
   "execution_count": 77,
   "id": "bd50bf8d",
   "metadata": {},
   "outputs": [
    {
     "name": "stdout",
     "output_type": "stream",
     "text": [
      "완료!\n"
     ]
    }
   ],
   "source": [
    "src_vocab = 15000\n",
    "src_tokenizer = Tokenizer(num_words=src_vocab) # 단어 집합의 크기를 15,000으로 제한\n",
    "src_tokenizer.fit_on_texts(encoder_input_train) # 단어 집합 재생성\n",
    "print('완료!')"
   ]
  },
  {
   "cell_type": "code",
   "execution_count": 78,
   "id": "35c89541",
   "metadata": {},
   "outputs": [
    {
     "name": "stdout",
     "output_type": "stream",
     "text": [
      "[[8980, 3326, 7061, 5097, 26, 1029, 311, 260, 39, 602, 317, 3608, 473, 3053, 3359, 16, 339, 1357, 1812, 61, 5097, 7, 12, 210, 2477, 6973, 987, 4769, 314, 1143, 143, 1143, 143, 978, 3295, 3296, 1184, 1963, 896, 1943, 513], [1643, 845, 1092, 964, 19, 187, 508, 229, 627, 1178, 9484, 4226, 8680, 363, 1266, 10708, 3475, 4609, 97, 1062, 92, 4609, 458, 1161, 13, 28, 693, 9484, 2300, 2091, 3110, 284, 346], [1279, 173, 1161, 8681, 2685, 1136, 3095, 94, 1263, 1279, 294, 368, 172, 175, 173, 6272, 886, 693, 210, 172, 175, 294, 351, 294, 306, 13, 844, 1369, 3832, 496, 737, 379, 516, 1596, 7986, 12218, 14781, 12566]]\n"
     ]
    }
   ],
   "source": [
    "# 텍스트 시퀀스를 정수 시퀀스로 변환\n",
    "encoder_input_train = src_tokenizer.texts_to_sequences(encoder_input_train) \n",
    "encoder_input_test = src_tokenizer.texts_to_sequences(encoder_input_test)\n",
    "\n",
    "# 잘 진행되었는지 샘플 출력\n",
    "print(encoder_input_train[:3])"
   ]
  },
  {
   "cell_type": "code",
   "execution_count": 79,
   "id": "481c9ac5",
   "metadata": {},
   "outputs": [
    {
     "name": "stdout",
     "output_type": "stream",
     "text": [
      "완료!\n"
     ]
    }
   ],
   "source": [
    "tar_tokenizer = Tokenizer()\n",
    "tar_tokenizer.fit_on_texts(decoder_input_train)\n",
    "print('완료!')"
   ]
  },
  {
   "cell_type": "code",
   "execution_count": 80,
   "id": "4ca285fc",
   "metadata": {},
   "outputs": [
    {
     "name": "stdout",
     "output_type": "stream",
     "text": [
      "단어 집합(vocabulary)의 크기 : 30075\n",
      "등장 빈도가 5번 이하인 희귀 단어의 수: 19675\n",
      "단어 집합에서 희귀 단어를 제외시킬 경우의 단어 집합의 크기 10400\n",
      "단어 집합에서 희귀 단어의 비율: 65.41978387364921\n",
      "전체 등장 빈도에서 희귀 단어 등장 빈도 비율: 4.657360515896806\n"
     ]
    }
   ],
   "source": [
    "threshold = 6\n",
    "total_cnt = len(tar_tokenizer.word_index) # 단어의 수\n",
    "rare_cnt = 0 # 등장 빈도수가 threshold보다 작은 단어의 개수를 카운트\n",
    "total_freq = 0 # 훈련 데이터의 전체 단어 빈도수 총 합\n",
    "rare_freq = 0 # 등장 빈도수가 threshold보다 작은 단어의 등장 빈도수의 총 합\n",
    "\n",
    "# 단어와 빈도수의 쌍(pair)을 key와 value로 받는다.\n",
    "for key, value in tar_tokenizer.word_counts.items():\n",
    "    total_freq = total_freq + value\n",
    "\n",
    "    # 단어의 등장 빈도수가 threshold보다 작으면\n",
    "    if(value < threshold):\n",
    "        rare_cnt = rare_cnt + 1\n",
    "        rare_freq = rare_freq + value\n",
    "\n",
    "print('단어 집합(vocabulary)의 크기 :', total_cnt)\n",
    "print('등장 빈도가 %s번 이하인 희귀 단어의 수: %s'%(threshold - 1, rare_cnt))\n",
    "print('단어 집합에서 희귀 단어를 제외시킬 경우의 단어 집합의 크기 %s'%(total_cnt - rare_cnt))\n",
    "print(\"단어 집합에서 희귀 단어의 비율:\", (rare_cnt / total_cnt)*100)\n",
    "print(\"전체 등장 빈도에서 희귀 단어 등장 빈도 비율:\", (rare_freq / total_freq)*100)"
   ]
  },
  {
   "cell_type": "code",
   "execution_count": 81,
   "id": "24292e44",
   "metadata": {},
   "outputs": [
    {
     "name": "stdout",
     "output_type": "stream",
     "text": [
      "input\n",
      "input  [[1, 6500, 3319, 2245, 2145, 3239, 850], [1, 905, 948, 955, 4, 29, 231, 632, 1396, 4, 2053], [1, 20, 451, 457, 9536, 228, 494, 91, 270, 15, 2531, 674], [1, 7677, 405, 3, 2146, 704, 1555, 5, 218], [1, 3048, 3, 2579, 1019, 361, 48, 1545, 8787]]\n",
      "target\n",
      "decoder  [[6500, 3319, 2245, 2145, 3239, 850, 2], [905, 948, 955, 4, 29, 231, 632, 1396, 4, 2053, 2], [20, 451, 457, 9536, 228, 494, 91, 270, 15, 2531, 674, 2], [7677, 405, 3, 2146, 704, 1555, 5, 218, 2], [3048, 3, 2579, 1019, 361, 48, 1545, 8787, 2]]\n"
     ]
    }
   ],
   "source": [
    "tar_vocab = 10000\n",
    "tar_tokenizer = Tokenizer(num_words=tar_vocab) \n",
    "tar_tokenizer.fit_on_texts(decoder_input_train)\n",
    "tar_tokenizer.fit_on_texts(decoder_target_train)\n",
    "\n",
    "# 텍스트 시퀀스를 정수 시퀀스로 변환\n",
    "decoder_input_train = tar_tokenizer.texts_to_sequences(decoder_input_train) \n",
    "decoder_target_train = tar_tokenizer.texts_to_sequences(decoder_target_train)\n",
    "decoder_input_test = tar_tokenizer.texts_to_sequences(decoder_input_test)\n",
    "decoder_target_test = tar_tokenizer.texts_to_sequences(decoder_target_test)\n",
    "\n",
    "# 잘 변환되었는지 확인\n",
    "print('input')\n",
    "print('input ',decoder_input_train[:5])\n",
    "print('target')\n",
    "print('decoder ',decoder_target_train[:5])"
   ]
  },
  {
   "cell_type": "code",
   "execution_count": 82,
   "id": "594ad06b",
   "metadata": {},
   "outputs": [
    {
     "name": "stdout",
     "output_type": "stream",
     "text": [
      "삭제할 훈련 데이터의 개수 : 0\n",
      "삭제할 테스트 데이터의 개수 : 0\n",
      "훈련 데이터의 개수 : 78559\n",
      "훈련 레이블의 개수 : 78559\n",
      "테스트 데이터의 개수 : 19639\n",
      "테스트 레이블의 개수 : 19639\n"
     ]
    }
   ],
   "source": [
    "drop_train = [index for index, sentence in enumerate(decoder_input_train) if len(sentence) == 1]\n",
    "drop_test = [index for index, sentence in enumerate(decoder_input_test) if len(sentence) == 1]\n",
    "\n",
    "print('삭제할 훈련 데이터의 개수 :', len(drop_train))\n",
    "print('삭제할 테스트 데이터의 개수 :', len(drop_test))\n",
    "\n",
    "encoder_input_train = [sentence for index, sentence in enumerate(encoder_input_train) if index not in drop_train]\n",
    "decoder_input_train = [sentence for index, sentence in enumerate(decoder_input_train) if index not in drop_train]\n",
    "decoder_target_train = [sentence for index, sentence in enumerate(decoder_target_train) if index not in drop_train]\n",
    "\n",
    "encoder_input_test = [sentence for index, sentence in enumerate(encoder_input_test) if index not in drop_test]\n",
    "decoder_input_test = [sentence for index, sentence in enumerate(decoder_input_test) if index not in drop_test]\n",
    "decoder_target_test = [sentence for index, sentence in enumerate(decoder_target_test) if index not in drop_test]\n",
    "\n",
    "print('훈련 데이터의 개수 :', len(encoder_input_train))\n",
    "print('훈련 레이블의 개수 :', len(decoder_input_train))\n",
    "print('테스트 데이터의 개수 :', len(encoder_input_test))\n",
    "print('테스트 레이블의 개수 :', len(decoder_input_test))"
   ]
  },
  {
   "cell_type": "code",
   "execution_count": 83,
   "id": "19bc2736",
   "metadata": {},
   "outputs": [
    {
     "name": "stdout",
     "output_type": "stream",
     "text": [
      "완료!\n"
     ]
    }
   ],
   "source": [
    "# 패딩하기\n",
    "encoder_input_train = pad_sequences(encoder_input_train, maxlen=text_max_len, padding='post')\n",
    "encoder_input_test = pad_sequences(encoder_input_test, maxlen=text_max_len, padding='post')\n",
    "decoder_input_train = pad_sequences(decoder_input_train, maxlen=headlines_max_len, padding='post')\n",
    "decoder_target_train = pad_sequences(decoder_target_train, maxlen=headlines_max_len, padding='post')\n",
    "decoder_input_test = pad_sequences(decoder_input_test, maxlen=headlines_max_len, padding='post')\n",
    "decoder_target_test = pad_sequences(decoder_target_test, maxlen=headlines_max_len, padding='post')\n",
    "print('완료!')"
   ]
  },
  {
   "cell_type": "markdown",
   "id": "5b29c978",
   "metadata": {},
   "source": [
    "## 모델 설계 (추상적 요약)"
   ]
  },
  {
   "cell_type": "code",
   "execution_count": 84,
   "id": "23be4769",
   "metadata": {},
   "outputs": [
    {
     "name": "stdout",
     "output_type": "stream",
     "text": [
      "WARNING:tensorflow:Layer lstm_8 will not use cuDNN kernels since it doesn't meet the criteria. It will use a generic GPU kernel as fallback when running on GPU.\n",
      "WARNING:tensorflow:Layer lstm_9 will not use cuDNN kernels since it doesn't meet the criteria. It will use a generic GPU kernel as fallback when running on GPU.\n",
      "WARNING:tensorflow:Layer lstm_10 will not use cuDNN kernels since it doesn't meet the criteria. It will use a generic GPU kernel as fallback when running on GPU.\n"
     ]
    }
   ],
   "source": [
    "from tensorflow.keras.layers import Input, LSTM, Embedding, Dense, Concatenate, TimeDistributed\n",
    "from tensorflow.keras.models import Model\n",
    "from tensorflow.keras.callbacks import EarlyStopping, ModelCheckpoint\n",
    "\n",
    "\n",
    "# 인코더 설계 시작\n",
    "embedding_dim = 128\n",
    "hidden_size = 256\n",
    "\n",
    "# 인코더\n",
    "encoder_inputs = Input(shape=(text_max_len,))\n",
    "\n",
    "# 인코더의 임베딩 층\n",
    "enc_emb = Embedding(src_vocab, embedding_dim)(encoder_inputs)\n",
    "\n",
    "# 인코더의 LSTM 1\n",
    "encoder_lstm1 = LSTM(hidden_size, return_sequences=True, return_state=True ,dropout = 0.4, recurrent_dropout = 0.4)\n",
    "encoder_output1, state_h1, state_c1 = encoder_lstm1(enc_emb)\n",
    "\n",
    "# 인코더의 LSTM 2\n",
    "encoder_lstm2 = LSTM(hidden_size, return_sequences=True, return_state=True, dropout=0.4, recurrent_dropout=0.4)\n",
    "encoder_output2, state_h2, state_c2 = encoder_lstm2(encoder_output1)\n",
    "\n",
    "# 인코더의 LSTM 3\n",
    "encoder_lstm3 = LSTM(hidden_size, return_state=True, return_sequences=True, dropout=0.4, recurrent_dropout=0.4)\n",
    "encoder_outputs, state_h, state_c= encoder_lstm3(encoder_output2)"
   ]
  },
  {
   "cell_type": "code",
   "execution_count": 85,
   "id": "3f1fa4b3",
   "metadata": {},
   "outputs": [
    {
     "name": "stdout",
     "output_type": "stream",
     "text": [
      "WARNING:tensorflow:Layer lstm_11 will not use cuDNN kernels since it doesn't meet the criteria. It will use a generic GPU kernel as fallback when running on GPU.\n"
     ]
    }
   ],
   "source": [
    "# 디코더 설계\n",
    "decoder_inputs = Input(shape=(None,))\n",
    "\n",
    "# 디코더의 임베딩 층\n",
    "dec_emb_layer = Embedding(tar_vocab, embedding_dim)\n",
    "dec_emb = dec_emb_layer(decoder_inputs)\n",
    "\n",
    "# 디코더의 LSTM\n",
    "decoder_lstm = LSTM(hidden_size, return_sequences=True, return_state=True, dropout=0.4, recurrent_dropout=0.2)\n",
    "decoder_outputs, _, _ = decoder_lstm(dec_emb, initial_state=[state_h, state_c])"
   ]
  },
  {
   "cell_type": "code",
   "execution_count": 86,
   "id": "543259b8",
   "metadata": {},
   "outputs": [
    {
     "name": "stdout",
     "output_type": "stream",
     "text": [
      "Model: \"model_4\"\n",
      "__________________________________________________________________________________________________\n",
      "Layer (type)                    Output Shape         Param #     Connected to                     \n",
      "==================================================================================================\n",
      "input_5 (InputLayer)            [(None, 48)]         0                                            \n",
      "__________________________________________________________________________________________________\n",
      "embedding_4 (Embedding)         (None, 48, 128)      1920000     input_5[0][0]                    \n",
      "__________________________________________________________________________________________________\n",
      "lstm_8 (LSTM)                   [(None, 48, 256), (N 394240      embedding_4[0][0]                \n",
      "__________________________________________________________________________________________________\n",
      "input_6 (InputLayer)            [(None, None)]       0                                            \n",
      "__________________________________________________________________________________________________\n",
      "lstm_9 (LSTM)                   [(None, 48, 256), (N 525312      lstm_8[0][0]                     \n",
      "__________________________________________________________________________________________________\n",
      "embedding_5 (Embedding)         (None, None, 128)    1280000     input_6[0][0]                    \n",
      "__________________________________________________________________________________________________\n",
      "lstm_10 (LSTM)                  [(None, 48, 256), (N 525312      lstm_9[0][0]                     \n",
      "__________________________________________________________________________________________________\n",
      "lstm_11 (LSTM)                  [(None, None, 256),  394240      embedding_5[0][0]                \n",
      "                                                                 lstm_10[0][1]                    \n",
      "                                                                 lstm_10[0][2]                    \n",
      "__________________________________________________________________________________________________\n",
      "dense_4 (Dense)                 (None, None, 10000)  2570000     lstm_11[0][0]                    \n",
      "==================================================================================================\n",
      "Total params: 7,609,104\n",
      "Trainable params: 7,609,104\n",
      "Non-trainable params: 0\n",
      "__________________________________________________________________________________________________\n"
     ]
    }
   ],
   "source": [
    "# 디코더의 출력층\n",
    "decoder_softmax_layer = Dense(tar_vocab, activation='softmax')\n",
    "decoder_softmax_outputs = decoder_softmax_layer(decoder_outputs) \n",
    "\n",
    "# 모델 정의\n",
    "model = Model([encoder_inputs, decoder_inputs], decoder_softmax_outputs)\n",
    "model.summary()"
   ]
  },
  {
   "cell_type": "code",
   "execution_count": 87,
   "id": "da17bd21",
   "metadata": {},
   "outputs": [
    {
     "name": "stdout",
     "output_type": "stream",
     "text": [
      "Model: \"model_5\"\n",
      "__________________________________________________________________________________________________\n",
      "Layer (type)                    Output Shape         Param #     Connected to                     \n",
      "==================================================================================================\n",
      "input_5 (InputLayer)            [(None, 48)]         0                                            \n",
      "__________________________________________________________________________________________________\n",
      "embedding_4 (Embedding)         (None, 48, 128)      1920000     input_5[0][0]                    \n",
      "__________________________________________________________________________________________________\n",
      "lstm_8 (LSTM)                   [(None, 48, 256), (N 394240      embedding_4[0][0]                \n",
      "__________________________________________________________________________________________________\n",
      "input_6 (InputLayer)            [(None, None)]       0                                            \n",
      "__________________________________________________________________________________________________\n",
      "lstm_9 (LSTM)                   [(None, 48, 256), (N 525312      lstm_8[0][0]                     \n",
      "__________________________________________________________________________________________________\n",
      "embedding_5 (Embedding)         (None, None, 128)    1280000     input_6[0][0]                    \n",
      "__________________________________________________________________________________________________\n",
      "lstm_10 (LSTM)                  [(None, 48, 256), (N 525312      lstm_9[0][0]                     \n",
      "__________________________________________________________________________________________________\n",
      "lstm_11 (LSTM)                  [(None, None, 256),  394240      embedding_5[0][0]                \n",
      "                                                                 lstm_10[0][1]                    \n",
      "                                                                 lstm_10[0][2]                    \n",
      "__________________________________________________________________________________________________\n",
      "attention_layer (AdditiveAttent (None, None, 256)    256         lstm_11[0][0]                    \n",
      "                                                                 lstm_10[0][0]                    \n",
      "__________________________________________________________________________________________________\n",
      "concat_layer (Concatenate)      (None, None, 512)    0           lstm_11[0][0]                    \n",
      "                                                                 attention_layer[0][0]            \n",
      "__________________________________________________________________________________________________\n",
      "dense_5 (Dense)                 (None, None, 10000)  5130000     concat_layer[0][0]               \n",
      "==================================================================================================\n",
      "Total params: 10,169,360\n",
      "Trainable params: 10,169,360\n",
      "Non-trainable params: 0\n",
      "__________________________________________________________________________________________________\n"
     ]
    }
   ],
   "source": [
    "from tensorflow.keras.layers import AdditiveAttention\n",
    "\n",
    "# 어텐션 층(어텐션 함수)\n",
    "attn_layer = AdditiveAttention(name='attention_layer')\n",
    "\n",
    "# 인코더와 디코더의 모든 time step의 hidden state를 어텐션 층에 전달하고 결과를 리턴\n",
    "attn_out = attn_layer([decoder_outputs, encoder_outputs])\n",
    "\n",
    "\n",
    "# 어텐션의 결과와 디코더의 hidden state들을 연결\n",
    "decoder_concat_input = Concatenate(axis=-1, name='concat_layer')([decoder_outputs, attn_out])\n",
    "\n",
    "# 디코더의 출력층\n",
    "decoder_softmax_layer = Dense(tar_vocab, activation='softmax')\n",
    "decoder_softmax_outputs = decoder_softmax_layer(decoder_concat_input)\n",
    "\n",
    "# 모델 정의\n",
    "model = Model([encoder_inputs, decoder_inputs], decoder_softmax_outputs)\n",
    "model.summary()"
   ]
  },
  {
   "cell_type": "markdown",
   "id": "6cbd427d",
   "metadata": {},
   "source": [
    "## 모델 훈련 (추상적 요약)"
   ]
  },
  {
   "cell_type": "code",
   "execution_count": 88,
   "id": "27b86b6e",
   "metadata": {},
   "outputs": [
    {
     "name": "stdout",
     "output_type": "stream",
     "text": [
      "Epoch 1/50\n",
      "307/307 [==============================] - 218s 684ms/step - loss: 4.8703 - val_loss: 4.4642\n",
      "Epoch 2/50\n",
      "307/307 [==============================] - 209s 681ms/step - loss: 4.3338 - val_loss: 4.1384\n",
      "Epoch 3/50\n",
      "307/307 [==============================] - 210s 683ms/step - loss: 4.0463 - val_loss: 3.9113\n",
      "Epoch 4/50\n",
      "307/307 [==============================] - 208s 679ms/step - loss: 3.8269 - val_loss: 3.7385\n",
      "Epoch 5/50\n",
      "307/307 [==============================] - 209s 681ms/step - loss: 3.6484 - val_loss: 3.6206\n",
      "Epoch 6/50\n",
      "307/307 [==============================] - 209s 680ms/step - loss: 3.5039 - val_loss: 3.5328\n",
      "Epoch 7/50\n",
      "307/307 [==============================] - 208s 679ms/step - loss: 3.3807 - val_loss: 3.4530\n",
      "Epoch 8/50\n",
      "307/307 [==============================] - 209s 680ms/step - loss: 3.2758 - val_loss: 3.3922\n",
      "Epoch 9/50\n",
      "307/307 [==============================] - 209s 682ms/step - loss: 3.1830 - val_loss: 3.3411\n",
      "Epoch 10/50\n",
      "307/307 [==============================] - 210s 683ms/step - loss: 3.1022 - val_loss: 3.3034\n",
      "Epoch 11/50\n",
      "307/307 [==============================] - 208s 677ms/step - loss: 3.0285 - val_loss: 3.2599\n",
      "Epoch 12/50\n",
      "307/307 [==============================] - 209s 681ms/step - loss: 2.9633 - val_loss: 3.2314\n",
      "Epoch 13/50\n",
      "307/307 [==============================] - 208s 679ms/step - loss: 2.9025 - val_loss: 3.2062\n",
      "Epoch 14/50\n",
      "307/307 [==============================] - 208s 677ms/step - loss: 2.8441 - val_loss: 3.1808\n",
      "Epoch 15/50\n",
      "307/307 [==============================] - 208s 678ms/step - loss: 2.7925 - val_loss: 3.1646\n",
      "Epoch 16/50\n",
      "307/307 [==============================] - 208s 677ms/step - loss: 2.7449 - val_loss: 3.1509\n",
      "Epoch 17/50\n",
      "307/307 [==============================] - 209s 680ms/step - loss: 2.7013 - val_loss: 3.1338\n",
      "Epoch 18/50\n",
      "307/307 [==============================] - 209s 680ms/step - loss: 2.6599 - val_loss: 3.1195\n",
      "Epoch 19/50\n",
      "307/307 [==============================] - 208s 678ms/step - loss: 2.6212 - val_loss: 3.1125\n",
      "Epoch 20/50\n",
      "307/307 [==============================] - 207s 676ms/step - loss: 2.5851 - val_loss: 3.1061\n",
      "Epoch 21/50\n",
      "307/307 [==============================] - 208s 676ms/step - loss: 2.5483 - val_loss: 3.0992\n",
      "Epoch 22/50\n",
      "307/307 [==============================] - 208s 678ms/step - loss: 2.5137 - val_loss: 3.0918\n",
      "Epoch 23/50\n",
      "307/307 [==============================] - 207s 676ms/step - loss: 2.4830 - val_loss: 3.0866\n",
      "Epoch 24/50\n",
      "307/307 [==============================] - 208s 679ms/step - loss: 2.4551 - val_loss: 3.0851\n",
      "Epoch 25/50\n",
      "307/307 [==============================] - 207s 673ms/step - loss: 2.4251 - val_loss: 3.0851\n",
      "Epoch 26/50\n",
      "307/307 [==============================] - 208s 678ms/step - loss: 2.4000 - val_loss: 3.0779\n",
      "Epoch 27/50\n",
      "307/307 [==============================] - 207s 675ms/step - loss: 2.3767 - val_loss: 3.0741\n",
      "Epoch 28/50\n",
      "307/307 [==============================] - 206s 672ms/step - loss: 2.3533 - val_loss: 3.0759\n",
      "Epoch 29/50\n",
      "307/307 [==============================] - 208s 677ms/step - loss: 2.3269 - val_loss: 3.0698\n",
      "Epoch 30/50\n",
      "307/307 [==============================] - 208s 678ms/step - loss: 2.3058 - val_loss: 3.0706\n",
      "Epoch 31/50\n",
      "307/307 [==============================] - 208s 677ms/step - loss: 2.2871 - val_loss: 3.0685\n",
      "Epoch 32/50\n",
      "307/307 [==============================] - 208s 678ms/step - loss: 2.2668 - val_loss: 3.0751\n",
      "Epoch 33/50\n",
      "307/307 [==============================] - 208s 677ms/step - loss: 2.2473 - val_loss: 3.0762\n",
      "Epoch 00033: early stopping\n"
     ]
    }
   ],
   "source": [
    "model.compile(optimizer='rmsprop', loss='sparse_categorical_crossentropy')\n",
    "es = EarlyStopping(monitor='val_loss', patience=2, verbose=1)\n",
    "history = model.fit(x=[encoder_input_train, decoder_input_train], y=decoder_target_train, \\\n",
    "          validation_data=([encoder_input_test, decoder_input_test], decoder_target_test), \\\n",
    "          batch_size=256, callbacks=[es], epochs=50)"
   ]
  },
  {
   "cell_type": "code",
   "execution_count": 89,
   "id": "515ce813",
   "metadata": {},
   "outputs": [
    {
     "data": {
      "image/png": "[encoded data removed]",
      "text/plain": [
       "<Figure size 432x288 with 1 Axes>"
      ]
     },
     "metadata": {
      "needs_background": "light"
     },
     "output_type": "display_data"
    }
   ],
   "source": [
    "plt.plot(history.history['loss'], label='train')\n",
    "plt.plot(history.history['val_loss'], label='test')\n",
    "plt.legend()\n",
    "plt.show()"
   ]
  },
  {
   "cell_type": "markdown",
   "id": "e712e9de",
   "metadata": {},
   "source": [
    "## 인퍼런스 모델 훈련 (추상적 요약)"
   ]
  },
  {
   "cell_type": "code",
   "execution_count": 90,
   "id": "4ecea2aa",
   "metadata": {},
   "outputs": [
    {
     "name": "stdout",
     "output_type": "stream",
     "text": [
      "완료!\n"
     ]
    }
   ],
   "source": [
    "src_index_to_word = src_tokenizer.index_word # 원문 단어 집합에서 정수 -> 단어를 얻음\n",
    "tar_word_to_index = tar_tokenizer.word_index # 요약 단어 집합에서 단어 -> 정수를 얻음\n",
    "tar_index_to_word = tar_tokenizer.index_word # 요약 단어 집합에서 정수 -> 단어를 얻음\n",
    "\n",
    "print('완료!')"
   ]
  },
  {
   "cell_type": "code",
   "execution_count": 91,
   "id": "32367884",
   "metadata": {},
   "outputs": [
    {
     "name": "stdout",
     "output_type": "stream",
     "text": [
      "완료!\n"
     ]
    }
   ],
   "source": [
    "# 인코더/디코더 분리 설계\n",
    "# 인코더 설계\n",
    "encoder_model = Model(inputs=encoder_inputs, outputs=[encoder_outputs, state_h, state_c])\n",
    "\n",
    "# 이전 시점의 상태들을 저장하는 텐서\n",
    "decoder_state_input_h = Input(shape=(hidden_size,))\n",
    "decoder_state_input_c = Input(shape=(hidden_size,))\n",
    "\n",
    "dec_emb2 = dec_emb_layer(decoder_inputs)\n",
    "\n",
    "# 문장의 다음 단어를 예측하기 위해서 초기 상태(initial_state)를 이전 시점의 상태로 사용. 이는 뒤의 함수 decode_sequence()에 구현\n",
    "# 훈련 과정에서와 달리 LSTM의 리턴하는 은닉 상태와 셀 상태인 state_h와 state_c를 버리지 않음.\n",
    "decoder_outputs2, state_h2, state_c2 = decoder_lstm(dec_emb2, initial_state=[decoder_state_input_h, decoder_state_input_c])\n",
    "\n",
    "print('완료!')"
   ]
  },
  {
   "cell_type": "code",
   "execution_count": 92,
   "id": "02537319",
   "metadata": {},
   "outputs": [
    {
     "name": "stdout",
     "output_type": "stream",
     "text": [
      "완료!\n"
     ]
    }
   ],
   "source": [
    "# 어텐션 메커니즘 출력층 설계\n",
    "# 어텐션 함수\n",
    "decoder_hidden_state_input = Input(shape=(text_max_len, hidden_size))\n",
    "attn_out_inf = attn_layer([decoder_outputs2, decoder_hidden_state_input])\n",
    "decoder_inf_concat = Concatenate(axis=-1, name='concat')([decoder_outputs2, attn_out_inf])\n",
    "\n",
    "# 디코더의 출력층\n",
    "decoder_outputs2 = decoder_softmax_layer(decoder_inf_concat) \n",
    "\n",
    "# 최종 디코더 모델\n",
    "decoder_model = Model(\n",
    "    [decoder_inputs] + [decoder_hidden_state_input,decoder_state_input_h, decoder_state_input_c],\n",
    "    [decoder_outputs2] + [state_h2, state_c2])\n",
    "\n",
    "print('완료!')"
   ]
  },
  {
   "cell_type": "code",
   "execution_count": 98,
   "id": "615a6453",
   "metadata": {},
   "outputs": [
    {
     "name": "stdout",
     "output_type": "stream",
     "text": [
      "완료!\n"
     ]
    }
   ],
   "source": [
    "# 어텐션 메커니즘에서 단어 시퀀스 완성 함수\n",
    "def decode_sequence(input_seq):\n",
    "    # 입력으로부터 인코더의 상태를 얻음\n",
    "    e_out, e_h, e_c = encoder_model.predict(input_seq)\n",
    "\n",
    "     # <SOS>에 해당하는 토큰 생성\n",
    "    target_seq = np.zeros((1,1))\n",
    "    target_seq[0, 0] = tar_word_to_index['sostoken']\n",
    "\n",
    "    stop_condition = False\n",
    "    decoded_sentence = ''\n",
    "    while not stop_condition: # stop_condition이 True가 될 때까지 루프 반복\n",
    "\n",
    "        output_tokens, h, c = decoder_model.predict([target_seq] + [e_out, e_h, e_c])\n",
    "        sampled_token_index = np.argmax(output_tokens[0, -1, :])\n",
    "        sampled_token = tar_index_to_word[sampled_token_index]\n",
    "\n",
    "        if (sampled_token!='eostoken'):\n",
    "            decoded_sentence += ' '+sampled_token\n",
    "\n",
    "        #  <eos>에 도달하거나 최대 길이를 넘으면 중단.\n",
    "        if (sampled_token == 'eostoken'  or len(decoded_sentence.split()) >= (headlines_max_len-1)):\n",
    "            stop_condition = True\n",
    "\n",
    "        # 길이가 1인 타겟 시퀀스를 업데이트\n",
    "        target_seq = np.zeros((1,1))\n",
    "        target_seq[0, 0] = sampled_token_index\n",
    "\n",
    "        # 상태를 업데이트 합니다.\n",
    "        e_h, e_c = h, c\n",
    "\n",
    "    return decoded_sentence\n",
    "print('완료!')"
   ]
  },
  {
   "cell_type": "markdown",
   "id": "89c24488",
   "metadata": {},
   "source": [
    "## 모델 테스트 (추상적 요약)"
   ]
  },
  {
   "cell_type": "code",
   "execution_count": 99,
   "id": "795e7c6f",
   "metadata": {},
   "outputs": [
    {
     "name": "stdout",
     "output_type": "stream",
     "text": [
      "완료!\n"
     ]
    }
   ],
   "source": [
    "# 텍스트의 정수 시퀀스를 텍스트 시퀀스로 변환\n",
    "def seq2text(input_seq):\n",
    "    temp=''\n",
    "    for i in input_seq:\n",
    "        if (i!=0):\n",
    "            temp = temp + src_index_to_word[i]+' '\n",
    "    return temp\n",
    "\n",
    "# 헤드라인의 정수 시퀀스를 텍스트 시퀀스로 변환\n",
    "def seq2headlines(input_seq):\n",
    "    temp=''\n",
    "    for i in input_seq:\n",
    "        if ((i!=0 and i!=tar_word_to_index['sostoken']) and i!=tar_word_to_index['eostoken']):\n",
    "            temp = temp + tar_index_to_word[i] + ' '\n",
    "    return temp\n",
    "\n",
    "print('완료!')"
   ]
  },
  {
   "cell_type": "code",
   "execution_count": 100,
   "id": "9502be74",
   "metadata": {},
   "outputs": [
    {
     "name": "stdout",
     "output_type": "stream",
     "text": [
      "원문 : british boy become fastest child cycle across australia completing almost kilometre long journey sydney perth days began journey year old around kilometres day slept tent went notably raising funds learning disability charities \n",
      "실제 요약 : yr old becomes fastest kid to cycle across australia \n",
      "예측 요약 :  year old boy completes years in australia\n",
      "\n",
      "\n",
      "원문 : martyred four others injured tuesday ceasefire violation shelling pakistan along loc jammu kashmir poonch district indian army retaliated strongly effectively army said official release third straight day pakistani troops violated ceasefire \n",
      "실제 요약 : soldier martyred in shelling by pakistan across loc \n",
      "예측 요약 :  bsf jawans killed in ceasefire violation by pak in pak\n",
      "\n",
      "\n",
      "원문 : cbi initiated probe emails sent punjab government hospital fake email address registered name prime minister office pm narendra modi private secretary sanjeev confirmed sent emails demanded action doctor accused committing mistake patient medical report \n",
      "실제 요약 : cbi probes fake pmo emails sent to punjab govt hospital \n",
      "예측 요약 :  cbi notice to pm modi over fake letter to pm modi\n",
      "\n",
      "\n",
      "원문 : hours internet shutdown cost indian economy billion report showed jammu kashmir gujarat rajasthan west bengal bihar saw maximum duration internet period september last year india topped list countries faced preceding months \n",
      "실제 요약 : internet cost india bn in last years report \n",
      "예측 요약 :  india gdp growth to cost billion in years\n",
      "\n",
      "\n",
      "원문 : millions dollars school aid syrian refugees missing human rights watch alleged five lakh school age syrian refugees lebanon jordan turkey stayed school last year partially severe funding gaps according report reportedly least lakh syrian children refugees region \n",
      "실제 요약 : millions of missing in school aid for report \n",
      "예측 요약 :  iran arrests syrian banks over civilians of isis\n",
      "\n",
      "\n",
      "원문 : next flyby target nasa new horizons spacecraft went past pluto might small moon orbiting scientists earlier believed belt object mu shaped discovered mu billion km earth appears km long km case moon \n",
      "실제 요약 : next target of spacecraft that went past pluto may have moon \n",
      "예측 요약 :  nasa probe on saturn moon mission to be\n",
      "\n",
      "\n",
      "원문 : number bangladeshi migrants india come lakh since stands lakh un report stated claimed lakh people bangladesh living india meanwhile report also revealed number migrants countries living india currently lakh \n",
      "실제 요약 : bangladeshi migrants in india reduce by in yrs un \n",
      "예측 요약 :  indians are illegal in india since\n",
      "\n",
      "\n",
      "원문 : social media giant facebook reportedly planning spend billion original shows recently launched video tab watch facebook hosts original shows partners including content media discovery channel allows users favourite shows watch offers sections like today popular \n",
      "실제 요약 : facebook plans to spend billion on original shows in \n",
      "예측 요약 :  facebook to launch bn video in india\n",
      "\n",
      "\n",
      "원문 : scientists believe underground usa national park capable sending earth volcanic winter erupted since last lakh years scientists said build subsequent eruption would take decades hence event early would prevent catastrophic natural disaster added \n",
      "실제 요약 : us could take just decades to erupt study \n",
      "예측 요약 :  ocean earth may have been survived by years study\n",
      "\n",
      "\n",
      "원문 : united nations international children fund helped set elementary school iraq al nearly years village school destroyed armed islamist militants school made using cluster provided unicef children three teaching staff \n",
      "실제 요약 : iraqi village gets its first school in years \n",
      "예측 요약 :  un school children children civilians in syria\n",
      "\n",
      "\n",
      "원문 : farmer uttar pradesh allegedly crushed death tractor loan recovery agents finance company incident occurred agents trying take away tractor unpaid dues farmer held onto tractor stop slipped came tractor died spot \n",
      "실제 요약 : farmer crushed to death under tractor by loan recovery agent \n",
      "예측 요약 :  farmer shoots off duty to save farmer from andhra pradesh\n",
      "\n",
      "\n",
      "원문 : us president donald trump dissolved voter fraud commission created claiming lost presidential election popular vote millions people voted illegally white house said decision made spare taxpayers expense fighting lawsuits many us states refused cooperation commission despite voter fraud evidence nnnn \n",
      "실제 요약 : trump commission he set up to probe illegal voting \n",
      "예측 요약 :  trump presidential election meddling in us election\n",
      "\n",
      "\n",
      "원문 : chandigarh police arrested year old female teacher alleged sexual abuse year old boy parents filed police complaint using helpline service children accused victim neighbours boy sister used take woman requested parents send son tuition separately \n",
      "실제 요약 : female teacher arrested for sexually abusing year old boy \n",
      "예측 요약 :  man arrested for sexually assaulting minor boy in mumbai\n",
      "\n",
      "\n",
      "원문 : china communist party official muslim majority xinjiang province smoke front local religious leaders said notice posted online official added behaviour smoke extreme religious thought party chief lead fight extreme religious thought \n",
      "실제 요약 : chinese official for not smoking near muslim leaders \n",
      "예측 요약 :  china orders muslim party members to visit religious\n",
      "\n",
      "\n",
      "원문 : priyanka chopra close friend american actress meghan markle among celebrities attended wedding uk prince harry hollywood actor george clooney wife clooney american television host oprah winfrey also attended wedding celebrity guests included david beckham wife victoria beckham musician john \n",
      "실제 요약 : which celebrities attended prince harry meghan wedding \n",
      "예측 요약 :  priyanka attends meghan royal wedding\n",
      "\n",
      "\n",
      "원문 : per reports salary indian cricket team assistant coaches sanjay sridhar increased lakh per month existing lakh hike came coach anil kumble took matter bcci coaches rejected earlier raise proposed bcci ceo rahul johri \n",
      "실제 요약 : indian team assistant coaches earning per month report \n",
      "예측 요약 :  bcci to pay hike for players players in ipl\n",
      "\n",
      "\n",
      "원문 : woman uttar pradesh mathura carried husband back chief medical officer office obtaining disability certificate access wheel chair went many different offices still got certificate woman said issued certificate husband \n",
      "실제 요약 : woman carries husband on back to get disability certificate \n",
      "예측 요약 :  up woman sets up woman for refusing to woman\n",
      "\n",
      "\n",
      "원문 : union minister harsh vardhan dressed raja moustache make royal attire event delhi red fort friday know wish live natural environment air remains clean pure lead healthy life environment minister told lord rama character \n",
      "실제 요약 : union minister dresses up as king for at red fort \n",
      "예측 요약 :  minister releases red carpet size of pollution in delhi\n",
      "\n",
      "\n",
      "원문 : delhi court awarded death penalty convict anti sikh riots case punjab cm captain amarinder singh tweeted justice finally perpetrators crimes union minister harsimrat kaur badal replied true speak leaders party \n",
      "실제 요약 : justice finally punjab cm on death penalty in case \n",
      "예측 요약 :  justice of punjab cm murder is not life punjab cm\n",
      "\n",
      "\n",
      "원문 : us defence department pentagon signed deal sell manufactured fighter jets billion qatar despite president donald trump criticising gulf nation allegedly supporting terrorism sale aims increasing security cooperation two nations signals us support qatar facing regional isolation \n",
      "실제 요약 : us qatar sign bn jets deal despite trump criticism \n",
      "예측 요약 :  us pledges to cut bn to cut funds to saudi arabia\n",
      "\n",
      "\n",
      "원문 : japan softbank group likely put billion paytm parent company one communications according reports funding likely value paytm billion softbank pick stake payments firm reports added earlier reports stated softbank may invest billion paytm \n",
      "실제 요약 : softbank to invest bn in paytm pick stake reports \n",
      "예측 요약 :  softbank may buy google parent alphabet for bn report\n",
      "\n",
      "\n",
      "원문 : kerala public works department minister vacated home located kerala village area acquired widening national highway four lanes family lived house years roads kerala reportedly follow four lane norm prescribed national highways authority india \n",
      "실제 요약 : kerala minister home for national highway \n",
      "예측 요약 :  kerala govt to provide state to kerala cm house\n",
      "\n",
      "\n",
      "원문 : us military iraqi special forces filmed torturing abusing suspected isis links mosul according reports us type immunity cases reports added notably us military continued work special forces unit despite banned receiving us aid rights violation \n",
      "실제 요약 : us torture by iraqi forces in mosul reports \n",
      "예측 요약 :  us stabs isis leader missing from isis terrorists\n",
      "\n",
      "\n",
      "원문 : pakistani batsman zubair ahmed passed away struck bouncer game occasion pakistan independence day august pakistan cricket board shared news twitter emphasising need wear helmets times cricket ahmed played four matches representing domestic team \n",
      "실제 요약 : pakistan cricketer dies after being struck by bouncer \n",
      "예측 요약 :  pakistani players play pak in match over death\n",
      "\n",
      "\n",
      "원문 : uk pm theresa may wednesday appointed one ministers look related issues people across country world first ever minister tasked portfolio move follows recommendation report said harmful health smoking cigarettes day \n",
      "실제 요약 : uk gets world first ever minister for \n",
      "예측 요약 :  uk pm theresa may become uk first prime minister\n",
      "\n",
      "\n",
      "원문 : chandigarh police personnel lal singh arrested connection escape plan gurmeet ram rahim day conviction singh panchkula day official duty notably policemen haryana punjab chandigarh rajasthan arrested connection case \n",
      "실제 요약 : chandigarh cop arrested for planning ram rahim escape \n",
      "예측 요약 :  arrested for ram rahim arrested in up\n",
      "\n",
      "\n",
      "원문 : passenger held delhi indira gandhi international airport allegedly carrying least live bullets baggage officials said thursday bullets detected baggage scanned ray monitor cisf officer man handed police failed provide documents carrying ammunition \n",
      "실제 요약 : passenger held with live bullets at delhi airport \n",
      "예측 요약 :  delhi airport identify bomb bullets with bullets bullets\n",
      "\n",
      "\n",
      "원문 : instagram monday announced vishal shah promotion head product effective immediately shah assumed position previously held adam appointed instagram head october shah joined instagram director product management headed consumer business revenue products divisions including search explore ads shopping \n",
      "실제 요약 : instagram promotes vishal shah to head of product \n",
      "예측 요약 :  de villiers to retire from father of years\n",
      "\n",
      "\n",
      "원문 : former cricketer rahul dravid given extension offered new two year contract india teams dravid yet accept contract terms conditions including remuneration yet finalised decision taken cricket advisory committee comprising sachin tendulkar sourav ganguly vvs laxman \n",
      "실제 요약 : rahul dravid offered two year india contract \n",
      "예측 요약 :  dravid son pay for india largest tax reports\n",
      "\n",
      "\n",
      "원문 : woman named solved case matched thief stole water also theft victim tinder first man named drew told found full water later matched raymond lost water leaving \n",
      "실제 요약 : woman matches with both thief and his victim on tinder solves case \n",
      "예측 요약 :  woman finds hidden in biryani to hide phone\n",
      "\n",
      "\n",
      "원문 : chief justice india dipak misra farewell address monday said judge people history judge people activities cji misra added believes good things said courtesy concluded depart good bye say meet \n",
      "실제 요약 : do not judge people by history outgoing cji dipak misra \n",
      "예측 요약 :  cji dipak misra should be cji dipak misra\n",
      "\n",
      "\n",
      "원문 : jawan indian army martyred today morning encounter terrorists jammu kashmir sector indian soldiers foiled infiltration bid side loc also resulted killing two terrorists second infiltration attempt less hours \n",
      "실제 요약 : jawan martyred as army foils infiltration bid in \n",
      "예측 요약 :  jawan martyred in encounter with militants killed in\n",
      "\n",
      "\n",
      "원문 : air india thiruvananthapuram flight stranded mistakenly landed construction runway international airport maldives friday two main wheels plane got landing according reports passengers crew board plane safe reports added \n",
      "실제 요약 : air india plane mistakenly lands on under construction runway \n",
      "예측 요약 :  air india flight makes emergency landing at kolkata airport\n",
      "\n",
      "\n",
      "원문 : activist documentary filmmaker divya left tamil nadu receiving death rape threats think police try track mainly left harassment received caste groups went rape acid attacks said divya several cases documentary film \n",
      "실제 요약 : filmmaker leaves tamil nadu on getting rape death threats \n",
      "예측 요약 :  actor suicide after rape murder charges against pm modi\n",
      "\n",
      "\n",
      "원문 : calling us president donald trump new national security strategy criminal document north korea said action plan seeks total whole world interests us america first policy gang trump crying nothing aggression north korea foreign ministry said \n",
      "실제 요약 : trump security strategy criminal document korea \n",
      "예측 요약 :  us will not let us military trump korea\n",
      "\n",
      "\n",
      "원문 : supreme court reinstated marriage jahan hadiya saturday said happened islam stating constitution gives everyone freedom choose religion added feel got freedom marriage annulled kerala high court grounds love jihad \n",
      "실제 요약 : this happened as islam hadiya on love jihad case \n",
      "예측 요약 :  love jihad but will be in love jihad sc\n",
      "\n",
      "\n",
      "원문 : recently released first look poster padmavati actress deepika padukone seen sporting reacting user tweeted deepika padmavati makes look back seventh grade photos pride meanwhile another user wrote indians censorship lynching oppression much deepika \n",
      "실제 요약 : twitter reacts to deepika sporting in padmavati \n",
      "예측 요약 :  deepika padukone shares picture of deepika padukone\n",
      "\n",
      "\n",
      "원문 : starbucks china rival coffee wednesday announced raised million series funding round billion valuation funding round led investors including singapore sovereign wealth fund china international capital corporation coffee officially launched january raised total million date \n",
      "실제 요약 : starbucks china rival coffee raises mn \n",
      "예측 요약 :  us rival lyft raises billion in funding\n",
      "\n",
      "\n",
      "원문 : uk based mobile network operator company tesco mobile slammed user twitter made joke company micro blogging site later user replied tesco mobile tweet phone company posted man starts man finishes notably tesco mobile earlier slammed another user tweeted services \n",
      "실제 요약 : uk phone company hits back at troll on twitter \n",
      "예측 요약 :  twitter user user gets trolled for tracking users user\n",
      "\n",
      "\n",
      "원문 : indian army conducted cadre along india myanmar border wednesday morning retaliatory operation launched insurgents attacked indian army column moving along border naga militants reportedly suffered heavy casualties eastern command indian army said none personnel hurt operation \n",
      "실제 요약 : indian army attacks along myanmar border \n",
      "예측 요약 :  indian army officer cross border border amid heavy rains\n",
      "\n",
      "\n",
      "원문 : price cryptocurrency reached new record high friday surging nearly last one month made world sixth largest cryptocurrency market capitalisation market capitalisation cryptocurrency increased million billion last one month \n",
      "실제 요약 : cryptocurrency surges in one month \n",
      "예측 요약 :  bitcoin price rises to record high high of\n",
      "\n",
      "\n",
      "원문 : tripura assembly election result karnataka assembly elections due year cm siddaramaiah said modi wave state added cm said bjp worry convincing voters state president ex cm bs yeddyurappa imprisoned illegal land provide corruption free government \n",
      "실제 요약 : tripura poll result will have no impact on taka polls cm \n",
      "예측 요약 :  cong will contest ls polls in ls polls says cm\n",
      "\n",
      "\n",
      "원문 : capital finance ltd one india trusted provide vehicle finance affordable home finance tier ii iii cities aims provide middle india access formal credit system presence south west north india aims transform lives providing financial assistance helping customers life ka take \n",
      "실제 요약 : capital to provide vehicle affordable home finance \n",
      "예측 요약 :  govt to set up to set up rail payments with\n",
      "\n",
      "\n",
      "원문 : harry potter among code names given eight protected witnesses national investigation agency kashmir terror funding case witnesses gave statements businessman granted bail thursday delhi high court got bail lawyer told court client provided witnesses statements \n",
      "실제 요약 : harry potter were witnesses in kashmir terror funding case \n",
      "예측 요약 :  harry potter actor sentenced to life in jail for arrest\n",
      "\n",
      "\n",
      "원문 : supreme court dismissed pleas army men challenged firs armed forces members carrying operations manipur force centre supporting pleas said mechanism cases court replied stopping coming mechanism \n",
      "실제 요약 : sc dismisses army men plea over fir on armed forces members \n",
      "예측 요약 :  sc stays amarnath blast in srinagar\n",
      "\n",
      "\n",
      "원문 : congress mps friday protested goa chief minister former defence minister manohar parrikar presence rajya sabha earlier congress accused bjp using unfair means attain majority goa assembly however parrikar said parties trust congress coalition government question morality \n",
      "실제 요약 : cong mps protest goa cm parrikar presence in parliament \n",
      "예측 요약 :  congress parrikar is parrikar to goa congress\n",
      "\n",
      "\n",
      "원문 : wimbledon technology partner ibm use artificial intelligence recognise players emotions movements combined crowd noise create match highlights ibm ai watson select moments players heightened sense emotion exciting shot rally london based tennis grand slam scheduled begin july first deployed ai \n",
      "실제 요약 : wimbledon to use ai to make highlights from player emotions \n",
      "예측 요약 :  artificial intelligence predicts artificial intelligence\n",
      "\n",
      "\n",
      "원문 : para sachin chaudhary clinched bronze medal men heavyweight category tuesday take india medal tally commonwealth games sachin successfully lifted kg failing twice finish points points behind first placed nigeria ibrahim sachin silver world cup dubai \n",
      "실제 요약 : sachin wins bronze takes india medal tally to at cwg \n",
      "예측 요약 :  indian women hockey team wins gold at asian games\n",
      "\n",
      "\n",
      "원문 : kerala made mandatory parents show records children vaccination school admissions reportedly comes amid opposition anti vaccination lobby certain muslim majority districts earlier campaigns vaccination spread false information claiming affect children fertility carries pork based making haram muslims \n",
      "실제 요약 : kerala makes mandatory for school \n",
      "예측 요약 :  kerala govt issues advisory to kids for kids\n",
      "\n",
      "\n",
      "원문 : railway minister suresh prabhu sunday flagged trial run new railway coaches visakhapatnam new coaches equipped glass roof made transparent enjoy outside view said features include seats gps system observation deck wide side doors prabhu said \n",
      "실제 요약 : prabhu flags off trial run of coaches with glass roof \n",
      "예측 요약 :  rail minister suresh prabhu launches rail rail projects\n",
      "\n",
      "\n"
     ]
    }
   ],
   "source": [
    "# 50개 샘플 데이터 추출 후 실제와 예측 비교\n",
    "for i in range(50, 100):\n",
    "    print(\"원문 :\", seq2text(encoder_input_test[i]))\n",
    "    print(\"실제 요약 :\", seq2headlines(decoder_input_test[i]))\n",
    "    print(\"예측 요약 :\", decode_sequence(encoder_input_test[i].reshape(1, text_max_len)))\n",
    "    print(\"\\n\")"
   ]
  },
  {
   "cell_type": "markdown",
   "id": "9f55b794",
   "metadata": {},
   "source": [
    "## Summa를 이용한 추출적 요약"
   ]
  },
  {
   "cell_type": "code",
   "execution_count": 101,
   "id": "82fdb4cb",
   "metadata": {},
   "outputs": [],
   "source": [
    "# 데이터 다운로드\n",
    "import requests\n",
    "from summa.summarizer import summarize"
   ]
  },
  {
   "cell_type": "code",
   "execution_count": 102,
   "id": "618e7890",
   "metadata": {},
   "outputs": [],
   "source": [
    "# 매트릭스 시놉시스 다운로드\n",
    "text = requests.get('http://rare-technologies.com/the_matrix_synopsis.txt').text"
   ]
  },
  {
   "cell_type": "code",
   "execution_count": 103,
   "id": "9fc26dc7",
   "metadata": {},
   "outputs": [
    {
     "name": "stdout",
     "output_type": "stream",
     "text": [
      "The screen is filled with green, cascading code which gives way to the title, The Matrix.\r\n",
      "\r\n",
      "A phone rings and text appears on the screen: \"Call trans opt: received. 2-19-98 13:24:18 REC: Log>\" As a conversation takes place between Trinity (Carrie-Anne Moss) and Cypher (Joe Pantoliano), two free humans, a table of random green numbers are being scanned and individual numbers selected, creating a series of digits not unlike an ordinary phone number, as if a code is being deciphered or a call is being traced.\r\n",
      "\r\n",
      "Trinity discusses some unknown person. Cypher taunts Trinity, suggesting she enjoys watching him. Trinity counters that \"Morpheus (Laurence Fishburne) says he may be 'the One',\" just as the sound of a number being selected alerts Trinity that someone may be tracing their call. She ends the call.\r\n",
      "\r\n",
      "Armed policemen move down a darkened, decrepit hallway in the Heart O' the City Hotel, their flashlight beam bouncing just ahead of them. They come to room 303, kick down the door and find a woman dressed in black, facing away from them. It's Trinity. She brings her hands up from the laptop she's working on at their command.\r\n",
      "\r\n",
      "Outside the hotel a car drives up and three agents appear in neatly pressed black suits. They are Agent Smith (Hugo Weaving), Agent Brown (Paul Goddard), and Agent Jones (Robert Taylor). Agent Smith and the presiding police lieutenant argue. Agent Smith admonishes the policeman that they were given specific orders to contact the agents first, for their\n"
     ]
    }
   ],
   "source": [
    "print(text[:1500])"
   ]
  },
  {
   "cell_type": "code",
   "execution_count": 104,
   "id": "2e695638",
   "metadata": {},
   "outputs": [
    {
     "name": "stdout",
     "output_type": "stream",
     "text": [
      "Summary:\n",
      "Morpheus, Trinity, Neo, Apoc, Switch, Mouse and Cypher are jacked into the Matrix.\n",
      "Trinity brings the helicopter down to the floor that Morpheus is on and Neo opens fire on the three Agents.\n"
     ]
    }
   ],
   "source": [
    "print('Summary:')\n",
    "print(summarize(text, ratio=0.005))"
   ]
  },
  {
   "cell_type": "code",
   "execution_count": 105,
   "id": "281ddfa4",
   "metadata": {},
   "outputs": [
    {
     "name": "stdout",
     "output_type": "stream",
     "text": [
      "Summary:\n",
      "['Morpheus, Trinity, Neo, Apoc, Switch, Mouse and Cypher are jacked into the Matrix.', 'Trinity brings the helicopter down to the floor that Morpheus is on and Neo opens fire on the three Agents.']\n"
     ]
    }
   ],
   "source": [
    "print('Summary:')\n",
    "print(summarize(text, ratio=0.005, split=True))"
   ]
  },
  {
   "cell_type": "code",
   "execution_count": 106,
   "id": "023c76a8",
   "metadata": {},
   "outputs": [
    {
     "name": "stdout",
     "output_type": "stream",
     "text": [
      "Summary:\n",
      "Trinity takes Neo to Morpheus.\n",
      "Morpheus, Trinity, Neo, Apoc, Switch, Mouse and Cypher are jacked into the Matrix.\n",
      "Trinity brings the helicopter down to the floor that Morpheus is on and Neo opens fire on the three Agents.\n"
     ]
    }
   ],
   "source": [
    "# 단어 50개만 선택해서 요약\n",
    "print('Summary:')\n",
    "print(summarize(text, words=50))"
   ]
  },
  {
   "cell_type": "markdown",
   "id": "350501f1",
   "metadata": {},
   "source": [
    "## 마치며\n",
    "* 데이터 전처리와 모델 학습, 모델 훈련 과정에서 많은 시간이 소요됨을 확인.\n",
    "* 특히, 모델 훈련에서 stopping을 걸어놨음에도 불구하고, epoch 33까지 가는 것을 보며 자연어 모델 학습에 굉장한 시간이 필요하다고 느낌.\n",
    "* 50개 데이터를 추출하여 모델이 학습한 것이 과연 잘 되었는지 확인해봤을 때,\n",
    "    + 주어는 일치하며 문맥을 비슷하게 상통\n",
    "    + 전반적으로 봤을 때 의미가 딱 맞아 떨어진다고 할 수 없다고 생각함.\n",
    "    + 모델이 예측한 것이 무슨 의미인지 이해하기 어려운 요약 문장도 있었음.\n",
    "    + 문법 완성도도 그렇게 높다고 볼 수 없음.\n",
    "    + 핵심 단어는 대부분 포함하고 있음.\n",
    "* 따라서, 데이터 전처리 및 모델 학습에서 세세한 조절이 필요하다고 생각함."
   ]
  }
 ],
 "metadata": {
  "kernelspec": {
   "display_name": "Python 3 (ipykernel)",
   "language": "python",
   "name": "python3"
  },
  "language_info": {
   "codemirror_mode": {
    "name": "ipython",
    "version": 3
   },
   "file_extension": ".py",
   "mimetype": "text/x-python",
   "name": "python",
   "nbconvert_exporter": "python",
   "pygments_lexer": "ipython3",
   "version": "3.9.7"
  }
 },
 "nbformat": 4,
 "nbformat_minor": 5
}
