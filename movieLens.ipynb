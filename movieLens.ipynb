{
 "cells": [
  {
   "cell_type": "code",
   "execution_count": 1,
   "id": "6adb9347",
   "metadata": {},
   "outputs": [],
   "source": [
    "import os\n",
    "import pandas as pd\n",
    "import numpy as np"
   ]
  },
  {
   "cell_type": "markdown",
   "id": "2cec3560",
   "metadata": {},
   "source": [
    "## 1. 데이터 불러오기 및 전처리"
   ]
  },
  {
   "cell_type": "code",
   "execution_count": 2,
   "id": "0fc4116c",
   "metadata": {},
   "outputs": [
    {
     "data": {
      "text/html": [
       "<div>\n",
       "<style scoped>\n",
       "    .dataframe tbody tr th:only-of-type {\n",
       "        vertical-align: middle;\n",
       "    }\n",
       "\n",
       "    .dataframe tbody tr th {\n",
       "        vertical-align: top;\n",
       "    }\n",
       "\n",
       "    .dataframe thead th {\n",
       "        text-align: right;\n",
       "    }\n",
       "</style>\n",
       "<table border=\"1\" class=\"dataframe\">\n",
       "  <thead>\n",
       "    <tr style=\"text-align: right;\">\n",
       "      <th></th>\n",
       "      <th>user_id</th>\n",
       "      <th>movie_id</th>\n",
       "      <th>ratings</th>\n",
       "      <th>timestamp</th>\n",
       "    </tr>\n",
       "  </thead>\n",
       "  <tbody>\n",
       "    <tr>\n",
       "      <th>0</th>\n",
       "      <td>1</td>\n",
       "      <td>1193</td>\n",
       "      <td>5</td>\n",
       "      <td>978300760</td>\n",
       "    </tr>\n",
       "    <tr>\n",
       "      <th>1</th>\n",
       "      <td>1</td>\n",
       "      <td>661</td>\n",
       "      <td>3</td>\n",
       "      <td>978302109</td>\n",
       "    </tr>\n",
       "    <tr>\n",
       "      <th>2</th>\n",
       "      <td>1</td>\n",
       "      <td>914</td>\n",
       "      <td>3</td>\n",
       "      <td>978301968</td>\n",
       "    </tr>\n",
       "    <tr>\n",
       "      <th>3</th>\n",
       "      <td>1</td>\n",
       "      <td>3408</td>\n",
       "      <td>4</td>\n",
       "      <td>978300275</td>\n",
       "    </tr>\n",
       "    <tr>\n",
       "      <th>4</th>\n",
       "      <td>1</td>\n",
       "      <td>2355</td>\n",
       "      <td>5</td>\n",
       "      <td>978824291</td>\n",
       "    </tr>\n",
       "  </tbody>\n",
       "</table>\n",
       "</div>"
      ],
      "text/plain": [
       "   user_id  movie_id  ratings  timestamp\n",
       "0        1      1193        5  978300760\n",
       "1        1       661        3  978302109\n",
       "2        1       914        3  978301968\n",
       "3        1      3408        4  978300275\n",
       "4        1      2355        5  978824291"
      ]
     },
     "execution_count": 2,
     "metadata": {},
     "output_type": "execute_result"
    }
   ],
   "source": [
    "rating_file_path=os.getenv('HOME') + '/aiffel/recommendata_iu/data/ml-1m/ratings.dat'\n",
    "ratings_cols = ['user_id', 'movie_id', 'ratings', 'timestamp']\n",
    "ratings = pd.read_csv(rating_file_path, sep='::', names=ratings_cols, engine='python', encoding = \"ISO-8859-1\")\n",
    "orginal_data_size = len(ratings)\n",
    "ratings.head()"
   ]
  },
  {
   "cell_type": "code",
   "execution_count": 3,
   "id": "c58dadb2",
   "metadata": {},
   "outputs": [
    {
     "name": "stdout",
     "output_type": "stream",
     "text": [
      "orginal_data_size: 1000209, filtered_data_size: 836478\n",
      "Ratio of Remaining Data is 83.63%\n"
     ]
    }
   ],
   "source": [
    "ratings = ratings[ratings['ratings']>=3]\n",
    "filtered_data_size = len(ratings)\n",
    "\n",
    "print(f'orginal_data_size: {orginal_data_size}, filtered_data_size: {filtered_data_size}')\n",
    "print(f'Ratio of Remaining Data is {filtered_data_size / orginal_data_size:.2%}')"
   ]
  },
  {
   "cell_type": "code",
   "execution_count": 4,
   "id": "ebbeb557",
   "metadata": {},
   "outputs": [],
   "source": [
    "ratings.rename(columns={'ratings':'counts'}, inplace=True)"
   ]
  },
  {
   "cell_type": "code",
   "execution_count": 5,
   "id": "62576d80",
   "metadata": {},
   "outputs": [
    {
     "data": {
      "text/plain": [
       "0          5\n",
       "1          3\n",
       "2          3\n",
       "3          4\n",
       "4          5\n",
       "          ..\n",
       "1000203    3\n",
       "1000205    5\n",
       "1000206    5\n",
       "1000207    4\n",
       "1000208    4\n",
       "Name: counts, Length: 836478, dtype: int64"
      ]
     },
     "execution_count": 5,
     "metadata": {},
     "output_type": "execute_result"
    }
   ],
   "source": [
    "ratings['counts']"
   ]
  },
  {
   "cell_type": "code",
   "execution_count": 6,
   "id": "89e3a881",
   "metadata": {},
   "outputs": [
    {
     "data": {
      "text/html": [
       "<div>\n",
       "<style scoped>\n",
       "    .dataframe tbody tr th:only-of-type {\n",
       "        vertical-align: middle;\n",
       "    }\n",
       "\n",
       "    .dataframe tbody tr th {\n",
       "        vertical-align: top;\n",
       "    }\n",
       "\n",
       "    .dataframe thead th {\n",
       "        text-align: right;\n",
       "    }\n",
       "</style>\n",
       "<table border=\"1\" class=\"dataframe\">\n",
       "  <thead>\n",
       "    <tr style=\"text-align: right;\">\n",
       "      <th></th>\n",
       "      <th>movie_id</th>\n",
       "      <th>title</th>\n",
       "      <th>genre</th>\n",
       "    </tr>\n",
       "  </thead>\n",
       "  <tbody>\n",
       "    <tr>\n",
       "      <th>0</th>\n",
       "      <td>1</td>\n",
       "      <td>Toy Story (1995)</td>\n",
       "      <td>Animation|Children's|Comedy</td>\n",
       "    </tr>\n",
       "    <tr>\n",
       "      <th>1</th>\n",
       "      <td>2</td>\n",
       "      <td>Jumanji (1995)</td>\n",
       "      <td>Adventure|Children's|Fantasy</td>\n",
       "    </tr>\n",
       "    <tr>\n",
       "      <th>2</th>\n",
       "      <td>3</td>\n",
       "      <td>Grumpier Old Men (1995)</td>\n",
       "      <td>Comedy|Romance</td>\n",
       "    </tr>\n",
       "    <tr>\n",
       "      <th>3</th>\n",
       "      <td>4</td>\n",
       "      <td>Waiting to Exhale (1995)</td>\n",
       "      <td>Comedy|Drama</td>\n",
       "    </tr>\n",
       "    <tr>\n",
       "      <th>4</th>\n",
       "      <td>5</td>\n",
       "      <td>Father of the Bride Part II (1995)</td>\n",
       "      <td>Comedy</td>\n",
       "    </tr>\n",
       "  </tbody>\n",
       "</table>\n",
       "</div>"
      ],
      "text/plain": [
       "   movie_id                               title                         genre\n",
       "0         1                    Toy Story (1995)   Animation|Children's|Comedy\n",
       "1         2                      Jumanji (1995)  Adventure|Children's|Fantasy\n",
       "2         3             Grumpier Old Men (1995)                Comedy|Romance\n",
       "3         4            Waiting to Exhale (1995)                  Comedy|Drama\n",
       "4         5  Father of the Bride Part II (1995)                        Comedy"
      ]
     },
     "execution_count": 6,
     "metadata": {},
     "output_type": "execute_result"
    }
   ],
   "source": [
    "movie_file_path=os.getenv('HOME') + '/aiffel/recommendata_iu/data/ml-1m/movies.dat'\n",
    "cols = ['movie_id', 'title', 'genre'] \n",
    "movies = pd.read_csv(movie_file_path, sep='::', names=cols, engine='python', encoding='ISO-8859-1')\n",
    "movies.head()"
   ]
  },
  {
   "cell_type": "code",
   "execution_count": 7,
   "id": "74a2f035",
   "metadata": {},
   "outputs": [
    {
     "data": {
      "text/html": [
       "<div>\n",
       "<style scoped>\n",
       "    .dataframe tbody tr th:only-of-type {\n",
       "        vertical-align: middle;\n",
       "    }\n",
       "\n",
       "    .dataframe tbody tr th {\n",
       "        vertical-align: top;\n",
       "    }\n",
       "\n",
       "    .dataframe thead th {\n",
       "        text-align: right;\n",
       "    }\n",
       "</style>\n",
       "<table border=\"1\" class=\"dataframe\">\n",
       "  <thead>\n",
       "    <tr style=\"text-align: right;\">\n",
       "      <th></th>\n",
       "      <th>user_id</th>\n",
       "      <th>movie_id</th>\n",
       "      <th>title</th>\n",
       "      <th>counts</th>\n",
       "    </tr>\n",
       "  </thead>\n",
       "  <tbody>\n",
       "    <tr>\n",
       "      <th>0</th>\n",
       "      <td>1</td>\n",
       "      <td>1193</td>\n",
       "      <td>One Flew Over the Cuckoo's Nest (1975)</td>\n",
       "      <td>5</td>\n",
       "    </tr>\n",
       "    <tr>\n",
       "      <th>31113</th>\n",
       "      <td>1</td>\n",
       "      <td>2294</td>\n",
       "      <td>Antz (1998)</td>\n",
       "      <td>4</td>\n",
       "    </tr>\n",
       "    <tr>\n",
       "      <th>31674</th>\n",
       "      <td>1</td>\n",
       "      <td>3186</td>\n",
       "      <td>Girl, Interrupted (1999)</td>\n",
       "      <td>4</td>\n",
       "    </tr>\n",
       "    <tr>\n",
       "      <th>32044</th>\n",
       "      <td>1</td>\n",
       "      <td>1566</td>\n",
       "      <td>Hercules (1997)</td>\n",
       "      <td>4</td>\n",
       "    </tr>\n",
       "    <tr>\n",
       "      <th>32415</th>\n",
       "      <td>1</td>\n",
       "      <td>588</td>\n",
       "      <td>Aladdin (1992)</td>\n",
       "      <td>4</td>\n",
       "    </tr>\n",
       "    <tr>\n",
       "      <th>...</th>\n",
       "      <td>...</td>\n",
       "      <td>...</td>\n",
       "      <td>...</td>\n",
       "      <td>...</td>\n",
       "    </tr>\n",
       "    <tr>\n",
       "      <th>657728</th>\n",
       "      <td>6040</td>\n",
       "      <td>334</td>\n",
       "      <td>Vanya on 42nd Street (1994)</td>\n",
       "      <td>4</td>\n",
       "    </tr>\n",
       "    <tr>\n",
       "      <th>393446</th>\n",
       "      <td>6040</td>\n",
       "      <td>1294</td>\n",
       "      <td>M*A*S*H (1970)</td>\n",
       "      <td>4</td>\n",
       "    </tr>\n",
       "    <tr>\n",
       "      <th>253075</th>\n",
       "      <td>6040</td>\n",
       "      <td>994</td>\n",
       "      <td>Big Night (1996)</td>\n",
       "      <td>3</td>\n",
       "    </tr>\n",
       "    <tr>\n",
       "      <th>127665</th>\n",
       "      <td>6040</td>\n",
       "      <td>2396</td>\n",
       "      <td>Shakespeare in Love (1998)</td>\n",
       "      <td>3</td>\n",
       "    </tr>\n",
       "    <tr>\n",
       "      <th>738957</th>\n",
       "      <td>6040</td>\n",
       "      <td>2725</td>\n",
       "      <td>Twin Falls Idaho (1999)</td>\n",
       "      <td>4</td>\n",
       "    </tr>\n",
       "  </tbody>\n",
       "</table>\n",
       "<p>836478 rows × 4 columns</p>\n",
       "</div>"
      ],
      "text/plain": [
       "        user_id  movie_id                                   title  counts\n",
       "0             1      1193  One Flew Over the Cuckoo's Nest (1975)       5\n",
       "31113         1      2294                             Antz (1998)       4\n",
       "31674         1      3186                Girl, Interrupted (1999)       4\n",
       "32044         1      1566                         Hercules (1997)       4\n",
       "32415         1       588                          Aladdin (1992)       4\n",
       "...         ...       ...                                     ...     ...\n",
       "657728     6040       334             Vanya on 42nd Street (1994)       4\n",
       "393446     6040      1294                          M*A*S*H (1970)       4\n",
       "253075     6040       994                        Big Night (1996)       3\n",
       "127665     6040      2396              Shakespeare in Love (1998)       3\n",
       "738957     6040      2725                 Twin Falls Idaho (1999)       4\n",
       "\n",
       "[836478 rows x 4 columns]"
      ]
     },
     "execution_count": 7,
     "metadata": {},
     "output_type": "execute_result"
    }
   ],
   "source": [
    "ratings = pd.merge(ratings, movies)\n",
    "ratings = ratings[[\"user_id\", \"movie_id\", \"title\", \"counts\"]]\n",
    "ratings.sort_values('user_id')"
   ]
  },
  {
   "cell_type": "markdown",
   "id": "72bc35a5",
   "metadata": {},
   "source": [
    "## 2. 분석"
   ]
  },
  {
   "cell_type": "code",
   "execution_count": 8,
   "id": "b3ec6f4f",
   "metadata": {},
   "outputs": [
    {
     "name": "stdout",
     "output_type": "stream",
     "text": [
      "ratings에 있는 유니크한 영화 개수 : 3628\n",
      "ratings에 있는 유니크한 사용자 수 : 6039\n"
     ]
    }
   ],
   "source": [
    "print('ratings에 있는 유니크한 영화 개수 : {}'.format(ratings['movie_id'].nunique()))\n",
    "print('ratings에 있는 유니크한 사용자 수 : {}'.format(ratings['user_id'].nunique()))"
   ]
  },
  {
   "cell_type": "code",
   "execution_count": 9,
   "id": "b75de129",
   "metadata": {},
   "outputs": [
    {
     "data": {
      "text/plain": [
       "title\n",
       "American Beauty (1999)                                   3211\n",
       "Star Wars: Episode IV - A New Hope (1977)                2910\n",
       "Star Wars: Episode V - The Empire Strikes Back (1980)    2885\n",
       "Star Wars: Episode VI - Return of the Jedi (1983)        2716\n",
       "Saving Private Ryan (1998)                               2561\n",
       "Terminator 2: Judgment Day (1991)                        2509\n",
       "Silence of the Lambs, The (1991)                         2498\n",
       "Raiders of the Lost Ark (1981)                           2473\n",
       "Back to the Future (1985)                                2460\n",
       "Matrix, The (1999)                                       2434\n",
       "Jurassic Park (1993)                                     2413\n",
       "Sixth Sense, The (1999)                                  2385\n",
       "Fargo (1996)                                             2371\n",
       "Braveheart (1995)                                        2314\n",
       "Men in Black (1997)                                      2297\n",
       "Schindler's List (1993)                                  2257\n",
       "Princess Bride, The (1987)                               2252\n",
       "Shakespeare in Love (1998)                               2213\n",
       "L.A. Confidential (1997)                                 2210\n",
       "Shawshank Redemption, The (1994)                         2194\n",
       "Godfather, The (1972)                                    2167\n",
       "Groundhog Day (1993)                                     2121\n",
       "E.T. the Extra-Terrestrial (1982)                        2102\n",
       "Being John Malkovich (1999)                              2066\n",
       "Ghostbusters (1984)                                      2051\n",
       "Pulp Fiction (1994)                                      2030\n",
       "Forrest Gump (1994)                                      2022\n",
       "Terminator, The (1984)                                   2019\n",
       "Toy Story (1995)                                         2000\n",
       "Fugitive, The (1993)                                     1941\n",
       "Name: user_id, dtype: int64"
      ]
     },
     "execution_count": 9,
     "metadata": {},
     "output_type": "execute_result"
    }
   ],
   "source": [
    "movie_count = ratings.groupby('title')['user_id'].count()\n",
    "movie_count.sort_values(ascending=False).head(30)"
   ]
  },
  {
   "cell_type": "markdown",
   "id": "c27bfb25",
   "metadata": {},
   "source": [
    "## 3. 선호하는 영화"
   ]
  },
  {
   "cell_type": "code",
   "execution_count": 10,
   "id": "5c35fbea",
   "metadata": {},
   "outputs": [
    {
     "data": {
      "text/plain": [
       "array(['Grumpier Old Men (1995)', 'Sabrina (1995)',\n",
       "       'American President, The (1995)', 'Cutthroat Island (1995)',\n",
       "       'Sense and Sensibility (1995)', 'Leaving Las Vegas (1995)',\n",
       "       'Persuasion (1995)', 'Wings of Courage (1995)',\n",
       "       'Carrington (1995)', 'Clueless (1995)',\n",
       "       'How to Make an American Quilt (1995)', 'Pocahontas (1995)',\n",
       "       'When Night Is Falling (1995)', 'Postino, Il (The Postman) (1994)',\n",
       "       'Two if by Sea (1996)', 'French Twist (Gazon maudit) (1995)',\n",
       "       'Bed of Roses (1996)',\n",
       "       \"Things to Do in Denver when You're Dead (1995)\",\n",
       "       'Angels and Insects (1995)', 'Vampire in Brooklyn (1995)',\n",
       "       'Bridges of Madison County, The (1995)', 'If Lucy Fell (1996)',\n",
       "       'Boomerang (1992)', 'Chungking Express (1994)',\n",
       "       'Pie in the Sky (1995)', 'Frankie Starlight (1995)',\n",
       "       'Up Close and Personal (1996)', 'Rob Roy (1995)',\n",
       "       'Desperado (1995)', 'First Knight (1995)', 'Mad Love (1995)',\n",
       "       'Moonlight and Valentino (1995)', 'Something to Talk About (1995)',\n",
       "       'Total Eclipse (1995)', 'Walk in the Clouds, A (1995)',\n",
       "       'Before Sunrise (1995)', 'Circle of Friends (1995)',\n",
       "       'Don Juan DeMarco (1995)', 'French Kiss (1995)',\n",
       "       'Forget Paris (1995)', 'Goofy Movie, A (1995)',\n",
       "       'Heavenly Creatures (1994)', 'Immortal Beloved (1994)',\n",
       "       'I.Q. (1994)', \"Kid in King Arthur's Court, A (1995)\",\n",
       "       'Like Water for Chocolate (Como agua para chocolate) (1992)',\n",
       "       'Legends of the Fall (1994)', 'Love Affair (1994)',\n",
       "       'Milk Money (1994)', 'Nina Takes a Lover (1994)',\n",
       "       'Only You (1994)',\n",
       "       'Professional, The (a.k.a. Leon: The Professional) (1994)',\n",
       "       'Perez Family, The (1995)', \"Pyromaniac's Love Story, A (1995)\",\n",
       "       'Picture Bride (1995)', 'Queen Margot (La Reine Margot) (1994)',\n",
       "       'While You Were Sleeping (1995)', \"Muriel's Wedding (1994)\",\n",
       "       'Corrina, Corrina (1994)', 'Crow, The (1994)',\n",
       "       'Forrest Gump (1994)', 'Four Weddings and a Funeral (1994)',\n",
       "       'I Like It Like That (1994)', 'It Could Happen to You (1994)',\n",
       "       'Jungle Book, The (1994)', 'Speed (1994)', 'Speechless (1994)',\n",
       "       'True Lies (1994)', 'Colonel Chabert, Le (1994)',\n",
       "       'Barcelona (1994)', 'Blue Sky (1994)', 'Boxing Helena (1993)',\n",
       "       'Dave (1993)', 'Even Cowgirls Get the Blues (1993)',\n",
       "       'Farewell My Concubine (1993)', 'Favor, The (1994)',\n",
       "       'Flesh and Bone (1993)', 'Go Fish (1994)',\n",
       "       'Englishman Who Went Up a Hill, But Came Down a Mountain, The (1995)',\n",
       "       'House of the Spirits, The (1993)', 'Hudsucker Proxy, The (1994)',\n",
       "       'What Happened Was... (1994)', 'Much Ado About Nothing (1993)',\n",
       "       'Mr. Jones (1993)', 'Mr. Wonderful (1993)', 'Piano, The (1993)',\n",
       "       'Radioland Murders (1994)', 'Shadowlands (1993)',\n",
       "       'Sleepless in Seattle (1993)',\n",
       "       'So I Married an Axe Murderer (1993)', 'Threesome (1994)',\n",
       "       'True Romance (1993)', 'Naked in New York (1994)', 'Ghost (1990)',\n",
       "       'Pretty Woman (1990)', 'One Fine Day (1996)', 'Jane Eyre (1996)',\n",
       "       'Two Much (1996)', 'Modern Affair, A (1995)',\n",
       "       'Carried Away (1996)', 'Jack and Sarah (1995)',\n",
       "       'Und keiner weint mir nach (1996)', 'Country Life (1994)',\n",
       "       'Promise, The (Versprechen, Das) (1994)',\n",
       "       'Mrs. Winterbourne (1996)', 'Feeling Minnesota (1996)',\n",
       "       'Truth About Cats & Dogs, The (1996)', 'Twister (1996)',\n",
       "       'Vermont Is For Lovers (1992)', 'Heavy (1995)',\n",
       "       \"'Til There Was You (1997)\", 'Nutty Professor, The (1996)',\n",
       "       'Phenomenon (1996)', 'Walking and Talking (1996)',\n",
       "       \"She's the One (1996)\",\n",
       "       'Rendezvous in Paris (Rendez-vous de Paris, Les) (1995)',\n",
       "       'Crude Oasis, The (1995)', 'Echte Kerle (1996)', 'Emma (1996)',\n",
       "       'Tin Cup (1996)', 'Bound (1996)', '1-900 (1994)',\n",
       "       'Twelfth Night (1996)', 'Liebelei (1933)',\n",
       "       'Philadelphia Story, The (1940)', \"Singin' in the Rain (1952)\",\n",
       "       'American in Paris, An (1951)', \"Breakfast at Tiffany's (1961)\",\n",
       "       'Gay Divorcee, The (1934)', 'Charade (1963)', 'Casablanca (1942)',\n",
       "       'My Fair Lady (1964)', 'Sabrina (1954)', 'Roman Holiday (1953)',\n",
       "       'Gone with the Wind (1939)', 'Golden Earrings (1947)',\n",
       "       'Rebecca (1940)', 'Notorious (1946)', 'Spellbound (1945)',\n",
       "       'Affair to Remember, An (1957)', 'To Catch a Thief (1955)',\n",
       "       'Ninotchka (1939)', 'Love in the Afternoon (1957)',\n",
       "       'Ghost and Mrs. Muir, The (1947)', 'Top Hat (1935)',\n",
       "       'Penny Serenade (1941)', 'African Queen, The (1951)',\n",
       "       'Algiers (1938)', 'Farewell to Arms, A (1932)',\n",
       "       'Madagascar Skin (1995)', 'Bliss (1997)',\n",
       "       'To Gillian on Her 37th Birthday (1996)', 'Beautiful Thing (1996)',\n",
       "       'Everyone Says I Love You (1996)',\n",
       "       \"William Shakespeare's Romeo and Juliet (1996)\",\n",
       "       'Shall We Dance? (1937)', 'Damsel in Distress, A (1937)',\n",
       "       'For the Moment (1994)', 'Dirty Dancing (1987)',\n",
       "       'Crying Game, The (1992)', 'Days of Thunder (1990)',\n",
       "       'Top Gun (1986)', 'Hustler White (1996)', 'Love in Bloom (1935)',\n",
       "       'Cinema Paradiso (1988)', 'English Patient, The (1996)',\n",
       "       'Strictly Ballroom (1992)', 'Princess Bride, The (1987)',\n",
       "       'Star Wars: Episode VI - Return of the Jedi (1983)',\n",
       "       'Wings of Desire (Der Himmel über Berlin) (1987)',\n",
       "       'Big Blue, The (Le Grand Bleu) (1988)', 'Quiet Man, The (1952)',\n",
       "       'Annie Hall (1977)', 'Manhattan (1979)', 'Graduate, The (1967)',\n",
       "       'Diva (1981)', 'Groundhog Day (1993)', 'Cyrano de Bergerac (1990)',\n",
       "       'Somewhere in Time (1980)', 'Some Kind of Wonderful (1987)',\n",
       "       'Room with a View, A (1986)', 'When Harry Met Sally... (1989)',\n",
       "       'Parallel Sons (1995)', 'Breathing Room (1996)',\n",
       "       \"Bram Stoker's Dracula (1992)\", 'Mirror Has Two Faces, The (1996)',\n",
       "       'Shine (1996)', 'Grease (1978)', 'Grease 2 (1982)',\n",
       "       'Jerry Maguire (1996)', 'In Love and War (1996)',\n",
       "       'Last of the Mohicans, The (1992)', 'Michael (1996)',\n",
       "       'Thieves (Voleurs, Les) (1996)', 'Benny & Joon (1993)',\n",
       "       'Beautician and the Beast, The (1997)', 'Hotel de Love (1996)',\n",
       "       'Fools Rush In (1997)', 'Touch (1997)', 'That Old Feeling (1997)',\n",
       "       'Booty Call (1997)', 'Kama Sutra: A Tale of Love (1996)',\n",
       "       'Love Jones (1997)', 'Saint, The (1997)',\n",
       "       'Love and Other Catastrophes (1996)', 'Anna Karenina (1997)',\n",
       "       'Inventing the Abbotts (1997)', 'Kissed (1996)',\n",
       "       'Temptress Moon (Feng Yue) (1996)', 'Commandments (1997)',\n",
       "       'Truth or Consequences, N.M. (1997)',\n",
       "       'Love! Valour! Compassion! (1997)', 'Addicted to Love (1997)',\n",
       "       'Brassed Off (1996)', 'Rough Magic (1995)',\n",
       "       'Trial and Error (1997)', 'Pillow Book, The (1995)',\n",
       "       'Speed 2: Cruise Control (1997)',\n",
       "       \"Roseanna's Grave (For Roseanna) (1997)\",\n",
       "       \"My Best Friend's Wedding (1997)\",\n",
       "       'When the Cats Away (Chacun cherche son chat) (1996)',\n",
       "       'Fall (1997)', 'Picture Perfect (1997)',\n",
       "       'Conspiracy Theory (1997)', \"She's So Lovely (1997)\",\n",
       "       'Excess Baggage (1997)', 'MatchMaker, The (1997)',\n",
       "       'Smile Like Yours, A (1997)', 'Chasing Amy (1997)',\n",
       "       'Mrs. Brown (Her Majesty, Mrs. Brown) (1997)',\n",
       "       'Swept from the Sea (1997)', 'Life Less Ordinary, A (1997)',\n",
       "       'Hugo Pool (1997)', 'Tango Lesson, The (1997)', 'Witness (1985)',\n",
       "       'Sliding Doors (1998)', 'Wings of the Dove, The (1997)',\n",
       "       'Mrs. Dalloway (1997)', 'I Love You, I Love You Not (1996)',\n",
       "       'Never Met Picasso (1996)', 'Titanic (1997)',\n",
       "       'Tomorrow Never Dies (1997)', 'Afterglow (1997)',\n",
       "       'Great Expectations (1998)', 'Leading Man, The (1996)',\n",
       "       'Shooting Fish (1997)', 'Music From Another Room (1998)',\n",
       "       'B. Monkey (1998)', 'Wedding Singer, The (1998)',\n",
       "       'Little City (1998)', 'Man in the Iron Mask, The (1998)',\n",
       "       'No Looking Back (1998)', 'Object of My Affection, The (1998)',\n",
       "       'Chinese Box (1997)', 'City of Angels (1998)',\n",
       "       \"I Love You, Don't Touch Me! (1998)\",\n",
       "       'Leather Jacket Love Story (1997)', 'Kissing a Fool (1998)',\n",
       "       'Still Breathing (1997)', 'Woo (1998)', 'Hope Floats (1998)',\n",
       "       'Six Days Seven Nights (1998)', \"Can't Hardly Wait (1998)\",\n",
       "       'High Art (1998)', 'Dream for an Insomniac (1996)',\n",
       "       'Mr. Jealousy (1997)', 'Out of Sight (1998)', 'Wings (1927)',\n",
       "       'From Here to Eternity (1953)', 'Marty (1955)',\n",
       "       'West Side Story (1961)', 'Out of Africa (1985)',\n",
       "       'Mask of Zorro, The (1998)', 'Dangerous Liaisons (1988)',\n",
       "       'Lolita (1997)', \"Billy's Hollywood Screen Kiss (1997)\",\n",
       "       'Far Off Place, A (1993)', 'Governess, The (1998)',\n",
       "       'Seventh Heaven (Le Septième ciel) (1997)',\n",
       "       'Purple Rose of Cairo, The (1985)', 'Doctor Zhivago (1965)',\n",
       "       'Lady and the Tramp (1955)', 'Little Mermaid, The (1989)',\n",
       "       'Splash (1984)', 'L.A. Story (1991)',\n",
       "       'Ever After: A Cinderella Story (1998)',\n",
       "       'First Love, Last Rites (1997)', 'Atlantic City (1980)',\n",
       "       'Legend (1985)', 'Pretty in Pink (1986)', \"St. Elmo's Fire (1985)\",\n",
       "       'How Stella Got Her Groove Back (1998)',\n",
       "       'Chambermaid on the Titanic, The (1998)',\n",
       "       'Return to Paradise (1998)', 'Dance with Me (1998)',\n",
       "       'Next Stop, Wonderland (1998)', 'Déjà Vu (1997)',\n",
       "       'Lady Vanishes, The (1938)', 'Rich and Strange (1932)',\n",
       "       'Broadcast News (1987)', 'Allnighter, The (1987)',\n",
       "       'Say Anything... (1989)', 'No Small Affair (1984)',\n",
       "       'Blame It on Rio (1984)', 'About Last Night... (1986)',\n",
       "       \"Butcher's Wife, The (1991)\", 'Edward Scissorhands (1990)',\n",
       "       'Overnight Delivery (1996)', 'What Dreams May Come (1998)',\n",
       "       'Practical Magic (1998)', 'Living Out Loud (1998)',\n",
       "       \"I'll Be Home For Christmas (1998)\", 'Meet Joe Black (1998)',\n",
       "       'Desperately Seeking Susan (1985)', 'Home Fries (1998)',\n",
       "       'Steam: The Turkish Bath (Hamam) (1997)',\n",
       "       'Shakespeare in Love (1998)', 'Jewel of the Nile, The (1985)',\n",
       "       'Romancing the Stone (1984)', 'Violets Are Blue... (1986)',\n",
       "       \"You've Got Mail (1998)\", 'Theory of Flight, The (1998)',\n",
       "       'Playing by Heart (1998)', \"Jumpin' Jack Flash (1986)\",\n",
       "       'Peggy Sue Got Married (1986)', 'My Name Is Joe (1998)',\n",
       "       'Still Crazy (1998)', \"She's All That (1999)\",\n",
       "       'Simply Irresistible (1999)', 'Blast from the Past (1999)',\n",
       "       'Message in a Bottle (1999)', 'Office Space (1999)',\n",
       "       'Other Sister, The (1999)', 'Just the Ticket (1999)',\n",
       "       'Telling You (1998)', 'Forces of Nature (1999)',\n",
       "       'Among Giants (1998)', 'Walk on the Moon, A (1999)',\n",
       "       '10 Things I Hate About You (1999)', 'Never Been Kissed (1999)',\n",
       "       'Lovers of the Arctic Circle, The (Los Amantes del Círculo Polar) (1998)',\n",
       "       'Friends & Lovers (1999)',\n",
       "       'Jeanne and the Perfect Guy (Jeanne et le garçon formidable) (1998)',\n",
       "       'Open Your Eyes (Abre los ojos) (1997)', 'Lost & Found (1999)',\n",
       "       'This Is My Father (1998)',\n",
       "       'Xiu Xiu: The Sent-Down Girl (Tian yu) (1998)',\n",
       "       'Edge of Seventeen (1998)', 'Love Letter, The (1999)',\n",
       "       'Mummy, The (1932)', 'Notting Hill (1999)',\n",
       "       'Twice Upon a Yesterday (1998)', 'Finding North (1999)',\n",
       "       'Free Enterprise (1998)', 'Run Lola Run (Lola rennt) (1998)',\n",
       "       'My Son the Fanatic (1998)',\n",
       "       'Lovers on the Bridge, The (Les Amants du Pont-Neuf) (1991)',\n",
       "       \"Autumn Tale, An (Conte d'automne) (1998)\",\n",
       "       'Velocity of Gary, The (1998)', 'Trick (1999)',\n",
       "       'Runaway Bride (1999)', 'Better Than Chocolate (1999)',\n",
       "       'Oscar and Lucinda (a.k.a. Oscar & Lucinda) (1997)',\n",
       "       'Tequila Sunrise (1988)', 'Mickey Blue Eyes (1999)',\n",
       "       'Medicine Man (1992)', 'Lucie Aubrac (1997)',\n",
       "       'Very Thought of You, The (1998)', 'Bedrooms & Hallways (1998)',\n",
       "       'Black Cat, White Cat (Crna macka, beli macor) (1998)',\n",
       "       'Excalibur (1981)', 'Lulu on the Bridge (1998)',\n",
       "       'Sommersby (1993)', 'Dog Park (1998)', 'Guinevere (1999)',\n",
       "       'Drive Me Crazy (1999)', 'Romance (1999)', 'Random Hearts (1999)',\n",
       "       \"Ennui, L' (1998)\", 'Year of Living Dangerously (1982)',\n",
       "       'Children of Paradise (Les enfants du paradis) (1945)',\n",
       "       'Brief Encounter (1946)', 'Lady Eve, The (1941)',\n",
       "       'South Pacific (1958)', 'Flashdance (1983)', 'Indochine (1992)',\n",
       "       'Blue Lagoon, The (1980)', 'Fever Pitch (1997)',\n",
       "       'Man and a Woman, A (Un Homme et une Femme) (1966)',\n",
       "       'Three to Tango (1999)', 'Dreaming of Joseph Lees (1998)',\n",
       "       'Bachelor, The (1999)', 'My Best Girl (1927)', 'Dead Again (1991)',\n",
       "       'Incredibly True Adventure of Two Girls in Love, The (1995)',\n",
       "       'Sandpiper, The (1965)', 'Sleepy Hollow (1999)', 'Maurice (1987)',\n",
       "       'Shop Around the Corner, The (1940)', 'Shampoo (1975)',\n",
       "       'Stanley & Iris (1990)', 'Come See the Paradise (1990)',\n",
       "       'Fisher King, The (1991)', 'Ride with the Devil (1999)',\n",
       "       'Santa Fe Trail (1940)', 'Glass Bottom Boat, The (1966)',\n",
       "       'Anna and the King (1999)', 'Pal Joey (1957)',\n",
       "       'Against All Odds (1984)', 'Down to You (2000)',\n",
       "       'Goodbye Girl, The (1977)', 'Bodyguard, The (1992)',\n",
       "       'Far and Away (1992)', 'Singles (1992)', 'Forever Young (1992)',\n",
       "       'They Might Be Giants (1971)', 'City Lights (1931)',\n",
       "       'Mifune (Mifunes sidste sang) (1999)',\n",
       "       'And God Created Woman (1988)', 'Closer You Get, The (2000)',\n",
       "       'East-West (Est-ouest) (1999)', 'Defending Your Life (1991)',\n",
       "       'Big Country, The (1958)',\n",
       "       'Fantastic Night, The (La Nuit Fantastique) (1949)',\n",
       "       'Blind Date (1987)', 'Love Is a Many-Splendored Thing (1955)',\n",
       "       \"She's Gotta Have It (1986)\", 'Jungle Fever (1991)',\n",
       "       'Dying Young (1991)', 'Romeo Must Die (2000)',\n",
       "       'Here on Earth (2000)', 'Whatever It Takes (2000)',\n",
       "       'Blood and Sand (Sangre y Arena) (1989)',\n",
       "       'Place in the Sun, A (1951)', 'Ladyhawke (1985)',\n",
       "       \"Murphy's Romance (1985)\", 'Return to Me (2000)',\n",
       "       'Bell, Book and Candle (1958)', 'Arthur (1981)',\n",
       "       'Prince of Tides, The (1991)',\n",
       "       'All the Vermeers in New York (1990)', 'Keeping the Faith (2000)',\n",
       "       'Passion of Mind (1999)', 'Love and Basketball (2000)',\n",
       "       'Breathless (1983)', 'Slipper and the Rose, The (1976)',\n",
       "       'Honeymoon in Vegas (1992)', 'Loser (2000)', 'Moonraker (1979)',\n",
       "       'Romeo and Juliet (1968)', 'Fabulous Baker Boys, The (1989)',\n",
       "       \"Prizzi's Honor (1985)\", 'Starman (1984)', 'Bird on a Wire (1990)',\n",
       "       \"Love's Labour's Lost (2000)\", 'Trouble in Paradise (1932)',\n",
       "       'Boys and Girls (2000)', 'Match, The (1999)',\n",
       "       'Hot Spot, The (1990)',\n",
       "       'Wisdom of Crocodiles, The (a.k.a. Immortality) (2000)',\n",
       "       'Criminal Lovers (Les Amants Criminels) (1999)',\n",
       "       'Girl on the Bridge, The (La Fille sur le Pont) (1999)',\n",
       "       'Autumn in New York (2000)', 'Mad About Mambo (2000)',\n",
       "       'Bronco Billy (1980)', 'Aimée & Jaguar (1999)',\n",
       "       'Affair of Love, An (Une Liaison Pornographique) (1999)',\n",
       "       'Couch in New York, A (1996)', 'Love & Sex (2000)',\n",
       "       'Skipped Parts (2000)', 'Woman on Top (2000)'], dtype=object)"
      ]
     },
     "execution_count": 10,
     "metadata": {},
     "output_type": "execute_result"
    }
   ],
   "source": [
    "my_movie_genre = movies.loc[movies['genre'].str.contains('Romance')].copy()\n",
    "my_movie_genre['title'].unique()"
   ]
  },
  {
   "cell_type": "code",
   "execution_count": 11,
   "id": "c8fca3e3",
   "metadata": {},
   "outputs": [
    {
     "data": {
      "text/html": [
       "<div>\n",
       "<style scoped>\n",
       "    .dataframe tbody tr th:only-of-type {\n",
       "        vertical-align: middle;\n",
       "    }\n",
       "\n",
       "    .dataframe tbody tr th {\n",
       "        vertical-align: top;\n",
       "    }\n",
       "\n",
       "    .dataframe thead th {\n",
       "        text-align: right;\n",
       "    }\n",
       "</style>\n",
       "<table border=\"1\" class=\"dataframe\">\n",
       "  <thead>\n",
       "    <tr style=\"text-align: right;\">\n",
       "      <th></th>\n",
       "      <th>user_id</th>\n",
       "      <th>title</th>\n",
       "      <th>movie_id</th>\n",
       "      <th>counts</th>\n",
       "    </tr>\n",
       "  </thead>\n",
       "  <tbody>\n",
       "    <tr>\n",
       "      <th>3384</th>\n",
       "      <td>6039</td>\n",
       "      <td>Here on Earth (2000)</td>\n",
       "      <td>3453</td>\n",
       "      <td>5</td>\n",
       "    </tr>\n",
       "    <tr>\n",
       "      <th>3406</th>\n",
       "      <td>6039</td>\n",
       "      <td>Place in the Sun, A (1951)</td>\n",
       "      <td>3475</td>\n",
       "      <td>5</td>\n",
       "    </tr>\n",
       "    <tr>\n",
       "      <th>3515</th>\n",
       "      <td>6039</td>\n",
       "      <td>Couch in New York, A (1996)</td>\n",
       "      <td>3584</td>\n",
       "      <td>5</td>\n",
       "    </tr>\n",
       "    <tr>\n",
       "      <th>3804</th>\n",
       "      <td>6039</td>\n",
       "      <td>Love &amp; Sex (2000)</td>\n",
       "      <td>3874</td>\n",
       "      <td>5</td>\n",
       "    </tr>\n",
       "    <tr>\n",
       "      <th>3815</th>\n",
       "      <td>6039</td>\n",
       "      <td>Breathless (1983)</td>\n",
       "      <td>3885</td>\n",
       "      <td>5</td>\n",
       "    </tr>\n",
       "  </tbody>\n",
       "</table>\n",
       "</div>"
      ],
      "text/plain": [
       "     user_id                        title  movie_id  counts\n",
       "3384    6039         Here on Earth (2000)      3453       5\n",
       "3406    6039   Place in the Sun, A (1951)      3475       5\n",
       "3515    6039  Couch in New York, A (1996)      3584       5\n",
       "3804    6039            Love & Sex (2000)      3874       5\n",
       "3815    6039            Breathless (1983)      3885       5"
      ]
     },
     "execution_count": 11,
     "metadata": {},
     "output_type": "execute_result"
    }
   ],
   "source": [
    "my_movie_title = ['Here on Earth (2000)',\n",
    "                'Place in the Sun, A (1951)',\n",
    "                'Couch in New York, A (1996)',\n",
    "                'Love & Sex (2000)',\n",
    "                'Breathless (1983)']\n",
    "my_movies = pd.DataFrame({'user_id': ['6039']*5, 'title': my_movie_title, \n",
    "                        'movie_id': movies[movies['title'].isin(my_movie_title)]['movie_id'], 'counts':[5]*5})\n",
    "my_movies"
   ]
  },
  {
   "cell_type": "code",
   "execution_count": 14,
   "id": "559f7b41",
   "metadata": {},
   "outputs": [
    {
     "data": {
      "text/html": [
       "<div>\n",
       "<style scoped>\n",
       "    .dataframe tbody tr th:only-of-type {\n",
       "        vertical-align: middle;\n",
       "    }\n",
       "\n",
       "    .dataframe tbody tr th {\n",
       "        vertical-align: top;\n",
       "    }\n",
       "\n",
       "    .dataframe thead th {\n",
       "        text-align: right;\n",
       "    }\n",
       "</style>\n",
       "<table border=\"1\" class=\"dataframe\">\n",
       "  <thead>\n",
       "    <tr style=\"text-align: right;\">\n",
       "      <th></th>\n",
       "      <th>user_id</th>\n",
       "      <th>movie_id</th>\n",
       "      <th>title</th>\n",
       "      <th>counts</th>\n",
       "    </tr>\n",
       "  </thead>\n",
       "  <tbody>\n",
       "    <tr>\n",
       "      <th>836473</th>\n",
       "      <td>5851</td>\n",
       "      <td>3607</td>\n",
       "      <td>One Little Indian (1973)</td>\n",
       "      <td>5</td>\n",
       "    </tr>\n",
       "    <tr>\n",
       "      <th>836474</th>\n",
       "      <td>5854</td>\n",
       "      <td>3026</td>\n",
       "      <td>Slaughterhouse (1987)</td>\n",
       "      <td>4</td>\n",
       "    </tr>\n",
       "    <tr>\n",
       "      <th>836475</th>\n",
       "      <td>5854</td>\n",
       "      <td>690</td>\n",
       "      <td>Promise, The (Versprechen, Das) (1994)</td>\n",
       "      <td>3</td>\n",
       "    </tr>\n",
       "    <tr>\n",
       "      <th>836476</th>\n",
       "      <td>5938</td>\n",
       "      <td>2909</td>\n",
       "      <td>Five Wives, Three Secretaries and Me (1998)</td>\n",
       "      <td>4</td>\n",
       "    </tr>\n",
       "    <tr>\n",
       "      <th>836477</th>\n",
       "      <td>5948</td>\n",
       "      <td>1360</td>\n",
       "      <td>Identification of a Woman (Identificazione di ...</td>\n",
       "      <td>5</td>\n",
       "    </tr>\n",
       "    <tr>\n",
       "      <th>836478</th>\n",
       "      <td>6039</td>\n",
       "      <td>3453</td>\n",
       "      <td>Here on Earth (2000)</td>\n",
       "      <td>5</td>\n",
       "    </tr>\n",
       "    <tr>\n",
       "      <th>836479</th>\n",
       "      <td>6039</td>\n",
       "      <td>3475</td>\n",
       "      <td>Place in the Sun, A (1951)</td>\n",
       "      <td>5</td>\n",
       "    </tr>\n",
       "    <tr>\n",
       "      <th>836480</th>\n",
       "      <td>6039</td>\n",
       "      <td>3584</td>\n",
       "      <td>Couch in New York, A (1996)</td>\n",
       "      <td>5</td>\n",
       "    </tr>\n",
       "    <tr>\n",
       "      <th>836481</th>\n",
       "      <td>6039</td>\n",
       "      <td>3874</td>\n",
       "      <td>Love &amp; Sex (2000)</td>\n",
       "      <td>5</td>\n",
       "    </tr>\n",
       "    <tr>\n",
       "      <th>836482</th>\n",
       "      <td>6039</td>\n",
       "      <td>3885</td>\n",
       "      <td>Breathless (1983)</td>\n",
       "      <td>5</td>\n",
       "    </tr>\n",
       "  </tbody>\n",
       "</table>\n",
       "</div>"
      ],
      "text/plain": [
       "       user_id  movie_id                                              title  \\\n",
       "836473    5851      3607                           One Little Indian (1973)   \n",
       "836474    5854      3026                              Slaughterhouse (1987)   \n",
       "836475    5854       690             Promise, The (Versprechen, Das) (1994)   \n",
       "836476    5938      2909        Five Wives, Three Secretaries and Me (1998)   \n",
       "836477    5948      1360  Identification of a Woman (Identificazione di ...   \n",
       "836478    6039      3453                               Here on Earth (2000)   \n",
       "836479    6039      3475                         Place in the Sun, A (1951)   \n",
       "836480    6039      3584                        Couch in New York, A (1996)   \n",
       "836481    6039      3874                                  Love & Sex (2000)   \n",
       "836482    6039      3885                                  Breathless (1983)   \n",
       "\n",
       "        counts  \n",
       "836473       5  \n",
       "836474       4  \n",
       "836475       3  \n",
       "836476       4  \n",
       "836477       5  \n",
       "836478       5  \n",
       "836479       5  \n",
       "836480       5  \n",
       "836481       5  \n",
       "836482       5  "
      ]
     },
     "execution_count": 14,
     "metadata": {},
     "output_type": "execute_result"
    }
   ],
   "source": [
    "if not ratings.isin({'user_id':['6039']})['user_id'].any():\n",
    "    ratings = ratings.append(my_movies, ignore_index=True)\n",
    "\n",
    "ratings.tail(10)"
   ]
  },
  {
   "cell_type": "code",
   "execution_count": 15,
   "id": "130bdffd",
   "metadata": {},
   "outputs": [],
   "source": [
    "user_unique = ratings['user_id'].unique()\n",
    "movie_unique = ratings['title'].unique()\n",
    "\n",
    "user_to_idx = {v:k for k,v in enumerate(user_unique)}\n",
    "movie_to_idx = {v:k for k,v in enumerate(movie_unique)}"
   ]
  },
  {
   "cell_type": "code",
   "execution_count": 16,
   "id": "2aab1145",
   "metadata": {},
   "outputs": [
    {
     "name": "stdout",
     "output_type": "stream",
     "text": [
      "user_id column indexing OK!!\n",
      "movie_id column indexing OK!!\n"
     ]
    },
    {
     "data": {
      "text/html": [
       "<div>\n",
       "<style scoped>\n",
       "    .dataframe tbody tr th:only-of-type {\n",
       "        vertical-align: middle;\n",
       "    }\n",
       "\n",
       "    .dataframe tbody tr th {\n",
       "        vertical-align: top;\n",
       "    }\n",
       "\n",
       "    .dataframe thead th {\n",
       "        text-align: right;\n",
       "    }\n",
       "</style>\n",
       "<table border=\"1\" class=\"dataframe\">\n",
       "  <thead>\n",
       "    <tr style=\"text-align: right;\">\n",
       "      <th></th>\n",
       "      <th>user_id</th>\n",
       "      <th>movie_id</th>\n",
       "      <th>title</th>\n",
       "      <th>counts</th>\n",
       "    </tr>\n",
       "  </thead>\n",
       "  <tbody>\n",
       "    <tr>\n",
       "      <th>0</th>\n",
       "      <td>0</td>\n",
       "      <td>0</td>\n",
       "      <td>One Flew Over the Cuckoo's Nest (1975)</td>\n",
       "      <td>5</td>\n",
       "    </tr>\n",
       "    <tr>\n",
       "      <th>1</th>\n",
       "      <td>1</td>\n",
       "      <td>0</td>\n",
       "      <td>One Flew Over the Cuckoo's Nest (1975)</td>\n",
       "      <td>5</td>\n",
       "    </tr>\n",
       "    <tr>\n",
       "      <th>2</th>\n",
       "      <td>2</td>\n",
       "      <td>0</td>\n",
       "      <td>One Flew Over the Cuckoo's Nest (1975)</td>\n",
       "      <td>4</td>\n",
       "    </tr>\n",
       "    <tr>\n",
       "      <th>3</th>\n",
       "      <td>3</td>\n",
       "      <td>0</td>\n",
       "      <td>One Flew Over the Cuckoo's Nest (1975)</td>\n",
       "      <td>4</td>\n",
       "    </tr>\n",
       "    <tr>\n",
       "      <th>4</th>\n",
       "      <td>4</td>\n",
       "      <td>0</td>\n",
       "      <td>One Flew Over the Cuckoo's Nest (1975)</td>\n",
       "      <td>5</td>\n",
       "    </tr>\n",
       "    <tr>\n",
       "      <th>...</th>\n",
       "      <td>...</td>\n",
       "      <td>...</td>\n",
       "      <td>...</td>\n",
       "      <td>...</td>\n",
       "    </tr>\n",
       "    <tr>\n",
       "      <th>836478</th>\n",
       "      <td>6039</td>\n",
       "      <td>2603</td>\n",
       "      <td>Here on Earth (2000)</td>\n",
       "      <td>5</td>\n",
       "    </tr>\n",
       "    <tr>\n",
       "      <th>836479</th>\n",
       "      <td>6039</td>\n",
       "      <td>2491</td>\n",
       "      <td>Place in the Sun, A (1951)</td>\n",
       "      <td>5</td>\n",
       "    </tr>\n",
       "    <tr>\n",
       "      <th>836480</th>\n",
       "      <td>6039</td>\n",
       "      <td>1567</td>\n",
       "      <td>Couch in New York, A (1996)</td>\n",
       "      <td>5</td>\n",
       "    </tr>\n",
       "    <tr>\n",
       "      <th>836481</th>\n",
       "      <td>6039</td>\n",
       "      <td>3274</td>\n",
       "      <td>Love &amp; Sex (2000)</td>\n",
       "      <td>5</td>\n",
       "    </tr>\n",
       "    <tr>\n",
       "      <th>836482</th>\n",
       "      <td>6039</td>\n",
       "      <td>1232</td>\n",
       "      <td>Breathless (1983)</td>\n",
       "      <td>5</td>\n",
       "    </tr>\n",
       "  </tbody>\n",
       "</table>\n",
       "<p>836483 rows × 4 columns</p>\n",
       "</div>"
      ],
      "text/plain": [
       "        user_id  movie_id                                   title  counts\n",
       "0             0         0  One Flew Over the Cuckoo's Nest (1975)       5\n",
       "1             1         0  One Flew Over the Cuckoo's Nest (1975)       5\n",
       "2             2         0  One Flew Over the Cuckoo's Nest (1975)       4\n",
       "3             3         0  One Flew Over the Cuckoo's Nest (1975)       4\n",
       "4             4         0  One Flew Over the Cuckoo's Nest (1975)       5\n",
       "...         ...       ...                                     ...     ...\n",
       "836478     6039      2603                    Here on Earth (2000)       5\n",
       "836479     6039      2491              Place in the Sun, A (1951)       5\n",
       "836480     6039      1567             Couch in New York, A (1996)       5\n",
       "836481     6039      3274                       Love & Sex (2000)       5\n",
       "836482     6039      1232                       Breathless (1983)       5\n",
       "\n",
       "[836483 rows x 4 columns]"
      ]
     },
     "execution_count": 16,
     "metadata": {},
     "output_type": "execute_result"
    }
   ],
   "source": [
    "temp_user_data = ratings['user_id'].map(user_to_idx.get).dropna()\n",
    "if len(temp_user_data) == len(ratings):\n",
    "    print('user_id column indexing OK!!')\n",
    "    ratings['user_id'] = temp_user_data\n",
    "else:\n",
    "    print('user_id column indexing Fail!!')\n",
    "\n",
    "temp_movie_data = ratings['title'].map(movie_to_idx.get).dropna()\n",
    "if len(temp_movie_data) == len(ratings):\n",
    "    print('movie_id column indexing OK!!')\n",
    "    ratings['movie_id'] = temp_movie_data\n",
    "else:\n",
    "    print('movie_id column indexing Fail!!')\n",
    "\n",
    "ratings"
   ]
  },
  {
   "cell_type": "markdown",
   "id": "815f8a26",
   "metadata": {},
   "source": [
    "## 4. CSR Matrix"
   ]
  },
  {
   "cell_type": "code",
   "execution_count": 17,
   "id": "c0ff1294",
   "metadata": {},
   "outputs": [
    {
     "data": {
      "text/plain": [
       "<6040x3628 sparse matrix of type '<class 'numpy.int64'>'\n",
       "\twith 836483 stored elements in Compressed Sparse Row format>"
      ]
     },
     "execution_count": 17,
     "metadata": {},
     "output_type": "execute_result"
    }
   ],
   "source": [
    "from scipy.sparse import csr_matrix\n",
    "\n",
    "num_user = ratings['user_id'].nunique()\n",
    "num_movie = ratings['movie_id'].nunique()\n",
    "\n",
    "csr_data = csr_matrix((ratings['counts'], (ratings['user_id'], ratings['movie_id'])), shape=(num_user, num_movie))\n",
    "csr_data"
   ]
  },
  {
   "cell_type": "markdown",
   "id": "fb8d25d2",
   "metadata": {},
   "source": [
    "## 5. 모델 생성 및 훈련"
   ]
  },
  {
   "cell_type": "code",
   "execution_count": 18,
   "id": "89c9033a",
   "metadata": {},
   "outputs": [],
   "source": [
    "from implicit.als import AlternatingLeastSquares\n",
    "import os\n",
    "import numpy as np\n",
    "\n",
    "os.environ['OPENBLAS_NUM_THREADS']='1'\n",
    "os.environ['KMP_DUPLICATE_LIB_OK']='True'\n",
    "os.environ['MKL_NUM_THREADS']='1'"
   ]
  },
  {
   "cell_type": "code",
   "execution_count": 19,
   "id": "bcaa59f1",
   "metadata": {},
   "outputs": [],
   "source": [
    "als_model = AlternatingLeastSquares(factors=2000, regularization=0.01, use_gpu=False, iterations=50, dtype=np.float32)"
   ]
  },
  {
   "cell_type": "code",
   "execution_count": 20,
   "id": "835c7198",
   "metadata": {},
   "outputs": [
    {
     "data": {
      "text/plain": [
       "<3628x6040 sparse matrix of type '<class 'numpy.int64'>'\n",
       "\twith 836483 stored elements in Compressed Sparse Column format>"
      ]
     },
     "execution_count": 20,
     "metadata": {},
     "output_type": "execute_result"
    }
   ],
   "source": [
    "csr_data_transpose = csr_data.T\n",
    "csr_data_transpose"
   ]
  },
  {
   "cell_type": "code",
   "execution_count": 21,
   "id": "a209958b",
   "metadata": {},
   "outputs": [
    {
     "data": {
      "application/vnd.jupyter.widget-view+json": {
       "model_id": "29c84149fc364460846e3304a571c496",
       "version_major": 2,
       "version_minor": 0
      },
      "text/plain": [
       "  0%|          | 0/50 [00:00<?, ?it/s]"
      ]
     },
     "metadata": {},
     "output_type": "display_data"
    }
   ],
   "source": [
    "als_model.fit(csr_data_transpose)"
   ]
  },
  {
   "cell_type": "markdown",
   "id": "6cd20148",
   "metadata": {},
   "source": [
    "## 6. 나의 선호도 파악"
   ]
  },
  {
   "cell_type": "code",
   "execution_count": 22,
   "id": "dfe0f453",
   "metadata": {},
   "outputs": [],
   "source": [
    "how, breathless = user_to_idx[6039], movie_to_idx['Breathless (1983)']\n",
    "how_vector, breathless_vector = als_model.user_factors[how], als_model.item_factors[breathless]"
   ]
  },
  {
   "cell_type": "code",
   "execution_count": 23,
   "id": "ed12994e",
   "metadata": {},
   "outputs": [
    {
     "data": {
      "text/plain": [
       "array([-1.0513887 , -0.30856252,  0.37702554, ...,  0.5163862 ,\n",
       "        0.09233084,  0.00332553], dtype=float32)"
      ]
     },
     "execution_count": 23,
     "metadata": {},
     "output_type": "execute_result"
    }
   ],
   "source": [
    "how_vector"
   ]
  },
  {
   "cell_type": "code",
   "execution_count": 24,
   "id": "1690be61",
   "metadata": {},
   "outputs": [
    {
     "data": {
      "text/plain": [
       "array([-0.00828305,  0.00283687,  0.00706048, ..., -0.00178244,\n",
       "       -0.00069456,  0.00900057], dtype=float32)"
      ]
     },
     "execution_count": 24,
     "metadata": {},
     "output_type": "execute_result"
    }
   ],
   "source": [
    "breathless_vector"
   ]
  },
  {
   "cell_type": "code",
   "execution_count": 25,
   "id": "d4ae9f18",
   "metadata": {},
   "outputs": [
    {
     "data": {
      "text/plain": [
       "0.023155937"
      ]
     },
     "execution_count": 25,
     "metadata": {},
     "output_type": "execute_result"
    }
   ],
   "source": [
    "np.dot(how_vector, breathless_vector)"
   ]
  },
  {
   "cell_type": "markdown",
   "id": "2564131a",
   "metadata": {},
   "source": [
    "## 7. 내가 좋아하는 영화와 비슷한 영화 추천"
   ]
  },
  {
   "cell_type": "code",
   "execution_count": 28,
   "id": "6d8e7aea",
   "metadata": {},
   "outputs": [
    {
     "data": {
      "text/plain": [
       "[(1232, 0.9999998),\n",
       " (3241, 0.6221039),\n",
       " (3552, 0.62149143),\n",
       " (3525, 0.620972),\n",
       " (3242, 0.62020826),\n",
       " (3246, 0.6200816),\n",
       " (3587, 0.6192811),\n",
       " (3383, 0.6191497),\n",
       " (3551, 0.61824864),\n",
       " (3620, 0.6175055),\n",
       " (3520, 0.6174341),\n",
       " (3035, 0.61676586),\n",
       " (3471, 0.6167414),\n",
       " (3572, 0.61673516),\n",
       " (2960, 0.6162924)]"
      ]
     },
     "execution_count": 28,
     "metadata": {},
     "output_type": "execute_result"
    }
   ],
   "source": [
    "my_movie = 'Breathless (1983)'\n",
    "movie_id = movie_to_idx['Breathless (1983)']\n",
    "similar_movie = als_model.similar_items(movie_id, N=15)\n",
    "similar_movie"
   ]
  },
  {
   "cell_type": "code",
   "execution_count": 29,
   "id": "2473c6a9",
   "metadata": {},
   "outputs": [
    {
     "data": {
      "text/plain": [
       "['Breathless (1983)',\n",
       " 'American Strays (1996)',\n",
       " 'Relative Fear (1994)',\n",
       " 'Penitentiary II (1982)',\n",
       " 'Boy Called Hate, A (1995)',\n",
       " 'Brothers in Trouble (1995)',\n",
       " 'Shopping (1994)',\n",
       " 'Little Men (1998)',\n",
       " 'Foreign Student (1994)',\n",
       " 'Modulations (1998)',\n",
       " 'Rhyme & Reason (1997)',\n",
       " 'For Ever Mozart (1996)',\n",
       " '3 Ninjas: High Noon On Mega Mountain (1998)',\n",
       " \"I Don't Want to Talk About It (De eso no se habla) (1993)\",\n",
       " 'Nightmares (1983)']"
      ]
     },
     "execution_count": 29,
     "metadata": {},
     "output_type": "execute_result"
    }
   ],
   "source": [
    "idx_to_title = {v:k for k,v in movie_to_idx.items()}\n",
    "[idx_to_title[i[0]] for i in similar_movie]"
   ]
  },
  {
   "cell_type": "code",
   "execution_count": 30,
   "id": "e2766d6a",
   "metadata": {},
   "outputs": [],
   "source": [
    "def get_similar_movie(movie_title: str):\n",
    "    movie_id = movie_to_idx[movie_title]\n",
    "    similar_movie = als_model.similar_items(movie_id)\n",
    "    similar_movie = [idx_to_title[i[0]] for i in similar_movie]\n",
    "    return similar_movie"
   ]
  },
  {
   "cell_type": "code",
   "execution_count": 33,
   "id": "11f7055c",
   "metadata": {},
   "outputs": [
    {
     "data": {
      "text/plain": [
       "['American Strays (1996)',\n",
       " 'Boy Called Hate, A (1995)',\n",
       " 'Kicked in the Head (1997)',\n",
       " 'Male and Female (1919)',\n",
       " \"I Don't Want to Talk About It (De eso no se habla) (1993)\",\n",
       " \"Brother's Kiss, A (1997)\",\n",
       " 'Neon Bible, The (1995)',\n",
       " 'War at Home, The (1996)',\n",
       " 'Number Seventeen (1932)',\n",
       " 'Relative Fear (1994)']"
      ]
     },
     "execution_count": 33,
     "metadata": {},
     "output_type": "execute_result"
    }
   ],
   "source": [
    "get_similar_movie('American Strays (1996)')"
   ]
  },
  {
   "cell_type": "markdown",
   "id": "f0f9fad4",
   "metadata": {},
   "source": [
    "## 8. 좋아할만한 영화 추천"
   ]
  },
  {
   "cell_type": "code",
   "execution_count": 34,
   "id": "664d70fb",
   "metadata": {},
   "outputs": [
    {
     "data": {
      "text/plain": [
       "[(2889, 0.1636061),\n",
       " (1951, 0.1520332),\n",
       " (2306, 0.14124379),\n",
       " (2582, 0.11640931),\n",
       " (1920, 0.114588566),\n",
       " (1342, 0.11115833),\n",
       " (1455, 0.110237464),\n",
       " (627, 0.109456874),\n",
       " (3291, 0.10658172),\n",
       " (2430, 0.101728216),\n",
       " (2944, 0.09941157),\n",
       " (3144, 0.09717184),\n",
       " (658, 0.09472695),\n",
       " (2040, 0.091856495),\n",
       " (1954, 0.09061955),\n",
       " (1866, 0.090391494),\n",
       " (3163, 0.08797023),\n",
       " (2697, 0.08772649),\n",
       " (2832, 0.08756846),\n",
       " (905, 0.08718266)]"
      ]
     },
     "execution_count": 34,
     "metadata": {},
     "output_type": "execute_result"
    }
   ],
   "source": [
    "user = user_to_idx[6039]\n",
    "\n",
    "movie_recommended = als_model.recommend(user, csr_data, N=20, filter_already_liked_items=True)\n",
    "movie_recommended"
   ]
  },
  {
   "cell_type": "code",
   "execution_count": 35,
   "id": "3cafb919",
   "metadata": {},
   "outputs": [
    {
     "data": {
      "text/plain": [
       "['Damsel in Distress, A (1937)',\n",
       " 'Broadway Melody, The (1929)',\n",
       " 'Great Ziegfeld, The (1936)',\n",
       " 'Harmonists, The (1997)',\n",
       " 'Gilda (1946)',\n",
       " 'My Man Godfrey (1957)',\n",
       " 'Holiday Inn (1942)',\n",
       " 'March of the Wooden Soldiers (a.k.a. Laurel & Hardy in Toyland) (1934)',\n",
       " 'Battling Butler (1926)',\n",
       " 'Sanjuro (1962)',\n",
       " 'Trouble in Paradise (1932)',\n",
       " 'Vibes (1988)',\n",
       " 'White Christmas (1954)',\n",
       " 'Bhaji on the Beach (1993)',\n",
       " 'Henry Fool (1997)',\n",
       " 'Trip to Bountiful, The (1985)',\n",
       " 'Stage Fright (1950)',\n",
       " 'Little Princess, The (1939)',\n",
       " 'Bridge at Remagen, The (1969)',\n",
       " 'Murder, My Sweet (1944)']"
      ]
     },
     "execution_count": 35,
     "metadata": {},
     "output_type": "execute_result"
    }
   ],
   "source": [
    "[idx_to_title[i[0]] for i in movie_recommended]"
   ]
  },
  {
   "cell_type": "markdown",
   "id": "2dd8f0ac",
   "metadata": {},
   "source": [
    "## 9. 기여도 확인"
   ]
  },
  {
   "cell_type": "code",
   "execution_count": 41,
   "id": "c64ebd47",
   "metadata": {},
   "outputs": [
    {
     "data": {
      "text/plain": [
       "[(\"You Can't Take It With You (1938)\", 0.05419891972320865),\n",
       " ('Wings of Desire (Der Himmel über Berlin) (1987)', 0.023824934099730785),\n",
       " ('Shall We Dance? (1937)', 0.01769335214770872),\n",
       " ('Muppet Treasure Island (1996)', 0.016953140373815675),\n",
       " ('Inspector General, The (1949)', 0.015346675365114935),\n",
       " ('Victor/Victoria (1982)', 0.01153695075429589),\n",
       " ('Arsenic and Old Lace (1944)', 0.009288890767776791),\n",
       " ('Around the World in 80 Days (1956)', 0.008886366585718949),\n",
       " ('Cinderella (1950)', 0.008839944093450618),\n",
       " ('To Catch a Thief (1955)', 0.008009798797283953)]"
      ]
     },
     "execution_count": 41,
     "metadata": {},
     "output_type": "execute_result"
    }
   ],
   "source": [
    "movie_id = movie_to_idx['Henry Fool (1997)']\n",
    "\n",
    "explain = als_model.explain(user, csr_data, itemid=movie_id)\n",
    "[(idx_to_title[i[0]], i[1]) for i in explain[1]]"
   ]
  },
  {
   "cell_type": "markdown",
   "id": "b8c0d489",
   "metadata": {},
   "source": [
    "## 마치며\n",
    "* 정확도가 그렇게 높지는 않음.\n",
    "     + 여러 개의 영화를 넣고 돌려봤을 때, 첫 번째의 영화는 대략 0.04 ~ 0.06 정도의 유사도를 보야주고 있음.\n",
    "* 내가 좋아하는 영화와 추천하는 영화가 비슷한지는 미지수."
   ]
  }
 ],
 "metadata": {
  "kernelspec": {
   "display_name": "Python 3 (ipykernel)",
   "language": "python",
   "name": "python3"
  },
  "language_info": {
   "codemirror_mode": {
    "name": "ipython",
    "version": 3
   },
   "file_extension": ".py",
   "mimetype": "text/x-python",
   "name": "python",
   "nbconvert_exporter": "python",
   "pygments_lexer": "ipython3",
   "version": "3.9.7"
  }
 },
 "nbformat": 4,
 "nbformat_minor": 5
}
