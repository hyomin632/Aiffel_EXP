{
  "nbformat": 4,
  "nbformat_minor": 0,
  "metadata": {
    "colab": {
      "name": "wine.ipynb",
      "provenance": []
    },
    "kernelspec": {
      "name": "python3",
      "display_name": "Python 3"
    },
    "language_info": {
      "name": "python"
    }
  },
  "cells": [
    {
      "cell_type": "code",
      "execution_count": 2,
      "metadata": {
        "id": "aNU56j6oaYK6"
      },
      "outputs": [],
      "source": [
        "from sklearn.datasets import load_wine\n",
        "from sklearn.model_selection import train_test_split\n",
        "from sklearn.metrics import classification_report\n",
        "from sklearn.tree import DecisionTreeClassifier\n",
        "from sklearn.metrics import accuracy_score\n",
        "import matplotlib.pyplot as plt\n",
        "import pandas as pd\n",
        "import numpy as np"
      ]
    },
    {
      "cell_type": "code",
      "source": [
        "wine = load_wine()\n",
        "print(wine.DESCR)"
      ],
      "metadata": {
        "colab": {
          "base_uri": "https://localhost:8080/"
        },
        "id": "tNIuL6S1af2E",
        "outputId": "ed36d85c-ed9f-43ea-b7e1-ff12dcb27399"
      },
      "execution_count": 3,
      "outputs": [
        {
          "output_type": "stream",
          "name": "stdout",
          "text": [
            ".. _wine_dataset:\n",
            "\n",
            "Wine recognition dataset\n",
            "------------------------\n",
            "\n",
            "**Data Set Characteristics:**\n",
            "\n",
            "    :Number of Instances: 178 (50 in each of three classes)\n",
            "    :Number of Attributes: 13 numeric, predictive attributes and the class\n",
            "    :Attribute Information:\n",
            " \t\t- Alcohol\n",
            " \t\t- Malic acid\n",
            " \t\t- Ash\n",
            "\t\t- Alcalinity of ash  \n",
            " \t\t- Magnesium\n",
            "\t\t- Total phenols\n",
            " \t\t- Flavanoids\n",
            " \t\t- Nonflavanoid phenols\n",
            " \t\t- Proanthocyanins\n",
            "\t\t- Color intensity\n",
            " \t\t- Hue\n",
            " \t\t- OD280/OD315 of diluted wines\n",
            " \t\t- Proline\n",
            "\n",
            "    - class:\n",
            "            - class_0\n",
            "            - class_1\n",
            "            - class_2\n",
            "\t\t\n",
            "    :Summary Statistics:\n",
            "    \n",
            "    ============================= ==== ===== ======= =====\n",
            "                                   Min   Max   Mean     SD\n",
            "    ============================= ==== ===== ======= =====\n",
            "    Alcohol:                      11.0  14.8    13.0   0.8\n",
            "    Malic Acid:                   0.74  5.80    2.34  1.12\n",
            "    Ash:                          1.36  3.23    2.36  0.27\n",
            "    Alcalinity of Ash:            10.6  30.0    19.5   3.3\n",
            "    Magnesium:                    70.0 162.0    99.7  14.3\n",
            "    Total Phenols:                0.98  3.88    2.29  0.63\n",
            "    Flavanoids:                   0.34  5.08    2.03  1.00\n",
            "    Nonflavanoid Phenols:         0.13  0.66    0.36  0.12\n",
            "    Proanthocyanins:              0.41  3.58    1.59  0.57\n",
            "    Colour Intensity:              1.3  13.0     5.1   2.3\n",
            "    Hue:                          0.48  1.71    0.96  0.23\n",
            "    OD280/OD315 of diluted wines: 1.27  4.00    2.61  0.71\n",
            "    Proline:                       278  1680     746   315\n",
            "    ============================= ==== ===== ======= =====\n",
            "\n",
            "    :Missing Attribute Values: None\n",
            "    :Class Distribution: class_0 (59), class_1 (71), class_2 (48)\n",
            "    :Creator: R.A. Fisher\n",
            "    :Donor: Michael Marshall (MARSHALL%PLU@io.arc.nasa.gov)\n",
            "    :Date: July, 1988\n",
            "\n",
            "This is a copy of UCI ML Wine recognition datasets.\n",
            "https://archive.ics.uci.edu/ml/machine-learning-databases/wine/wine.data\n",
            "\n",
            "The data is the results of a chemical analysis of wines grown in the same\n",
            "region in Italy by three different cultivators. There are thirteen different\n",
            "measurements taken for different constituents found in the three types of\n",
            "wine.\n",
            "\n",
            "Original Owners: \n",
            "\n",
            "Forina, M. et al, PARVUS - \n",
            "An Extendible Package for Data Exploration, Classification and Correlation. \n",
            "Institute of Pharmaceutical and Food Analysis and Technologies,\n",
            "Via Brigata Salerno, 16147 Genoa, Italy.\n",
            "\n",
            "Citation:\n",
            "\n",
            "Lichman, M. (2013). UCI Machine Learning Repository\n",
            "[https://archive.ics.uci.edu/ml]. Irvine, CA: University of California,\n",
            "School of Information and Computer Science. \n",
            "\n",
            ".. topic:: References\n",
            "\n",
            "  (1) S. Aeberhard, D. Coomans and O. de Vel, \n",
            "  Comparison of Classifiers in High Dimensional Settings, \n",
            "  Tech. Rep. no. 92-02, (1992), Dept. of Computer Science and Dept. of  \n",
            "  Mathematics and Statistics, James Cook University of North Queensland. \n",
            "  (Also submitted to Technometrics). \n",
            "\n",
            "  The data was used with many others for comparing various \n",
            "  classifiers. The classes are separable, though only RDA \n",
            "  has achieved 100% correct classification. \n",
            "  (RDA : 100%, QDA 99.4%, LDA 98.9%, 1NN 96.1% (z-transformed data)) \n",
            "  (All results using the leave-one-out technique) \n",
            "\n",
            "  (2) S. Aeberhard, D. Coomans and O. de Vel, \n",
            "  \"THE CLASSIFICATION PERFORMANCE OF RDA\" \n",
            "  Tech. Rep. no. 92-01, (1992), Dept. of Computer Science and Dept. of \n",
            "  Mathematics and Statistics, James Cook University of North Queensland. \n",
            "  (Also submitted to Journal of Chemometrics).\n",
            "\n"
          ]
        }
      ]
    },
    {
      "cell_type": "code",
      "source": [
        "dtclf = DecisionTreeClassifier()\n",
        "\n",
        "data = wine.data\n",
        "label = wine.target"
      ],
      "metadata": {
        "id": "-uACeXmsbi-_"
      },
      "execution_count": null,
      "outputs": []
    },
    {
      "cell_type": "code",
      "source": [
        "print('feature: ', data.shape) \n",
        "print('label : ', label.shape)\n",
        "\n",
        "print('target: ', wine.target_names)"
      ],
      "metadata": {
        "colab": {
          "base_uri": "https://localhost:8080/"
        },
        "id": "R22h-jD-ap69",
        "outputId": "546e66ab-ec05-4409-9673-7f20bf2887e7"
      },
      "execution_count": null,
      "outputs": [
        {
          "output_type": "stream",
          "name": "stdout",
          "text": [
            "feature:  (178, 13)\n",
            "label :  (178,)\n",
            "target:  ['class_0' 'class_1' 'class_2']\n"
          ]
        }
      ]
    },
    {
      "cell_type": "code",
      "source": [
        "# 특성을 7:3으로 나눔\n",
        "xtrain, xtest, ytrain, ytest = train_test_split(data, label, test_size=0.3, random_state=2201061230)\n",
        "\n",
        "print('xtrain의 수: ', len(xtrain), 'xtest의 수: ', len(xtest))\n",
        "print(xtrain.shape, xtest.shape)\n",
        "print(ytrain.shape, ytest.shape)"
      ],
      "metadata": {
        "colab": {
          "base_uri": "https://localhost:8080/"
        },
        "id": "xNmaaQmJbaou",
        "outputId": "34f448e9-93d9-4bab-8d91-cdec38750928"
      },
      "execution_count": null,
      "outputs": [
        {
          "output_type": "stream",
          "name": "stdout",
          "text": [
            "xtrain의 수:  124 xtest의 수:  54\n",
            "(124, 13) (54, 13)\n",
            "(124,) (54,)\n"
          ]
        }
      ]
    },
    {
      "cell_type": "code",
      "source": [
        "# 의사결정나무\n",
        "decision_tree = DecisionTreeClassifier(random_state=2201061230)\n",
        "decision_tree.fit(xtrain, ytrain)\n",
        "ypred = decision_tree.predict(xtest)\n",
        "\n",
        "print(classification_report(ytest, ypred))"
      ],
      "metadata": {
        "colab": {
          "base_uri": "https://localhost:8080/"
        },
        "id": "Kn1Z2L-7cYFP",
        "outputId": "0f20e1ea-cd8f-4f7f-ff24-f6f826effaf0"
      },
      "execution_count": null,
      "outputs": [
        {
          "output_type": "stream",
          "name": "stdout",
          "text": [
            "              precision    recall  f1-score   support\n",
            "\n",
            "           0       0.77      0.89      0.83        19\n",
            "           1       0.79      0.68      0.73        22\n",
            "           2       0.85      0.85      0.85        13\n",
            "\n",
            "    accuracy                           0.80        54\n",
            "   macro avg       0.80      0.81      0.80        54\n",
            "weighted avg       0.80      0.80      0.79        54\n",
            "\n"
          ]
        }
      ]
    },
    {
      "cell_type": "code",
      "source": [
        "# 랜덤 포레스트\n",
        "from sklearn.ensemble import RandomForestClassifier\n",
        "\n",
        "xtrain, xtest, ytrain, ytest = train_test_split(data, label, test_size=0.2, random_state=2201061230)\n",
        "\n",
        "random_forest = RandomForestClassifier(random_state=2201061230)\n",
        "random_forest.fit(xtrain, ytrain)\n",
        "ypred = random_forest.predict(xtest)\n",
        "\n",
        "print(classification_report(ytest, ypred))"
      ],
      "metadata": {
        "colab": {
          "base_uri": "https://localhost:8080/"
        },
        "id": "UjVaXWUhcql8",
        "outputId": "ebc98272-5af7-4d92-8d66-3e4e6e700dc1"
      },
      "execution_count": null,
      "outputs": [
        {
          "output_type": "stream",
          "name": "stdout",
          "text": [
            "              precision    recall  f1-score   support\n",
            "\n",
            "           0       1.00      0.83      0.91        12\n",
            "           1       0.87      0.93      0.90        14\n",
            "           2       0.91      1.00      0.95        10\n",
            "\n",
            "    accuracy                           0.92        36\n",
            "   macro avg       0.93      0.92      0.92        36\n",
            "weighted avg       0.92      0.92      0.92        36\n",
            "\n"
          ]
        }
      ]
    },
    {
      "cell_type": "code",
      "source": [
        "# SVM 모델\n",
        "from sklearn import svm\n",
        "svm_model = svm.SVC()\n",
        "\n",
        "svm_model.fit(xtrain, ytrain)\n",
        "ypred = svm_model.predict(xtest)\n",
        "\n",
        "print(classification_report(ytest, ypred))"
      ],
      "metadata": {
        "colab": {
          "base_uri": "https://localhost:8080/"
        },
        "id": "ZQ_kaPYrc3Hw",
        "outputId": "bbd55caf-8d95-450e-ea9b-4285b9330fdc"
      },
      "execution_count": null,
      "outputs": [
        {
          "output_type": "stream",
          "name": "stdout",
          "text": [
            "              precision    recall  f1-score   support\n",
            "\n",
            "           0       0.90      0.75      0.82        12\n",
            "           1       0.67      0.86      0.75        14\n",
            "           2       0.50      0.40      0.44        10\n",
            "\n",
            "    accuracy                           0.69        36\n",
            "   macro avg       0.69      0.67      0.67        36\n",
            "weighted avg       0.70      0.69      0.69        36\n",
            "\n"
          ]
        }
      ]
    },
    {
      "cell_type": "code",
      "source": [
        "# SGD 모델\n",
        "from sklearn.linear_model import SGDClassifier\n",
        "sgd_model = SGDClassifier()\n",
        "\n",
        "sgd_model.fit(xtrain, ytrain)\n",
        "ypred = sgd_model.predict(xtest)\n",
        "\n",
        "print(classification_report(ytest, ypred))"
      ],
      "metadata": {
        "colab": {
          "base_uri": "https://localhost:8080/"
        },
        "id": "JYu4tt9Hc-y2",
        "outputId": "14b48692-71be-4b80-9c4b-8e62140a78ea"
      },
      "execution_count": null,
      "outputs": [
        {
          "output_type": "stream",
          "name": "stdout",
          "text": [
            "              precision    recall  f1-score   support\n",
            "\n",
            "           0       1.00      0.75      0.86        12\n",
            "           1       0.52      1.00      0.68        14\n",
            "           2       0.00      0.00      0.00        10\n",
            "\n",
            "    accuracy                           0.64        36\n",
            "   macro avg       0.51      0.58      0.51        36\n",
            "weighted avg       0.53      0.64      0.55        36\n",
            "\n"
          ]
        },
        {
          "output_type": "stream",
          "name": "stderr",
          "text": [
            "/usr/local/lib/python3.7/dist-packages/sklearn/metrics/_classification.py:1308: UndefinedMetricWarning: Precision and F-score are ill-defined and being set to 0.0 in labels with no predicted samples. Use `zero_division` parameter to control this behavior.\n",
            "  _warn_prf(average, modifier, msg_start, len(result))\n",
            "/usr/local/lib/python3.7/dist-packages/sklearn/metrics/_classification.py:1308: UndefinedMetricWarning: Precision and F-score are ill-defined and being set to 0.0 in labels with no predicted samples. Use `zero_division` parameter to control this behavior.\n",
            "  _warn_prf(average, modifier, msg_start, len(result))\n",
            "/usr/local/lib/python3.7/dist-packages/sklearn/metrics/_classification.py:1308: UndefinedMetricWarning: Precision and F-score are ill-defined and being set to 0.0 in labels with no predicted samples. Use `zero_division` parameter to control this behavior.\n",
            "  _warn_prf(average, modifier, msg_start, len(result))\n"
          ]
        }
      ]
    },
    {
      "cell_type": "code",
      "source": [
        "# 로지스틱 회귀\n",
        "from sklearn.linear_model import LogisticRegression\n",
        "logistic_model = LogisticRegression()\n",
        "\n",
        "logistic_model.fit(xtrain, ytrain)\n",
        "ypred = logistic_model.predict(xtest)\n",
        "\n",
        "print(classification_report(ytest, ypred))"
      ],
      "metadata": {
        "colab": {
          "base_uri": "https://localhost:8080/"
        },
        "id": "bsOeMFRydB29",
        "outputId": "b7bbf4cc-f5f4-4f98-e059-ed633abee6e4"
      },
      "execution_count": null,
      "outputs": [
        {
          "output_type": "stream",
          "name": "stdout",
          "text": [
            "              precision    recall  f1-score   support\n",
            "\n",
            "           0       1.00      0.75      0.86        12\n",
            "           1       0.81      0.93      0.87        14\n",
            "           2       0.91      1.00      0.95        10\n",
            "\n",
            "    accuracy                           0.89        36\n",
            "   macro avg       0.91      0.89      0.89        36\n",
            "weighted avg       0.90      0.89      0.89        36\n",
            "\n"
          ]
        },
        {
          "output_type": "stream",
          "name": "stderr",
          "text": [
            "/usr/local/lib/python3.7/dist-packages/sklearn/linear_model/_logistic.py:818: ConvergenceWarning: lbfgs failed to converge (status=1):\n",
            "STOP: TOTAL NO. of ITERATIONS REACHED LIMIT.\n",
            "\n",
            "Increase the number of iterations (max_iter) or scale the data as shown in:\n",
            "    https://scikit-learn.org/stable/modules/preprocessing.html\n",
            "Please also refer to the documentation for alternative solver options:\n",
            "    https://scikit-learn.org/stable/modules/linear_model.html#logistic-regression\n",
            "  extra_warning_msg=_LOGISTIC_SOLVER_CONVERGENCE_MSG,\n"
          ]
        }
      ]
    },
    {
      "cell_type": "markdown",
      "source": [
        "### 따라서, SGD와 SVM 모델은 정확도가 다른 모델에 비해 낮음을 알 수 있음"
      ],
      "metadata": {
        "id": "6ZCIQZCBdlas"
      }
    }
  ]
}