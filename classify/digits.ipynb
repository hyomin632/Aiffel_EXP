{
  "nbformat": 4,
  "nbformat_minor": 0,
  "metadata": {
    "colab": {
      "name": "digits.ipynb",
      "provenance": []
    },
    "kernelspec": {
      "name": "python3",
      "display_name": "Python 3"
    },
    "language_info": {
      "name": "python"
    }
  },
  "cells": [
    {
      "cell_type": "code",
      "execution_count": 1,
      "metadata": {
        "id": "PP2j4FtFSOZa"
      },
      "outputs": [],
      "source": [
        "from sklearn.datasets import load_digits\n",
        "from sklearn.model_selection import train_test_split\n",
        "from sklearn.metrics import classification_report\n",
        "from sklearn.tree import DecisionTreeClassifier\n",
        "from sklearn.metrics import accuracy_score\n",
        "import matplotlib.pyplot as plt\n",
        "import pandas as pd\n",
        "import numpy as np"
      ]
    },
    {
      "cell_type": "code",
      "source": [
        "digits = load_digits()\n",
        "print(digits.DESCR)"
      ],
      "metadata": {
        "colab": {
          "base_uri": "https://localhost:8080/"
        },
        "id": "U502C_1UTDma",
        "outputId": "67049153-21a1-4889-e5c7-31e7e3d8dbe9"
      },
      "execution_count": 2,
      "outputs": [
        {
          "output_type": "stream",
          "name": "stdout",
          "text": [
            ".. _digits_dataset:\n",
            "\n",
            "Optical recognition of handwritten digits dataset\n",
            "--------------------------------------------------\n",
            "\n",
            "**Data Set Characteristics:**\n",
            "\n",
            "    :Number of Instances: 1797\n",
            "    :Number of Attributes: 64\n",
            "    :Attribute Information: 8x8 image of integer pixels in the range 0..16.\n",
            "    :Missing Attribute Values: None\n",
            "    :Creator: E. Alpaydin (alpaydin '@' boun.edu.tr)\n",
            "    :Date: July; 1998\n",
            "\n",
            "This is a copy of the test set of the UCI ML hand-written digits datasets\n",
            "https://archive.ics.uci.edu/ml/datasets/Optical+Recognition+of+Handwritten+Digits\n",
            "\n",
            "The data set contains images of hand-written digits: 10 classes where\n",
            "each class refers to a digit.\n",
            "\n",
            "Preprocessing programs made available by NIST were used to extract\n",
            "normalized bitmaps of handwritten digits from a preprinted form. From a\n",
            "total of 43 people, 30 contributed to the training set and different 13\n",
            "to the test set. 32x32 bitmaps are divided into nonoverlapping blocks of\n",
            "4x4 and the number of on pixels are counted in each block. This generates\n",
            "an input matrix of 8x8 where each element is an integer in the range\n",
            "0..16. This reduces dimensionality and gives invariance to small\n",
            "distortions.\n",
            "\n",
            "For info on NIST preprocessing routines, see M. D. Garris, J. L. Blue, G.\n",
            "T. Candela, D. L. Dimmick, J. Geist, P. J. Grother, S. A. Janet, and C.\n",
            "L. Wilson, NIST Form-Based Handprint Recognition System, NISTIR 5469,\n",
            "1994.\n",
            "\n",
            ".. topic:: References\n",
            "\n",
            "  - C. Kaynak (1995) Methods of Combining Multiple Classifiers and Their\n",
            "    Applications to Handwritten Digit Recognition, MSc Thesis, Institute of\n",
            "    Graduate Studies in Science and Engineering, Bogazici University.\n",
            "  - E. Alpaydin, C. Kaynak (1998) Cascading Classifiers, Kybernetika.\n",
            "  - Ken Tang and Ponnuthurai N. Suganthan and Xi Yao and A. Kai Qin.\n",
            "    Linear dimensionalityreduction using relevance weighted LDA. School of\n",
            "    Electrical and Electronic Engineering Nanyang Technological University.\n",
            "    2005.\n",
            "  - Claudio Gentile. A New Approximate Maximal Margin Classification\n",
            "    Algorithm. NIPS. 2000.\n",
            "\n"
          ]
        }
      ]
    },
    {
      "cell_type": "code",
      "source": [
        "# 데이터 파악하기\n",
        "print(digits.images[0])         # 손글씨 이미지 배열\n",
        "print(digits.images[0].shape)   # 8x8 \n",
        "print(digits.images.size)       # 115008 / 64 = 1797"
      ],
      "metadata": {
        "colab": {
          "base_uri": "https://localhost:8080/"
        },
        "id": "alGDpeCBTHwp",
        "outputId": "38fa35f8-8ff9-45ec-bfbe-e409aad0da54"
      },
      "execution_count": null,
      "outputs": [
        {
          "output_type": "stream",
          "name": "stdout",
          "text": [
            "[[ 0.  0.  5. 13.  9.  1.  0.  0.]\n",
            " [ 0.  0. 13. 15. 10. 15.  5.  0.]\n",
            " [ 0.  3. 15.  2.  0. 11.  8.  0.]\n",
            " [ 0.  4. 12.  0.  0.  8.  8.  0.]\n",
            " [ 0.  5.  8.  0.  0.  9.  8.  0.]\n",
            " [ 0.  4. 11.  0.  1. 12.  7.  0.]\n",
            " [ 0.  2. 14.  5. 10. 12.  0.  0.]\n",
            " [ 0.  0.  6. 13. 10.  0.  0.  0.]]\n",
            "(8, 8)\n",
            "115008\n"
          ]
        }
      ]
    },
    {
      "cell_type": "code",
      "source": [
        "# 레이블 확인하기\n",
        "print(digits.target[0])"
      ],
      "metadata": {
        "colab": {
          "base_uri": "https://localhost:8080/"
        },
        "id": "GNXppQRBTLxY",
        "outputId": "10edf2f1-1cd8-480e-d157-ad8aceb0d1e3"
      },
      "execution_count": null,
      "outputs": [
        {
          "output_type": "stream",
          "name": "stdout",
          "text": [
            "0\n"
          ]
        }
      ]
    },
    {
      "cell_type": "code",
      "source": [
        "# 손글씨를 이미지화해서 화면에 출력\n",
        "imglab = list(zip(digits.images, digits.target))\n",
        "# 손글씨 이미지 배열과 레이블을 합쳐서 리스트로 생성\n",
        "imglab[:1]"
      ],
      "metadata": {
        "colab": {
          "base_uri": "https://localhost:8080/"
        },
        "id": "rRYqR3XJTOXw",
        "outputId": "680e4740-2d48-42e4-ed20-8a8829eeab4e"
      },
      "execution_count": null,
      "outputs": [
        {
          "output_type": "execute_result",
          "data": {
            "text/plain": [
              "[(array([[ 0.,  0.,  5., 13.,  9.,  1.,  0.,  0.],\n",
              "         [ 0.,  0., 13., 15., 10., 15.,  5.,  0.],\n",
              "         [ 0.,  3., 15.,  2.,  0., 11.,  8.,  0.],\n",
              "         [ 0.,  4., 12.,  0.,  0.,  8.,  8.,  0.],\n",
              "         [ 0.,  5.,  8.,  0.,  0.,  9.,  8.,  0.],\n",
              "         [ 0.,  4., 11.,  0.,  1., 12.,  7.,  0.],\n",
              "         [ 0.,  2., 14.,  5., 10., 12.,  0.,  0.],\n",
              "         [ 0.,  0.,  6., 13., 10.,  0.,  0.,  0.]]), 0)]"
            ]
          },
          "metadata": {},
          "execution_count": 5
        }
      ]
    },
    {
      "cell_type": "code",
      "source": [
        "for ix, (img, lbl) in enumerate(imglab[:10]):\n",
        "    plt.subplot(2, 5, ix + 1)\n",
        "    plt.axis(False)\n",
        "    plt.imshow(img, cmap=plt.cm.bone,\n",
        "               interpolation='nearest')\n",
        "    plt.title(f'training: {lbl}')\n",
        "plt.show()"
      ],
      "metadata": {
        "colab": {
          "base_uri": "https://localhost:8080/",
          "height": 223
        },
        "id": "hc6v01TmTQ5w",
        "outputId": "e79c4ece-4bb4-4e6b-9a51-95cd08bef75c"
      },
      "execution_count": null,
      "outputs": [
        {
          "output_type": "display_data",
          "data": {
            "image/png": "[encoded data removed]",
            "text/plain": [
              "<Figure size 432x288 with 10 Axes>"
            ]
          },
          "metadata": {
            "needs_background": "light"
          }
        }
      ]
    },
    {
      "cell_type": "code",
      "source": [
        "digits = load_digits()\n",
        "dtclf = DecisionTreeClassifier()\n",
        "\n",
        "data = digits.data\n",
        "label = digits.target"
      ],
      "metadata": {
        "id": "lO0WkNA0Tb9P"
      },
      "execution_count": null,
      "outputs": []
    },
    {
      "cell_type": "code",
      "source": [
        "dtclf.fit(data, label)\n",
        "\n",
        "predict = dtclf.predict(data)\n",
        "\n",
        "print('모델 정확도', accuracy_score(label, predict))    # 이렇게 나오면 안 되는 거죠"
      ],
      "metadata": {
        "colab": {
          "base_uri": "https://localhost:8080/"
        },
        "id": "Q6PngVJJXJOI",
        "outputId": "d459e456-9126-46ac-d685-48faf99da199"
      },
      "execution_count": null,
      "outputs": [
        {
          "output_type": "stream",
          "name": "stdout",
          "text": [
            "모델 정확도 1.0\n"
          ]
        }
      ]
    },
    {
      "cell_type": "code",
      "source": [
        "# 특성을 7:3으로 나눔\n",
        "xtrain = digits.data[:1258, ]\n",
        "xtest = digits.data[1258:, ]\n",
        "print(xtrain.shape, xtest.shape)"
      ],
      "metadata": {
        "colab": {
          "base_uri": "https://localhost:8080/"
        },
        "id": "3rc_assAXWh0",
        "outputId": "1ce240b7-6423-4883-e277-e44c9d44cfdd"
      },
      "execution_count": null,
      "outputs": [
        {
          "output_type": "stream",
          "name": "stdout",
          "text": [
            "(1258, 64) (539, 64)\n"
          ]
        }
      ]
    },
    {
      "cell_type": "code",
      "source": [
        "# 레이블 역시 7:3으로 나눔\n",
        "ytrain = digits.target[:1258, ]\n",
        "ytest = digits.target[1258:, ]\n",
        "print(ytrain.shape, ytest.shape)"
      ],
      "metadata": {
        "colab": {
          "base_uri": "https://localhost:8080/"
        },
        "id": "93AOKrUxYD3P",
        "outputId": "8923a56b-417a-4450-aff9-7b3c54b0e6c3"
      },
      "execution_count": null,
      "outputs": [
        {
          "output_type": "stream",
          "name": "stdout",
          "text": [
            "(1258,) (539,)\n"
          ]
        }
      ]
    },
    {
      "cell_type": "code",
      "source": [
        "# 의사결정나무\n",
        "# train, test로 분리한 데이터를 이용해서 모델을 학습시킴\n",
        "dtclf = DecisionTreeClassifier()\n",
        "\n",
        "dtclf.fit(xtrain, ytrain)\n",
        "predict = dtclf.predict(xtest)\n",
        "print('모델 정확도', accuracy_score(ytest, predict))"
      ],
      "metadata": {
        "colab": {
          "base_uri": "https://localhost:8080/"
        },
        "id": "EnVj-AlQYLcF",
        "outputId": "218159f2-e382-40dd-e89a-4471a01a194c"
      },
      "execution_count": null,
      "outputs": [
        {
          "output_type": "stream",
          "name": "stdout",
          "text": [
            "모델 정확도 0.7884972170686456\n"
          ]
        }
      ]
    },
    {
      "cell_type": "code",
      "source": [
        "# train/test 분할시 데이터 비율 확인\n",
        "print(ytrain)   # 학습용 데이터\n",
        "print(ytest)    # 평가용 데이터"
      ],
      "metadata": {
        "colab": {
          "base_uri": "https://localhost:8080/"
        },
        "id": "YZ3R7NdJYQeY",
        "outputId": "17e772e8-3d1b-49bf-aea3-2fa1939680c6"
      },
      "execution_count": null,
      "outputs": [
        {
          "output_type": "stream",
          "name": "stdout",
          "text": [
            "[0 1 2 ... 3 1 4]\n",
            "[0 5 3 6 9 6 1 7 5 4 4 7 2 8 2 2 5 7 9 5 4 8 8 4 9 0 8 9 8 0 1 2 3 4 5 6 7\n",
            " 8 9 0 1 2 3 4 5 6 7 8 9 0 1 2 3 4 5 6 7 8 9 0 9 5 5 6 5 0 9 8 9 8 4 1 7 7\n",
            " 3 5 1 0 0 2 2 7 8 2 0 1 2 6 3 3 7 3 3 4 6 6 6 4 9 1 5 0 9 5 2 8 2 0 0 1 7\n",
            " 6 3 2 1 7 4 6 3 1 3 9 1 7 6 8 4 3 1 4 0 5 3 6 9 6 1 7 5 4 4 7 2 8 2 2 5 7\n",
            " 9 5 4 8 8 4 9 0 8 0 1 2 3 4 5 6 7 8 9 0 1 2 3 4 5 6 7 8 9 0 1 2 3 4 5 6 7\n",
            " 8 9 0 9 5 5 6 5 0 9 8 9 8 4 1 7 7 3 5 1 0 0 2 2 7 8 2 0 1 2 6 3 3 7 3 3 4\n",
            " 6 6 6 4 9 1 5 0 9 5 2 8 2 0 0 1 7 6 3 2 1 7 4 6 3 1 3 9 1 7 6 8 4 3 1 4 0\n",
            " 5 3 6 9 6 1 7 5 4 4 7 2 8 2 2 5 7 9 5 4 8 8 4 9 0 8 9 8 0 1 2 3 4 5 6 7 8\n",
            " 9 0 1 2 3 4 5 6 9 0 1 2 3 4 5 6 7 8 9 0 9 5 5 6 5 0 9 8 9 8 4 1 7 7 3 5 1\n",
            " 0 0 2 2 7 8 2 0 1 2 6 3 3 7 3 3 4 6 6 6 4 9 1 5 0 9 5 2 8 0 1 7 6 3 2 1 7\n",
            " 4 6 3 1 3 9 1 7 6 8 4 3 1 4 0 5 3 6 9 6 1 7 5 4 4 7 2 2 5 7 9 5 4 4 9 0 8\n",
            " 9 8 0 1 2 3 4 5 6 7 8 9 0 1 2 3 4 5 6 7 8 9 0 1 2 3 4 5 6 7 8 9 0 9 5 5 6\n",
            " 5 0 9 8 9 8 4 1 7 7 3 5 1 0 0 2 2 7 8 2 0 1 2 6 3 3 7 3 3 4 6 6 6 4 9 1 5\n",
            " 0 9 5 2 8 2 0 0 1 7 6 3 2 1 7 4 6 3 1 3 9 1 7 6 8 4 3 1 4 0 5 3 6 9 6 1 7\n",
            " 5 4 4 7 2 8 2 2 5 7 9 5 4 8 8 4 9 0 8 9 8]\n"
          ]
        }
      ]
    },
    {
      "cell_type": "code",
      "source": [
        "# train/test 분할시 데이터 비율 확인\n",
        "print(pd.DataFrame(ytrain).value_counts())\n",
        "print(pd.DataFrame(ytest).value_counts())"
      ],
      "metadata": {
        "colab": {
          "base_uri": "https://localhost:8080/"
        },
        "id": "_PqJUPCcYRuR",
        "outputId": "96294a0e-2dbd-46ea-f003-6f45e1c6cfdc"
      },
      "execution_count": null,
      "outputs": [
        {
          "output_type": "stream",
          "name": "stdout",
          "text": [
            "3    130\n",
            "1    129\n",
            "6    127\n",
            "5    126\n",
            "9    125\n",
            "7    125\n",
            "4    125\n",
            "0    125\n",
            "2    124\n",
            "8    122\n",
            "dtype: int64\n",
            "5    56\n",
            "4    56\n",
            "9    55\n",
            "7    54\n",
            "6    54\n",
            "3    53\n",
            "2    53\n",
            "1    53\n",
            "0    53\n",
            "8    52\n",
            "dtype: int64\n"
          ]
        }
      ]
    },
    {
      "cell_type": "code",
      "source": [
        "# 랜덤 포레스트\n",
        "from sklearn.ensemble import RandomForestClassifier\n",
        "\n",
        "xtrain, xtest, ytrain, ytest = train_test_split(data, label, test_size=0.2, random_state=2201061216)\n",
        "\n",
        "random_forest = RandomForestClassifier(random_state=2201061216)\n",
        "random_forest.fit(xtrain, ytrain)\n",
        "ypred = random_forest.predict(xtest)\n",
        "\n",
        "print(classification_report(ytest, ypred))"
      ],
      "metadata": {
        "colab": {
          "base_uri": "https://localhost:8080/"
        },
        "id": "ZIFyiH9-YVVF",
        "outputId": "0f975dd9-f680-405a-f039-403850707d67"
      },
      "execution_count": null,
      "outputs": [
        {
          "output_type": "stream",
          "name": "stdout",
          "text": [
            "              precision    recall  f1-score   support\n",
            "\n",
            "           0       1.00      1.00      1.00        33\n",
            "           1       0.97      1.00      0.98        30\n",
            "           2       1.00      1.00      1.00        40\n",
            "           3       0.97      0.94      0.96        36\n",
            "           4       1.00      1.00      1.00        33\n",
            "           5       0.98      0.98      0.98        41\n",
            "           6       1.00      1.00      1.00        35\n",
            "           7       0.94      1.00      0.97        29\n",
            "           8       0.95      0.90      0.92        41\n",
            "           9       0.93      0.93      0.93        42\n",
            "\n",
            "    accuracy                           0.97       360\n",
            "   macro avg       0.97      0.98      0.97       360\n",
            "weighted avg       0.97      0.97      0.97       360\n",
            "\n"
          ]
        }
      ]
    },
    {
      "cell_type": "code",
      "source": [
        "# SVM 모델\n",
        "from sklearn import svm\n",
        "svm_model = svm.SVC()\n",
        "\n",
        "svm_model.fit(xtrain, ytrain)\n",
        "ypred = svm_model.predict(xtest)\n",
        "\n",
        "print(classification_report(ytest, ypred))"
      ],
      "metadata": {
        "colab": {
          "base_uri": "https://localhost:8080/"
        },
        "id": "5k4azSdBY7a_",
        "outputId": "02d697e1-fd39-42a4-e200-c87a7a5a5fde"
      },
      "execution_count": null,
      "outputs": [
        {
          "output_type": "stream",
          "name": "stdout",
          "text": [
            "              precision    recall  f1-score   support\n",
            "\n",
            "           0       1.00      1.00      1.00        33\n",
            "           1       1.00      1.00      1.00        30\n",
            "           2       0.98      1.00      0.99        40\n",
            "           3       0.97      0.94      0.96        36\n",
            "           4       1.00      1.00      1.00        33\n",
            "           5       0.98      0.98      0.98        41\n",
            "           6       1.00      1.00      1.00        35\n",
            "           7       0.97      1.00      0.98        29\n",
            "           8       0.98      0.98      0.98        41\n",
            "           9       0.95      0.93      0.94        42\n",
            "\n",
            "    accuracy                           0.98       360\n",
            "   macro avg       0.98      0.98      0.98       360\n",
            "weighted avg       0.98      0.98      0.98       360\n",
            "\n"
          ]
        }
      ]
    },
    {
      "cell_type": "code",
      "source": [
        "# SGD 모델\n",
        "from sklearn.linear_model import SGDClassifier\n",
        "sgd_model = SGDClassifier()\n",
        "\n",
        "sgd_model.fit(xtrain, ytrain)\n",
        "ypred = sgd_model.predict(xtest)\n",
        "\n",
        "print(classification_report(ytest, ypred))"
      ],
      "metadata": {
        "colab": {
          "base_uri": "https://localhost:8080/"
        },
        "id": "IcPbNZSIY9PH",
        "outputId": "43a59562-6190-49f6-dd41-801fc4e06214"
      },
      "execution_count": null,
      "outputs": [
        {
          "output_type": "stream",
          "name": "stdout",
          "text": [
            "              precision    recall  f1-score   support\n",
            "\n",
            "           0       1.00      0.97      0.98        33\n",
            "           1       1.00      0.83      0.91        30\n",
            "           2       1.00      0.93      0.96        40\n",
            "           3       1.00      0.92      0.96        36\n",
            "           4       1.00      1.00      1.00        33\n",
            "           5       0.95      0.98      0.96        41\n",
            "           6       1.00      1.00      1.00        35\n",
            "           7       1.00      1.00      1.00        29\n",
            "           8       0.73      1.00      0.85        41\n",
            "           9       0.97      0.88      0.93        42\n",
            "\n",
            "    accuracy                           0.95       360\n",
            "   macro avg       0.97      0.95      0.95       360\n",
            "weighted avg       0.96      0.95      0.95       360\n",
            "\n"
          ]
        }
      ]
    },
    {
      "cell_type": "code",
      "source": [
        "# 로지스틱 회귀\n",
        "from sklearn.linear_model import LogisticRegression\n",
        "logistic_model = LogisticRegression()\n",
        "\n",
        "logistic_model.fit(xtrain, ytrain)\n",
        "ypred = logistic_model.predict(xtest)\n",
        "\n",
        "print(classification_report(ytest, ypred))"
      ],
      "metadata": {
        "colab": {
          "base_uri": "https://localhost:8080/"
        },
        "id": "t-8ArM9UZHvy",
        "outputId": "75738816-eae9-4e82-e421-bc92a0f04277"
      },
      "execution_count": null,
      "outputs": [
        {
          "output_type": "stream",
          "name": "stdout",
          "text": [
            "              precision    recall  f1-score   support\n",
            "\n",
            "           0       1.00      0.97      0.98        33\n",
            "           1       0.90      0.93      0.92        30\n",
            "           2       0.95      0.95      0.95        40\n",
            "           3       0.90      0.97      0.93        36\n",
            "           4       0.97      1.00      0.99        33\n",
            "           5       0.95      0.95      0.95        41\n",
            "           6       1.00      1.00      1.00        35\n",
            "           7       1.00      0.97      0.98        29\n",
            "           8       0.95      0.95      0.95        41\n",
            "           9       0.95      0.88      0.91        42\n",
            "\n",
            "    accuracy                           0.96       360\n",
            "   macro avg       0.96      0.96      0.96       360\n",
            "weighted avg       0.96      0.96      0.96       360\n",
            "\n"
          ]
        },
        {
          "output_type": "stream",
          "name": "stderr",
          "text": [
            "/usr/local/lib/python3.7/dist-packages/sklearn/linear_model/_logistic.py:818: ConvergenceWarning: lbfgs failed to converge (status=1):\n",
            "STOP: TOTAL NO. of ITERATIONS REACHED LIMIT.\n",
            "\n",
            "Increase the number of iterations (max_iter) or scale the data as shown in:\n",
            "    https://scikit-learn.org/stable/modules/preprocessing.html\n",
            "Please also refer to the documentation for alternative solver options:\n",
            "    https://scikit-learn.org/stable/modules/linear_model.html#logistic-regression\n",
            "  extra_warning_msg=_LOGISTIC_SOLVER_CONVERGENCE_MSG,\n"
          ]
        }
      ]
    },
    {
      "cell_type": "markdown",
      "source": [
        "### 따라서, 의사결정나무를 제외한 나머지 모델은 정확도가 높고 비슷함을 알 수 있음"
      ],
      "metadata": {
        "id": "cc6j4t_VdGLR"
      }
    }
  ]
}