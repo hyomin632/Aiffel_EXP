{
  "nbformat": 4,
  "nbformat_minor": 0,
  "metadata": {
    "colab": {
      "name": "변동성.ipynb",
      "provenance": []
    },
    "kernelspec": {
      "name": "python3",
      "display_name": "Python 3"
    },
    "language_info": {
      "name": "python"
    }
  },
  "cells": [
    {
      "cell_type": "code",
      "execution_count": 1,
      "metadata": {
        "id": "kTPhWFCW5yfc"
      },
      "outputs": [],
      "source": [
        "import numpy as np\n",
        "import pandas as pd\n",
        "import scipy.stats as sp"
      ]
    },
    {
      "cell_type": "code",
      "source": [
        "%precision 2\n",
        "pd.set_option('precision', 2)\n",
        "np.set_printoptions(precision=2)  # 출력 옵션 변경"
      ],
      "metadata": {
        "id": "6HhwVrfD6XJB"
      },
      "execution_count": 20,
      "outputs": []
    },
    {
      "cell_type": "code",
      "source": [
        "num1 = [7, 6, 3, 3, 1]\n",
        "num2 = [3, 4, 4, 5, 4]\n",
        "num3 = [4, 4, 4, 4, 4]\n",
        "\n",
        "print(np.mean(num1), np.mean(num2), np.mean(num3))"
      ],
      "metadata": {
        "colab": {
          "base_uri": "https://localhost:8080/"
        },
        "id": "z7kGQFbj6hjl",
        "outputId": "d9e5f347-4c52-4d3b-cc3e-3c249773162d"
      },
      "execution_count": 2,
      "outputs": [
        {
          "output_type": "stream",
          "name": "stdout",
          "text": [
            "4.0 4.0 4.0\n"
          ]
        }
      ]
    },
    {
      "cell_type": "code",
      "source": [
        "# 조선 왕들의 수명의 범위 조사\n",
        "kings = [73, 62, 45, 53, 38, 16, 51, 28, 37, 30, 56, 30, 33, 56, 66, 54, 40, 33, 59, 36, 82, 48, 44, 22, 32, 67, 52]\n",
        "\n",
        "max = np.max(kings)\n",
        "min = np.min(kings)\n",
        "range = max - min\n",
        "print(min, max, range)"
      ],
      "metadata": {
        "colab": {
          "base_uri": "https://localhost:8080/"
        },
        "id": "ZWH2rN1v64K1",
        "outputId": "61e0b15c-cb41-46cf-b2ba-037f23a7a735"
      },
      "execution_count": 3,
      "outputs": [
        {
          "output_type": "stream",
          "name": "stdout",
          "text": [
            "16 82 66\n"
          ]
        }
      ]
    },
    {
      "cell_type": "code",
      "source": [
        "# 대학원생들의 나이 범위 조사\n",
        "studs = [19, 18, 19, 21, 20, 24, 19, 19, 20, 18, 21, 22, 23, 21, 19, 18, 22, 24, 21, 18, 19]\n",
        "\n",
        "max = np.max(studs)\n",
        "min = np.min(studs)\n",
        "range = max - min\n",
        "\n",
        "print(min, max, range)"
      ],
      "metadata": {
        "colab": {
          "base_uri": "https://localhost:8080/"
        },
        "id": "xsCnLBJH7KZC",
        "outputId": "f2ec7c3e-c186-4657-e31c-6e3c25fcf702"
      },
      "execution_count": 4,
      "outputs": [
        {
          "output_type": "stream",
          "name": "stdout",
          "text": [
            "18 24 6\n"
          ]
        }
      ]
    },
    {
      "cell_type": "markdown",
      "source": [
        "# 분산\n",
        "\n",
        "* 평균을 중심으로 밀집되거나 퍼짐 정도를 나타내는 척도\n",
        "* 모분산 $ \\sigma^2 $: 모집단을 구성하는 모든 자료값과 모평균의 편차제곱에 대한 평균\n",
        "* 표본분산 $ s^2 $: 표본을 구성하는 모든 자료값과 표본평균의 편차의 제곱합을 n-1로 나눈 수치\n",
        "\n",
        "* 편차\n",
        "> $(x_{i}) - \\bar{x})$\n",
        "\n",
        "* 편차제곱\n",
        "> $(x_{i} - \\bar{x})^2$\n",
        "\n",
        "* 모분산\n",
        "> $\\frac{\\sum(x_{i} - \\bar{x}^2)}{N}$\n",
        "\n",
        "* 표본분산\n",
        "> $\\frac{\\sum(x_{i} - \\bar{x}^2)}{n-1}$"
      ],
      "metadata": {
        "id": "BH66plru7qXZ"
      }
    },
    {
      "cell_type": "code",
      "source": [
        "nums = [5, 8, 5, 4, 6, 7, 8, 8, 3, 6]\n",
        "\n",
        "mean = np.mean(nums)\n",
        "print(mean)\n",
        "\n",
        "devi = nums - mean    # 편차\n",
        "print(devi, np.sum(devi))   # 편차 합은 0이 됨\n",
        "\n",
        "devi = (nums - mean) ** 2   # 편차제곱\n",
        "print(devi, np.sum(devi))    # 편차제곱 합은 양수가 됨\n",
        "\n",
        "print(np.sum(devi) / len(nums))   # 편차제곱 합을 데이터 갯수로 나눔 -> 편차제곱의 평균 - 분산\n",
        "\n",
        "print(np.var(nums))   # 모분산\n",
        "print(np.var(nums, ddof=1))   # 표본분산"
      ],
      "metadata": {
        "colab": {
          "base_uri": "https://localhost:8080/"
        },
        "id": "bu9Q1l-g7gk5",
        "outputId": "6433b431-b482-4252-c7cf-c300ed12953f"
      },
      "execution_count": 10,
      "outputs": [
        {
          "output_type": "stream",
          "name": "stdout",
          "text": [
            "6.0\n",
            "[-1.  2. -1. -2.  0.  1.  2.  2. -3.  0.] 0.0\n",
            "[1. 4. 1. 4. 0. 1. 4. 4. 9. 0.] 28.0\n",
            "2.8\n",
            "2.8\n",
            "3.111111111111111\n"
          ]
        }
      ]
    },
    {
      "cell_type": "code",
      "source": [
        "# 1조와 4조의 비상금 차이\n",
        "teamOne = [30, 26, 40, 28, 26]\n",
        "teamFour = [35, 20, 60, 15, 20]\n",
        "\n",
        "mean1 = np.mean(teamOne)\n",
        "mean2 = np.mean(teamFour)\n",
        "\n",
        "devi1 = (teamOne - mean1) ** 2\n",
        "devi2 = (teamFour - mean2) ** 2\n",
        "\n",
        "print(mean1, np.sum(devi1))\n",
        "print(mean2, np.sum(devi2))"
      ],
      "metadata": {
        "colab": {
          "base_uri": "https://localhost:8080/"
        },
        "id": "EPx0FOdH8lOg",
        "outputId": "1548a764-ab50-4579-9996-7119ae18f74f"
      },
      "execution_count": 11,
      "outputs": [
        {
          "output_type": "stream",
          "name": "stdout",
          "text": [
            "30.0 136.0\n",
            "30.0 1350.0\n"
          ]
        }
      ]
    },
    {
      "cell_type": "code",
      "source": [
        "# 1조와 4조의 비상금 분산\n",
        "print(np.var(teamOne, ddof=1))  # ddof: 자유도(numpy에서는 자유도 0으로 디폴트 적용)\n",
        "print(np.var(teamFour, ddof=1)) # ddof=0 -> 표본의 표준편차 / ddof=1 -> 모집단의 표준편차"
      ],
      "metadata": {
        "colab": {
          "base_uri": "https://localhost:8080/"
        },
        "id": "68k_lheL9G-d",
        "outputId": "ac54d35d-72a6-4fad-89ac-1f3e5a92f7a4"
      },
      "execution_count": 12,
      "outputs": [
        {
          "output_type": "stream",
          "name": "stdout",
          "text": [
            "34.0\n",
            "337.5\n"
          ]
        }
      ]
    },
    {
      "cell_type": "code",
      "source": [
        "# 조선 왕들 수명의 분산 조사\n",
        "kings = [73, 62, 45, 53, 38, 16, 51, 28, 37, 30, 56, 30, 33, 56, 66, 54, 40, 33, 59, 36, 82, 48, 44, 22, 32, 67, 52]\n",
        "\n",
        "np.var(kings, ddof=1)"
      ],
      "metadata": {
        "colab": {
          "base_uri": "https://localhost:8080/"
        },
        "id": "QheopxvQ9bxY",
        "outputId": "c1bdf9c5-629a-463a-e8b3-cd48e18212b3"
      },
      "execution_count": 15,
      "outputs": [
        {
          "output_type": "execute_result",
          "data": {
            "text/plain": [
              "261.58"
            ]
          },
          "metadata": {},
          "execution_count": 15
        }
      ]
    },
    {
      "cell_type": "code",
      "source": [
        "# 대학원생들 나이의 분산 조사\n",
        "studs = [19, 18, 19, 21, 20, 24, 19, 19, 20, 18, 21, 22, 23, 21, 19, 18, 22, 24, 21, 18, 19]\n",
        "\n",
        "np.var(studs, ddof=1)"
      ],
      "metadata": {
        "colab": {
          "base_uri": "https://localhost:8080/"
        },
        "id": "9IYsS-d89mEj",
        "outputId": "b6ca5648-c3fa-4140-ae56-5d6167169c92"
      },
      "execution_count": 16,
      "outputs": [
        {
          "output_type": "execute_result",
          "data": {
            "text/plain": [
              "3.69"
            ]
          },
          "metadata": {},
          "execution_count": 16
        }
      ]
    },
    {
      "cell_type": "markdown",
      "source": [
        "# 표준편차\n",
        "\n",
        "* 분산값에 제곱근을 취한 값\n",
        "* 분산은 편차를 제곱했기 때문에 결과값의 단위 역시 제곱이 됨\n",
        "* 분산의 단위를 원래 자료의 단위로 전환하기 위해 만든 값\n",
        "\n",
        "* 모표준편차 $\\sigma$\n",
        "> $\\sqrt \\frac{\\sum(x_{i} - \\bar{x}^2)}{N}$\n",
        "\n",
        "* 표본 표준편차 $s$\n",
        "> $\\sqrt \\frac{\\sum(x_{i} - \\bar{x}^2)}{n-1}$"
      ],
      "metadata": {
        "id": "t8jIeoQt9uEY"
      }
    },
    {
      "cell_type": "code",
      "source": [
        "# 조선 왕들 수명의 표준편차 조사\n",
        "kings = [73, 62, 45, 53, 38, 16, 51, 28, 37, 30, 56, 30, 33, 56, 66, 54, 40, 33, 59, 36, 82, 48, 44, 22, 32, 67, 52]\n",
        "\n",
        "np.sqrt(np.var(kings, ddof=1))"
      ],
      "metadata": {
        "colab": {
          "base_uri": "https://localhost:8080/"
        },
        "id": "2A08NKDU9zRa",
        "outputId": "fac4526f-bd45-45e0-fbc4-50e45b0f48f0"
      },
      "execution_count": 17,
      "outputs": [
        {
          "output_type": "execute_result",
          "data": {
            "text/plain": [
              "16.17"
            ]
          },
          "metadata": {},
          "execution_count": 17
        }
      ]
    },
    {
      "cell_type": "code",
      "source": [
        "# 대학원생들 나의의 표준편차 조사\n",
        "studs = [19, 18, 19, 21, 20, 24, 19, 19, 20, 18, 21, 22, 23, 21, 19, 18, 22, 24, 21, 18, 19]\n",
        "\n",
        "np.sqrt(np.var(studs, ddof=1))"
      ],
      "metadata": {
        "colab": {
          "base_uri": "https://localhost:8080/"
        },
        "id": "RBm2SJLQ_Y2m",
        "outputId": "2686036b-a74d-4ffe-ba8f-609949632784"
      },
      "execution_count": 18,
      "outputs": [
        {
          "output_type": "execute_result",
          "data": {
            "text/plain": [
              "1.92"
            ]
          },
          "metadata": {},
          "execution_count": 18
        }
      ]
    },
    {
      "cell_type": "code",
      "source": [
        "# 카푸치노 판매점들의 5일 동안 오후 4~5시 사이의 판매량 데이터를 보고\n",
        "# 어느 지점이 판매를 잘하였는지 파악하시오\n",
        "\n",
        "A = [20, 40, 50, 60, 80]\n",
        "B = [20, 45, 50, 55, 80]\n",
        "\n",
        "# 중심화 경향 분석\n",
        "print(np.mean(A), np.mean(B))\n",
        "print(np.median(A), np.median(B))   # median: 중앙값\n",
        "\n",
        "# 분산화 경향 분석\n",
        "print(np.max(A) - np.min(A))\n",
        "print(np.max(B) - np.min(B))\n",
        "\n",
        "print(np.var(A, ddof=1))\n",
        "print(np.var(B, ddof=1))\n",
        "\n",
        "print(np.sqrt(np.var(A, ddof=1)))\n",
        "print(np.sqrt(np.var(B, ddof=1)))   # sqrt: 제곱근"
      ],
      "metadata": {
        "colab": {
          "base_uri": "https://localhost:8080/"
        },
        "id": "hremdReC_hr6",
        "outputId": "06329f4d-05fb-4e78-d940-c5f22ee3ea2c"
      },
      "execution_count": 21,
      "outputs": [
        {
          "output_type": "stream",
          "name": "stdout",
          "text": [
            "50.0 50.0\n",
            "50.0 50.0\n",
            "60\n",
            "60\n",
            "500.0\n",
            "462.5\n",
            "22.360679774997898\n",
            "21.50581316760657\n"
          ]
        }
      ]
    },
    {
      "cell_type": "code",
      "source": [
        "# 회계 수습 사원들의 월급이 3536, 3173, 3448, 3121, 3622라고 한다\n",
        "# 사무 수습 사원들의 월급 평균은 3550, 표준편차는 250이라 할 때,\n",
        "# 이 둘 수습사원 그룹을 비교하시오\n",
        "\n",
        "account = [3536, 3173, 3448, 3121, 3622]\n",
        "\n",
        "print(np.mean(account))\n",
        "print(np.sqrt(np.var(account, ddof=1)))"
      ],
      "metadata": {
        "colab": {
          "base_uri": "https://localhost:8080/"
        },
        "id": "a7339b0lAgFT",
        "outputId": "dd931004-8869-443e-85b5-b3df0de1b482"
      },
      "execution_count": 22,
      "outputs": [
        {
          "output_type": "stream",
          "name": "stdout",
          "text": [
            "3380.0\n",
            "222.17898190422963\n"
          ]
        }
      ]
    },
    {
      "cell_type": "code",
      "source": [
        "# 성적 데이터 파일을 이용한 과목별 범위, 표준편차 계산\n",
        "df = pd.read_csv('/content/exams.csv')\n",
        "\n",
        "print(np.max(df.english) - np.min(df.english))\n",
        "var = np.var(df.english, ddof=1)\n",
        "print(var, np.sqrt(var))\n",
        "\n",
        "print(np.max(df.mathematics) - np.min(df.mathematics))\n",
        "var = np.var(df.mathematics, ddof=1)\n",
        "print(var, np.sqrt(var))"
      ],
      "metadata": {
        "colab": {
          "base_uri": "https://localhost:8080/"
        },
        "id": "Cqnr4vRJBUaY",
        "outputId": "eeae859c-05df-43d7-9e25-7218561c8ad3"
      },
      "execution_count": 26,
      "outputs": [
        {
          "output_type": "stream",
          "name": "stdout",
          "text": [
            "42\n",
            "96.03632653061226 9.799812576300235\n",
            "37\n",
            "70.80163265306118 8.414370603500965\n"
          ]
        }
      ]
    },
    {
      "cell_type": "code",
      "source": [
        "# 혈당 검사 데이터를 이용해서 test1, test2의 범위, 표준편차 계산\n",
        "df = pd.read_csv('/content/drugtests.csv')\n",
        "\n",
        "print(np.max(df.Test1) - np.min(df.Test1))\n",
        "var = np.var(df.Test1, ddof=1)\n",
        "print(var, np.sqrt(var))\n",
        "\n",
        "print(np.max(df.Test2) - np.min(df.Test2))\n",
        "var = np.var(df.Test2, ddof=1)\n",
        "print(var, np.sqrt(var))"
      ],
      "metadata": {
        "colab": {
          "base_uri": "https://localhost:8080/"
        },
        "id": "oGgTUNeeCF8W",
        "outputId": "785c5d89-c940-400d-d020-c7417153d6b9"
      },
      "execution_count": 29,
      "outputs": [
        {
          "output_type": "stream",
          "name": "stdout",
          "text": [
            "33\n",
            "74.42666666666668 8.627089118970934\n",
            "67\n",
            "468.3566666666666 21.64154954402911\n"
          ]
        }
      ]
    },
    {
      "cell_type": "markdown",
      "source": [
        "### 사원 데이터 기술통계2"
      ],
      "metadata": {
        "id": "Qhp4lMUkDHA0"
      }
    },
    {
      "cell_type": "code",
      "source": [
        "emp = pd.read_csv('/content/employees.csv')\n",
        "\n",
        "print(np.max(emp.SALARY) - np.min(emp.SALARY))\n",
        "var = np.var(emp.SALARY, ddof=1)\n",
        "print(var, np.sqrt(var))"
      ],
      "metadata": {
        "colab": {
          "base_uri": "https://localhost:8080/"
        },
        "id": "gWwrdKsdDYxa",
        "outputId": "3a199a72-ae55-4bcd-daa1-8fdeb77ef5b1"
      },
      "execution_count": 30,
      "outputs": [
        {
          "output_type": "stream",
          "name": "stdout",
          "text": [
            "21900\n",
            "15284813.669546822 3909.5797305524825\n"
          ]
        }
      ]
    },
    {
      "cell_type": "code",
      "source": [
        "emp.head()"
      ],
      "metadata": {
        "colab": {
          "base_uri": "https://localhost:8080/",
          "height": 270
        },
        "id": "xtfkLswtDqGW",
        "outputId": "34c6c243-71a1-43b8-c43f-d01fa02a8db3"
      },
      "execution_count": 31,
      "outputs": [
        {
          "output_type": "execute_result",
          "data": {
            "text/html": [
              "\n",
              "  <div id=\"df-0ac5c196-2c0c-440b-8963-f0ced084b0d4\">\n",
              "    <div class=\"colab-df-container\">\n",
              "      <div>\n",
              "<style scoped>\n",
              "    .dataframe tbody tr th:only-of-type {\n",
              "        vertical-align: middle;\n",
              "    }\n",
              "\n",
              "    .dataframe tbody tr th {\n",
              "        vertical-align: top;\n",
              "    }\n",
              "\n",
              "    .dataframe thead th {\n",
              "        text-align: right;\n",
              "    }\n",
              "</style>\n",
              "<table border=\"1\" class=\"dataframe\">\n",
              "  <thead>\n",
              "    <tr style=\"text-align: right;\">\n",
              "      <th></th>\n",
              "      <th>EMPLOYEE_ID</th>\n",
              "      <th>FIRST_NAME</th>\n",
              "      <th>LAST_NAME</th>\n",
              "      <th>EMAIL</th>\n",
              "      <th>PHONE_NUMBER</th>\n",
              "      <th>HIRE_DATE</th>\n",
              "      <th>JOB_ID</th>\n",
              "      <th>SALARY</th>\n",
              "      <th>COMMISSION_PCT</th>\n",
              "      <th>MANAGER_ID</th>\n",
              "      <th>DEPARTMENT_ID</th>\n",
              "    </tr>\n",
              "  </thead>\n",
              "  <tbody>\n",
              "    <tr>\n",
              "      <th>0</th>\n",
              "      <td>100</td>\n",
              "      <td>Steven</td>\n",
              "      <td>King</td>\n",
              "      <td>SKING</td>\n",
              "      <td>515.123.4567</td>\n",
              "      <td>2003-06-17</td>\n",
              "      <td>AD_PRES</td>\n",
              "      <td>24000</td>\n",
              "      <td>NaN</td>\n",
              "      <td>NaN</td>\n",
              "      <td>90.0</td>\n",
              "    </tr>\n",
              "    <tr>\n",
              "      <th>1</th>\n",
              "      <td>101</td>\n",
              "      <td>Neena</td>\n",
              "      <td>Kochhar</td>\n",
              "      <td>NKOCHHAR</td>\n",
              "      <td>515.123.4568</td>\n",
              "      <td>2005-09-21</td>\n",
              "      <td>AD_VP</td>\n",
              "      <td>17000</td>\n",
              "      <td>NaN</td>\n",
              "      <td>100.0</td>\n",
              "      <td>90.0</td>\n",
              "    </tr>\n",
              "    <tr>\n",
              "      <th>2</th>\n",
              "      <td>102</td>\n",
              "      <td>Lex</td>\n",
              "      <td>De Haan</td>\n",
              "      <td>LDEHAAN</td>\n",
              "      <td>515.123.4569</td>\n",
              "      <td>2001-01-13</td>\n",
              "      <td>AD_VP</td>\n",
              "      <td>17000</td>\n",
              "      <td>NaN</td>\n",
              "      <td>100.0</td>\n",
              "      <td>90.0</td>\n",
              "    </tr>\n",
              "    <tr>\n",
              "      <th>3</th>\n",
              "      <td>103</td>\n",
              "      <td>Alexander</td>\n",
              "      <td>Hunold</td>\n",
              "      <td>AHUNOLD</td>\n",
              "      <td>590.423.4567</td>\n",
              "      <td>2006-01-03</td>\n",
              "      <td>IT_PROG</td>\n",
              "      <td>9000</td>\n",
              "      <td>NaN</td>\n",
              "      <td>102.0</td>\n",
              "      <td>60.0</td>\n",
              "    </tr>\n",
              "    <tr>\n",
              "      <th>4</th>\n",
              "      <td>104</td>\n",
              "      <td>Bruce</td>\n",
              "      <td>Ernst</td>\n",
              "      <td>BERNST</td>\n",
              "      <td>590.423.4568</td>\n",
              "      <td>2007-05-21</td>\n",
              "      <td>IT_PROG</td>\n",
              "      <td>6000</td>\n",
              "      <td>NaN</td>\n",
              "      <td>103.0</td>\n",
              "      <td>60.0</td>\n",
              "    </tr>\n",
              "  </tbody>\n",
              "</table>\n",
              "</div>\n",
              "      <button class=\"colab-df-convert\" onclick=\"convertToInteractive('df-0ac5c196-2c0c-440b-8963-f0ced084b0d4')\"\n",
              "              title=\"Convert this dataframe to an interactive table.\"\n",
              "              style=\"display:none;\">\n",
              "        \n",
              "  <svg xmlns=\"http://www.w3.org/2000/svg\" height=\"24px\"viewBox=\"0 0 24 24\"\n",
              "       width=\"24px\">\n",
              "    <path d=\"M0 0h24v24H0V0z\" fill=\"none\"/>\n",
              "    <path d=\"M18.56 5.44l.94 2.06.94-2.06 2.06-.94-2.06-.94-.94-2.06-.94 2.06-2.06.94zm-11 1L8.5 8.5l.94-2.06 2.06-.94-2.06-.94L8.5 2.5l-.94 2.06-2.06.94zm10 10l.94 2.06.94-2.06 2.06-.94-2.06-.94-.94-2.06-.94 2.06-2.06.94z\"/><path d=\"M17.41 7.96l-1.37-1.37c-.4-.4-.92-.59-1.43-.59-.52 0-1.04.2-1.43.59L10.3 9.45l-7.72 7.72c-.78.78-.78 2.05 0 2.83L4 21.41c.39.39.9.59 1.41.59.51 0 1.02-.2 1.41-.59l7.78-7.78 2.81-2.81c.8-.78.8-2.07 0-2.86zM5.41 20L4 18.59l7.72-7.72 1.47 1.35L5.41 20z\"/>\n",
              "  </svg>\n",
              "      </button>\n",
              "      \n",
              "  <style>\n",
              "    .colab-df-container {\n",
              "      display:flex;\n",
              "      flex-wrap:wrap;\n",
              "      gap: 12px;\n",
              "    }\n",
              "\n",
              "    .colab-df-convert {\n",
              "      background-color: #E8F0FE;\n",
              "      border: none;\n",
              "      border-radius: 50%;\n",
              "      cursor: pointer;\n",
              "      display: none;\n",
              "      fill: #1967D2;\n",
              "      height: 32px;\n",
              "      padding: 0 0 0 0;\n",
              "      width: 32px;\n",
              "    }\n",
              "\n",
              "    .colab-df-convert:hover {\n",
              "      background-color: #E2EBFA;\n",
              "      box-shadow: 0px 1px 2px rgba(60, 64, 67, 0.3), 0px 1px 3px 1px rgba(60, 64, 67, 0.15);\n",
              "      fill: #174EA6;\n",
              "    }\n",
              "\n",
              "    [theme=dark] .colab-df-convert {\n",
              "      background-color: #3B4455;\n",
              "      fill: #D2E3FC;\n",
              "    }\n",
              "\n",
              "    [theme=dark] .colab-df-convert:hover {\n",
              "      background-color: #434B5C;\n",
              "      box-shadow: 0px 1px 3px 1px rgba(0, 0, 0, 0.15);\n",
              "      filter: drop-shadow(0px 1px 2px rgba(0, 0, 0, 0.3));\n",
              "      fill: #FFFFFF;\n",
              "    }\n",
              "  </style>\n",
              "\n",
              "      <script>\n",
              "        const buttonEl =\n",
              "          document.querySelector('#df-0ac5c196-2c0c-440b-8963-f0ced084b0d4 button.colab-df-convert');\n",
              "        buttonEl.style.display =\n",
              "          google.colab.kernel.accessAllowed ? 'block' : 'none';\n",
              "\n",
              "        async function convertToInteractive(key) {\n",
              "          const element = document.querySelector('#df-0ac5c196-2c0c-440b-8963-f0ced084b0d4');\n",
              "          const dataTable =\n",
              "            await google.colab.kernel.invokeFunction('convertToInteractive',\n",
              "                                                     [key], {});\n",
              "          if (!dataTable) return;\n",
              "\n",
              "          const docLinkHtml = 'Like what you see? Visit the ' +\n",
              "            '<a target=\"_blank\" href=https://colab.research.google.com/notebooks/data_table.ipynb>data table notebook</a>'\n",
              "            + ' to learn more about interactive tables.';\n",
              "          element.innerHTML = '';\n",
              "          dataTable['output_type'] = 'display_data';\n",
              "          await google.colab.output.renderOutput(dataTable, element);\n",
              "          const docLink = document.createElement('div');\n",
              "          docLink.innerHTML = docLinkHtml;\n",
              "          element.appendChild(docLink);\n",
              "        }\n",
              "      </script>\n",
              "    </div>\n",
              "  </div>\n",
              "  "
            ],
            "text/plain": [
              "   EMPLOYEE_ID FIRST_NAME LAST_NAME  ... COMMISSION_PCT MANAGER_ID DEPARTMENT_ID\n",
              "0          100     Steven      King  ...            NaN        NaN          90.0\n",
              "1          101      Neena   Kochhar  ...            NaN      100.0          90.0\n",
              "2          102        Lex   De Haan  ...            NaN      100.0          90.0\n",
              "3          103  Alexander    Hunold  ...            NaN      102.0          60.0\n",
              "4          104      Bruce     Ernst  ...            NaN      103.0          60.0\n",
              "\n",
              "[5 rows x 11 columns]"
            ]
          },
          "metadata": {},
          "execution_count": 31
        }
      ]
    },
    {
      "cell_type": "code",
      "source": [
        "# pandas boolean indexing\n",
        "emp.JOB_ID.head(10)"
      ],
      "metadata": {
        "colab": {
          "base_uri": "https://localhost:8080/"
        },
        "id": "5Q1u5ZwFD07T",
        "outputId": "743c2bfe-e48d-4d51-df2e-50f1645317a9"
      },
      "execution_count": 32,
      "outputs": [
        {
          "output_type": "execute_result",
          "data": {
            "text/plain": [
              "0       AD_PRES\n",
              "1         AD_VP\n",
              "2         AD_VP\n",
              "3       IT_PROG\n",
              "4       IT_PROG\n",
              "5       IT_PROG\n",
              "6       IT_PROG\n",
              "7       IT_PROG\n",
              "8        FI_MGR\n",
              "9    FI_ACCOUNT\n",
              "Name: JOB_ID, dtype: object"
            ]
          },
          "metadata": {},
          "execution_count": 32
        }
      ]
    },
    {
      "cell_type": "code",
      "source": [
        "(emp.JOB_ID == 'IT_PROG').head(10)"
      ],
      "metadata": {
        "colab": {
          "base_uri": "https://localhost:8080/"
        },
        "id": "l4aCuec-D73v",
        "outputId": "c63085ec-61e8-406b-ce35-5a4f3f7f81da"
      },
      "execution_count": 33,
      "outputs": [
        {
          "output_type": "execute_result",
          "data": {
            "text/plain": [
              "0    False\n",
              "1    False\n",
              "2    False\n",
              "3     True\n",
              "4     True\n",
              "5     True\n",
              "6     True\n",
              "7     True\n",
              "8    False\n",
              "9    False\n",
              "Name: JOB_ID, dtype: bool"
            ]
          },
          "metadata": {},
          "execution_count": 33
        }
      ]
    },
    {
      "cell_type": "code",
      "source": [
        "# 조건에 일치하는 행만 추출\n",
        "# 직책이 IT_PROG인 사원들의 모든 정보 추출\n",
        "emp[emp.JOB_ID == 'IT_PROG']"
      ],
      "metadata": {
        "colab": {
          "base_uri": "https://localhost:8080/",
          "height": 287
        },
        "id": "Kpyv4OJxEVD-",
        "outputId": "8fd4bdbe-5b3f-41d7-9b06-3933a513a271"
      },
      "execution_count": 34,
      "outputs": [
        {
          "output_type": "execute_result",
          "data": {
            "text/html": [
              "\n",
              "  <div id=\"df-4eee9b8d-af5b-4c85-9813-2c091277ccf6\">\n",
              "    <div class=\"colab-df-container\">\n",
              "      <div>\n",
              "<style scoped>\n",
              "    .dataframe tbody tr th:only-of-type {\n",
              "        vertical-align: middle;\n",
              "    }\n",
              "\n",
              "    .dataframe tbody tr th {\n",
              "        vertical-align: top;\n",
              "    }\n",
              "\n",
              "    .dataframe thead th {\n",
              "        text-align: right;\n",
              "    }\n",
              "</style>\n",
              "<table border=\"1\" class=\"dataframe\">\n",
              "  <thead>\n",
              "    <tr style=\"text-align: right;\">\n",
              "      <th></th>\n",
              "      <th>EMPLOYEE_ID</th>\n",
              "      <th>FIRST_NAME</th>\n",
              "      <th>LAST_NAME</th>\n",
              "      <th>EMAIL</th>\n",
              "      <th>PHONE_NUMBER</th>\n",
              "      <th>HIRE_DATE</th>\n",
              "      <th>JOB_ID</th>\n",
              "      <th>SALARY</th>\n",
              "      <th>COMMISSION_PCT</th>\n",
              "      <th>MANAGER_ID</th>\n",
              "      <th>DEPARTMENT_ID</th>\n",
              "    </tr>\n",
              "  </thead>\n",
              "  <tbody>\n",
              "    <tr>\n",
              "      <th>3</th>\n",
              "      <td>103</td>\n",
              "      <td>Alexander</td>\n",
              "      <td>Hunold</td>\n",
              "      <td>AHUNOLD</td>\n",
              "      <td>590.423.4567</td>\n",
              "      <td>2006-01-03</td>\n",
              "      <td>IT_PROG</td>\n",
              "      <td>9000</td>\n",
              "      <td>NaN</td>\n",
              "      <td>102.0</td>\n",
              "      <td>60.0</td>\n",
              "    </tr>\n",
              "    <tr>\n",
              "      <th>4</th>\n",
              "      <td>104</td>\n",
              "      <td>Bruce</td>\n",
              "      <td>Ernst</td>\n",
              "      <td>BERNST</td>\n",
              "      <td>590.423.4568</td>\n",
              "      <td>2007-05-21</td>\n",
              "      <td>IT_PROG</td>\n",
              "      <td>6000</td>\n",
              "      <td>NaN</td>\n",
              "      <td>103.0</td>\n",
              "      <td>60.0</td>\n",
              "    </tr>\n",
              "    <tr>\n",
              "      <th>5</th>\n",
              "      <td>105</td>\n",
              "      <td>David</td>\n",
              "      <td>Austin</td>\n",
              "      <td>DAUSTIN</td>\n",
              "      <td>590.423.4569</td>\n",
              "      <td>2005-06-25</td>\n",
              "      <td>IT_PROG</td>\n",
              "      <td>4800</td>\n",
              "      <td>NaN</td>\n",
              "      <td>103.0</td>\n",
              "      <td>60.0</td>\n",
              "    </tr>\n",
              "    <tr>\n",
              "      <th>6</th>\n",
              "      <td>106</td>\n",
              "      <td>Valli</td>\n",
              "      <td>Pataballa</td>\n",
              "      <td>VPATABAL</td>\n",
              "      <td>590.423.4560</td>\n",
              "      <td>2006-02-05</td>\n",
              "      <td>IT_PROG</td>\n",
              "      <td>4800</td>\n",
              "      <td>NaN</td>\n",
              "      <td>103.0</td>\n",
              "      <td>60.0</td>\n",
              "    </tr>\n",
              "    <tr>\n",
              "      <th>7</th>\n",
              "      <td>107</td>\n",
              "      <td>Diana</td>\n",
              "      <td>Lorentz</td>\n",
              "      <td>DLORENTZ</td>\n",
              "      <td>590.423.5567</td>\n",
              "      <td>2007-02-07</td>\n",
              "      <td>IT_PROG</td>\n",
              "      <td>4200</td>\n",
              "      <td>NaN</td>\n",
              "      <td>103.0</td>\n",
              "      <td>60.0</td>\n",
              "    </tr>\n",
              "  </tbody>\n",
              "</table>\n",
              "</div>\n",
              "      <button class=\"colab-df-convert\" onclick=\"convertToInteractive('df-4eee9b8d-af5b-4c85-9813-2c091277ccf6')\"\n",
              "              title=\"Convert this dataframe to an interactive table.\"\n",
              "              style=\"display:none;\">\n",
              "        \n",
              "  <svg xmlns=\"http://www.w3.org/2000/svg\" height=\"24px\"viewBox=\"0 0 24 24\"\n",
              "       width=\"24px\">\n",
              "    <path d=\"M0 0h24v24H0V0z\" fill=\"none\"/>\n",
              "    <path d=\"M18.56 5.44l.94 2.06.94-2.06 2.06-.94-2.06-.94-.94-2.06-.94 2.06-2.06.94zm-11 1L8.5 8.5l.94-2.06 2.06-.94-2.06-.94L8.5 2.5l-.94 2.06-2.06.94zm10 10l.94 2.06.94-2.06 2.06-.94-2.06-.94-.94-2.06-.94 2.06-2.06.94z\"/><path d=\"M17.41 7.96l-1.37-1.37c-.4-.4-.92-.59-1.43-.59-.52 0-1.04.2-1.43.59L10.3 9.45l-7.72 7.72c-.78.78-.78 2.05 0 2.83L4 21.41c.39.39.9.59 1.41.59.51 0 1.02-.2 1.41-.59l7.78-7.78 2.81-2.81c.8-.78.8-2.07 0-2.86zM5.41 20L4 18.59l7.72-7.72 1.47 1.35L5.41 20z\"/>\n",
              "  </svg>\n",
              "      </button>\n",
              "      \n",
              "  <style>\n",
              "    .colab-df-container {\n",
              "      display:flex;\n",
              "      flex-wrap:wrap;\n",
              "      gap: 12px;\n",
              "    }\n",
              "\n",
              "    .colab-df-convert {\n",
              "      background-color: #E8F0FE;\n",
              "      border: none;\n",
              "      border-radius: 50%;\n",
              "      cursor: pointer;\n",
              "      display: none;\n",
              "      fill: #1967D2;\n",
              "      height: 32px;\n",
              "      padding: 0 0 0 0;\n",
              "      width: 32px;\n",
              "    }\n",
              "\n",
              "    .colab-df-convert:hover {\n",
              "      background-color: #E2EBFA;\n",
              "      box-shadow: 0px 1px 2px rgba(60, 64, 67, 0.3), 0px 1px 3px 1px rgba(60, 64, 67, 0.15);\n",
              "      fill: #174EA6;\n",
              "    }\n",
              "\n",
              "    [theme=dark] .colab-df-convert {\n",
              "      background-color: #3B4455;\n",
              "      fill: #D2E3FC;\n",
              "    }\n",
              "\n",
              "    [theme=dark] .colab-df-convert:hover {\n",
              "      background-color: #434B5C;\n",
              "      box-shadow: 0px 1px 3px 1px rgba(0, 0, 0, 0.15);\n",
              "      filter: drop-shadow(0px 1px 2px rgba(0, 0, 0, 0.3));\n",
              "      fill: #FFFFFF;\n",
              "    }\n",
              "  </style>\n",
              "\n",
              "      <script>\n",
              "        const buttonEl =\n",
              "          document.querySelector('#df-4eee9b8d-af5b-4c85-9813-2c091277ccf6 button.colab-df-convert');\n",
              "        buttonEl.style.display =\n",
              "          google.colab.kernel.accessAllowed ? 'block' : 'none';\n",
              "\n",
              "        async function convertToInteractive(key) {\n",
              "          const element = document.querySelector('#df-4eee9b8d-af5b-4c85-9813-2c091277ccf6');\n",
              "          const dataTable =\n",
              "            await google.colab.kernel.invokeFunction('convertToInteractive',\n",
              "                                                     [key], {});\n",
              "          if (!dataTable) return;\n",
              "\n",
              "          const docLinkHtml = 'Like what you see? Visit the ' +\n",
              "            '<a target=\"_blank\" href=https://colab.research.google.com/notebooks/data_table.ipynb>data table notebook</a>'\n",
              "            + ' to learn more about interactive tables.';\n",
              "          element.innerHTML = '';\n",
              "          dataTable['output_type'] = 'display_data';\n",
              "          await google.colab.output.renderOutput(dataTable, element);\n",
              "          const docLink = document.createElement('div');\n",
              "          docLink.innerHTML = docLinkHtml;\n",
              "          element.appendChild(docLink);\n",
              "        }\n",
              "      </script>\n",
              "    </div>\n",
              "  </div>\n",
              "  "
            ],
            "text/plain": [
              "   EMPLOYEE_ID FIRST_NAME  LAST_NAME  ... COMMISSION_PCT MANAGER_ID DEPARTMENT_ID\n",
              "3          103  Alexander     Hunold  ...            NaN      102.0          60.0\n",
              "4          104      Bruce      Ernst  ...            NaN      103.0          60.0\n",
              "5          105      David     Austin  ...            NaN      103.0          60.0\n",
              "6          106      Valli  Pataballa  ...            NaN      103.0          60.0\n",
              "7          107      Diana    Lorentz  ...            NaN      103.0          60.0\n",
              "\n",
              "[5 rows x 11 columns]"
            ]
          },
          "metadata": {},
          "execution_count": 34
        }
      ]
    },
    {
      "cell_type": "code",
      "source": [
        "# 데이터프레임에 loc함수를 이용해서 조건에 일치하는 모든 변수들 중 특정 변수만 추출\n",
        "sal = emp.loc[emp.JOB_ID == 'IT_PROG', 'SALARY']\n",
        "print(sal)\n",
        "\n",
        "print(np.mean(sal))\n",
        "print(np.max(sal) - np.min(sal))\n",
        "var = np.var(sal, ddof=1)\n",
        "print(var, np.sqrt(var))"
      ],
      "metadata": {
        "colab": {
          "base_uri": "https://localhost:8080/"
        },
        "id": "uQVvCrhaEldo",
        "outputId": "d8a6b59a-47c1-43b9-f3a7-b878af54631d"
      },
      "execution_count": 36,
      "outputs": [
        {
          "output_type": "stream",
          "name": "stdout",
          "text": [
            "3    9000\n",
            "4    6000\n",
            "5    4800\n",
            "6    4800\n",
            "7    4200\n",
            "Name: SALARY, dtype: int64\n",
            "5760.0\n",
            "4800\n",
            "3708000.0 1925.6167843057456\n"
          ]
        }
      ]
    },
    {
      "cell_type": "markdown",
      "source": [
        "### 핫도그 먹기 대회 기술통계2"
      ],
      "metadata": {
        "id": "e9yqW4zpE_cP"
      }
    },
    {
      "cell_type": "code",
      "source": [
        "hotdog = pd.read_csv('/content/hotdog.csv')\n",
        "\n",
        "eats = hotdog['Dogs eaten']\n",
        "print(np.max(eats) - np.min(eats))\n",
        "\n",
        "var = np.var(eats, ddof=1)\n",
        "print(var, np.sqrt(var))"
      ],
      "metadata": {
        "colab": {
          "base_uri": "https://localhost:8080/"
        },
        "id": "WOn8hbkYElWQ",
        "outputId": "262bf6bf-a1eb-40bb-f1e6-a2bb7035e24d"
      },
      "execution_count": 39,
      "outputs": [
        {
          "output_type": "stream",
          "name": "stdout",
          "text": [
            "58.9\n",
            "361.11615161290325 19.003056375565045\n"
          ]
        }
      ]
    },
    {
      "cell_type": "markdown",
      "source": [
        "### 타이타닉 생존자 기술통계2"
      ],
      "metadata": {
        "id": "dAN_vnnDFbhj"
      }
    },
    {
      "cell_type": "code",
      "source": [
        "titanic = pd.read_csv('/content/titanic.csv')\n",
        "\n",
        "# titanic.tail()\n",
        "age = titanic['age']\n",
        "print(np.mean(age))\n",
        "print(np.max(age) - np.min(age))\n",
        "\n",
        "var = np.var(age, ddof=1)\n",
        "print(var, np.sqrt(var))"
      ],
      "metadata": {
        "colab": {
          "base_uri": "https://localhost:8080/"
        },
        "id": "dt2Yd4jbFeaa",
        "outputId": "c170e019-947e-4e30-e06a-b204a27ddaad"
      },
      "execution_count": 42,
      "outputs": [
        {
          "output_type": "stream",
          "name": "stdout",
          "text": [
            "29.8811345124283\n",
            "79.8333\n",
            "207.74897359969756 14.413499699923594\n"
          ]
        }
      ]
    },
    {
      "cell_type": "code",
      "source": [
        "fare = titanic['fare']\n",
        "print(np.mean(fare)) \n",
        "print(np.max(fare) - np.min(fare))\n",
        "\n",
        "var = np.var(fare, ddof=1)\n",
        "print(var, np.sqrt(var))\n",
        "\n",
        "titanic.tail()"
      ],
      "metadata": {
        "colab": {
          "base_uri": "https://localhost:8080/",
          "height": 258
        },
        "id": "ArFvQS_5FvZd",
        "outputId": "f14c3547-8c08-46bf-a2ed-d7439e25f1c8"
      },
      "execution_count": 45,
      "outputs": [
        {
          "output_type": "stream",
          "name": "stdout",
          "text": [
            "33.29547928134572\n",
            "512.3292\n",
            "2678.9597378928934 51.758668239174135\n"
          ]
        },
        {
          "output_type": "execute_result",
          "data": {
            "text/html": [
              "\n",
              "  <div id=\"df-ba6a9d6d-20d5-4027-b798-6a3c855adcf1\">\n",
              "    <div class=\"colab-df-container\">\n",
              "      <div>\n",
              "<style scoped>\n",
              "    .dataframe tbody tr th:only-of-type {\n",
              "        vertical-align: middle;\n",
              "    }\n",
              "\n",
              "    .dataframe tbody tr th {\n",
              "        vertical-align: top;\n",
              "    }\n",
              "\n",
              "    .dataframe thead th {\n",
              "        text-align: right;\n",
              "    }\n",
              "</style>\n",
              "<table border=\"1\" class=\"dataframe\">\n",
              "  <thead>\n",
              "    <tr style=\"text-align: right;\">\n",
              "      <th></th>\n",
              "      <th>pclass</th>\n",
              "      <th>survived</th>\n",
              "      <th>name</th>\n",
              "      <th>sex</th>\n",
              "      <th>age</th>\n",
              "      <th>sibsp</th>\n",
              "      <th>parch</th>\n",
              "      <th>ticket</th>\n",
              "      <th>fare</th>\n",
              "      <th>cabin</th>\n",
              "      <th>embarked</th>\n",
              "    </tr>\n",
              "  </thead>\n",
              "  <tbody>\n",
              "    <tr>\n",
              "      <th>1305</th>\n",
              "      <td>3.0</td>\n",
              "      <td>0.0</td>\n",
              "      <td>Zabour, Miss. Thamine</td>\n",
              "      <td>female</td>\n",
              "      <td>NaN</td>\n",
              "      <td>1.0</td>\n",
              "      <td>0.0</td>\n",
              "      <td>2665</td>\n",
              "      <td>14.45</td>\n",
              "      <td>NaN</td>\n",
              "      <td>C</td>\n",
              "    </tr>\n",
              "    <tr>\n",
              "      <th>1306</th>\n",
              "      <td>3.0</td>\n",
              "      <td>0.0</td>\n",
              "      <td>Zakarian, Mr. Mapriededer</td>\n",
              "      <td>male</td>\n",
              "      <td>26.5</td>\n",
              "      <td>0.0</td>\n",
              "      <td>0.0</td>\n",
              "      <td>2656</td>\n",
              "      <td>7.22</td>\n",
              "      <td>NaN</td>\n",
              "      <td>C</td>\n",
              "    </tr>\n",
              "    <tr>\n",
              "      <th>1307</th>\n",
              "      <td>3.0</td>\n",
              "      <td>0.0</td>\n",
              "      <td>Zakarian, Mr. Ortin</td>\n",
              "      <td>male</td>\n",
              "      <td>27.0</td>\n",
              "      <td>0.0</td>\n",
              "      <td>0.0</td>\n",
              "      <td>2670</td>\n",
              "      <td>7.22</td>\n",
              "      <td>NaN</td>\n",
              "      <td>C</td>\n",
              "    </tr>\n",
              "    <tr>\n",
              "      <th>1308</th>\n",
              "      <td>3.0</td>\n",
              "      <td>0.0</td>\n",
              "      <td>Zimmerman, Mr. Leo</td>\n",
              "      <td>male</td>\n",
              "      <td>29.0</td>\n",
              "      <td>0.0</td>\n",
              "      <td>0.0</td>\n",
              "      <td>315082</td>\n",
              "      <td>7.88</td>\n",
              "      <td>NaN</td>\n",
              "      <td>S</td>\n",
              "    </tr>\n",
              "    <tr>\n",
              "      <th>1309</th>\n",
              "      <td>NaN</td>\n",
              "      <td>NaN</td>\n",
              "      <td>NaN</td>\n",
              "      <td>NaN</td>\n",
              "      <td>NaN</td>\n",
              "      <td>NaN</td>\n",
              "      <td>NaN</td>\n",
              "      <td>NaN</td>\n",
              "      <td>NaN</td>\n",
              "      <td>NaN</td>\n",
              "      <td>NaN</td>\n",
              "    </tr>\n",
              "  </tbody>\n",
              "</table>\n",
              "</div>\n",
              "      <button class=\"colab-df-convert\" onclick=\"convertToInteractive('df-ba6a9d6d-20d5-4027-b798-6a3c855adcf1')\"\n",
              "              title=\"Convert this dataframe to an interactive table.\"\n",
              "              style=\"display:none;\">\n",
              "        \n",
              "  <svg xmlns=\"http://www.w3.org/2000/svg\" height=\"24px\"viewBox=\"0 0 24 24\"\n",
              "       width=\"24px\">\n",
              "    <path d=\"M0 0h24v24H0V0z\" fill=\"none\"/>\n",
              "    <path d=\"M18.56 5.44l.94 2.06.94-2.06 2.06-.94-2.06-.94-.94-2.06-.94 2.06-2.06.94zm-11 1L8.5 8.5l.94-2.06 2.06-.94-2.06-.94L8.5 2.5l-.94 2.06-2.06.94zm10 10l.94 2.06.94-2.06 2.06-.94-2.06-.94-.94-2.06-.94 2.06-2.06.94z\"/><path d=\"M17.41 7.96l-1.37-1.37c-.4-.4-.92-.59-1.43-.59-.52 0-1.04.2-1.43.59L10.3 9.45l-7.72 7.72c-.78.78-.78 2.05 0 2.83L4 21.41c.39.39.9.59 1.41.59.51 0 1.02-.2 1.41-.59l7.78-7.78 2.81-2.81c.8-.78.8-2.07 0-2.86zM5.41 20L4 18.59l7.72-7.72 1.47 1.35L5.41 20z\"/>\n",
              "  </svg>\n",
              "      </button>\n",
              "      \n",
              "  <style>\n",
              "    .colab-df-container {\n",
              "      display:flex;\n",
              "      flex-wrap:wrap;\n",
              "      gap: 12px;\n",
              "    }\n",
              "\n",
              "    .colab-df-convert {\n",
              "      background-color: #E8F0FE;\n",
              "      border: none;\n",
              "      border-radius: 50%;\n",
              "      cursor: pointer;\n",
              "      display: none;\n",
              "      fill: #1967D2;\n",
              "      height: 32px;\n",
              "      padding: 0 0 0 0;\n",
              "      width: 32px;\n",
              "    }\n",
              "\n",
              "    .colab-df-convert:hover {\n",
              "      background-color: #E2EBFA;\n",
              "      box-shadow: 0px 1px 2px rgba(60, 64, 67, 0.3), 0px 1px 3px 1px rgba(60, 64, 67, 0.15);\n",
              "      fill: #174EA6;\n",
              "    }\n",
              "\n",
              "    [theme=dark] .colab-df-convert {\n",
              "      background-color: #3B4455;\n",
              "      fill: #D2E3FC;\n",
              "    }\n",
              "\n",
              "    [theme=dark] .colab-df-convert:hover {\n",
              "      background-color: #434B5C;\n",
              "      box-shadow: 0px 1px 3px 1px rgba(0, 0, 0, 0.15);\n",
              "      filter: drop-shadow(0px 1px 2px rgba(0, 0, 0, 0.3));\n",
              "      fill: #FFFFFF;\n",
              "    }\n",
              "  </style>\n",
              "\n",
              "      <script>\n",
              "        const buttonEl =\n",
              "          document.querySelector('#df-ba6a9d6d-20d5-4027-b798-6a3c855adcf1 button.colab-df-convert');\n",
              "        buttonEl.style.display =\n",
              "          google.colab.kernel.accessAllowed ? 'block' : 'none';\n",
              "\n",
              "        async function convertToInteractive(key) {\n",
              "          const element = document.querySelector('#df-ba6a9d6d-20d5-4027-b798-6a3c855adcf1');\n",
              "          const dataTable =\n",
              "            await google.colab.kernel.invokeFunction('convertToInteractive',\n",
              "                                                     [key], {});\n",
              "          if (!dataTable) return;\n",
              "\n",
              "          const docLinkHtml = 'Like what you see? Visit the ' +\n",
              "            '<a target=\"_blank\" href=https://colab.research.google.com/notebooks/data_table.ipynb>data table notebook</a>'\n",
              "            + ' to learn more about interactive tables.';\n",
              "          element.innerHTML = '';\n",
              "          dataTable['output_type'] = 'display_data';\n",
              "          await google.colab.output.renderOutput(dataTable, element);\n",
              "          const docLink = document.createElement('div');\n",
              "          docLink.innerHTML = docLinkHtml;\n",
              "          element.appendChild(docLink);\n",
              "        }\n",
              "      </script>\n",
              "    </div>\n",
              "  </div>\n",
              "  "
            ],
            "text/plain": [
              "      pclass  survived                       name  ...   fare  cabin  embarked\n",
              "1305     3.0       0.0      Zabour, Miss. Thamine  ...  14.45    NaN         C\n",
              "1306     3.0       0.0  Zakarian, Mr. Mapriededer  ...   7.22    NaN         C\n",
              "1307     3.0       0.0        Zakarian, Mr. Ortin  ...   7.22    NaN         C\n",
              "1308     3.0       0.0         Zimmerman, Mr. Leo  ...   7.88    NaN         S\n",
              "1309     NaN       NaN                        NaN  ...    NaN    NaN       NaN\n",
              "\n",
              "[5 rows x 11 columns]"
            ]
          },
          "metadata": {},
          "execution_count": 45
        }
      ]
    },
    {
      "cell_type": "markdown",
      "source": [
        "# 사분위수\n",
        "\n",
        "* 데이터를 가장 작은 수부터 가장 큰 수까지 정렬하였을 때 1/4, 2/4, 3/4 위치에 있는 수를 의미\n",
        "* 이 각각의 수를 `1사분위수`, `2사분위수`, `3사분위수`라고 하며, `2사분위수`는 **중앙값**과 같음\n",
        "  + $Q_1$: 25% 지점\n",
        "  + $Q_2$: 50% 지점 (중앙값)\n",
        "  + $Q_3$: 75% 지점\n",
        "* 때때로 위치를 1/100단위로 나눈 경우도 있는데, 이때 `백분위수`를 사용함\n",
        "* 한편, 사분위수를 구하는 방법은 크게 **9가지**가 존재하는데, **대상 데이터의 유형**에 따라 적용방법이 다름\n",
        "* numpy의 percentile함수의 interpolation 속성으로 계산 방법을 지정할 수 있음 (nearst, lower, higher, linear, midpoint)\n",
        "\n",
        "* `사분위 범위(IQR, InterQuartile Range)`는 제3사분위수에서 제1사분위수 간의 범위\n",
        "* `사분위 범위` 사이의 구간에는 항상 전체 데이터의 **50%**가 포함 됨"
      ],
      "metadata": {
        "id": "lmheuwExGPQn"
      }
    },
    {
      "cell_type": "code",
      "source": [
        "nums = [1, 1, 2, 3, 3, 3, 4, 5, 5, 7]\n",
        "\n",
        "print(np.quantile(nums, .25))   # 1사분위수   # quantile: 변위치\n",
        "print(np.quantile(nums, .5))    # 2사분위수\n",
        "print(np.quantile(nums, .75))   # 3사분위수"
      ],
      "metadata": {
        "colab": {
          "base_uri": "https://localhost:8080/"
        },
        "id": "-TvgvMYGGuIt",
        "outputId": "6ac481cd-9318-4cdc-9f04-71c611734146"
      },
      "execution_count": 44,
      "outputs": [
        {
          "output_type": "stream",
          "name": "stdout",
          "text": [
            "2.25\n",
            "3.0\n",
            "4.75\n"
          ]
        }
      ]
    },
    {
      "cell_type": "markdown",
      "source": [
        "# 변동성을 이용한 특이값 진단\n",
        "\n",
        "* 대부분의 자료는 중심경향치 주변에 몰려있음\n",
        "* 변동성 측정치를 이용하면, 중심에서 벗어난 정도를 파악할 수 있음\n",
        "* 평균에서 벗어난 정도를 판단할 때는 **표준편차**를 사용\n",
        "* 평균에서 표준편차의 n배 떨어져 있으면 \"n 표준편차\"와 같이 표현\n",
        "* 중간값에서 벗어난 정도를 판단할 때는 IQR을 사용\n",
        "* 중심경향치에서 크게 벗어났다면 **특이값**으로 의심할 수 있음"
      ],
      "metadata": {
        "id": "clrSQMCqHF3j"
      }
    }
  ]
}